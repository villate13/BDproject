{
 "cells": [
  {
   "cell_type": "code",
   "execution_count": null,
   "metadata": {
    "tags": []
   },
   "outputs": [],
   "source": [
    "# Importamos JSON\n",
    "import json\n",
    "\n",
    "# Guardamos las credenciales para consumir api de twitter\n",
    "credentials = {\n",
    "    \"KEY\": \"c0Jlf7B9Ez56i6rsnBSeiBCii\",\n",
    "    \"KEY_SECRET\": \"yuCAV2TdGrvitWBGQondppKaxNlQfnrc5krRCYvNpu3miY2gQQ\",\n",
    "    \"TOKEN\": \"1279067386520440833-YLZvyZzPDZlQ3bGa5SH2fhugVPl4Cs\",\n",
    "    \"ACCESS_SECRET\": \"DZuy6rzCJFZ4723jVl2gITgf2jCXr1cqlFRtQXFytrIKD\"\n",
    "}\n",
    "\n",
    "credentials_PRO = {\n",
    "    \"KEY\": \"XqNe5tbaycDxrrIOVqHR1NoPk\",\n",
    "    \"KEY_SECRET\": \"wahClTvDgP1Kb7l8QgHJD6DTFhhgY9usDfFaXSY5bnLdlrnv4q\",\n",
    "    \"TOKEN\": \"1279025620287205377-OlltfTVwLqHRXklJPGAlAWvF7gC0bQ\",\n",
    "    \"ACCESS_SECRET\": \"rJX1qRcToTyZq4Aqam18YjT1rbmFRhKvNflgB5RELz9aM\"\n",
    "}\n",
    "\n",
    "credentials\n",
    "credentials_PRO"
   ]
  },
  {
   "cell_type": "code",
   "execution_count": null,
   "metadata": {
    "tags": []
   },
   "outputs": [],
   "source": [
    "# Intslamos Twythom\n",
    "!pip install twython"
   ]
  },
  {
   "cell_type": "code",
   "execution_count": null,
   "metadata": {},
   "outputs": [],
   "source": [
    "# Importar TwyThon (Consumir api de twitter)\n",
    "from twython import Twython\n",
    "\n",
    "# Objeto crendeiales\n",
    "tweets = Twython(credentials[\"KEY\"], credentials[\"KEY_SECRET\"])\n",
    "\n",
    "# Palabra a consultar\n",
    "word = \"Colombia\"\n",
    "# Consulta\n",
    "query = {\n",
    "    'q': word,\n",
    "    'result_type': 'popular',\n",
    "    'count': 2,\n",
    "    'lang': 'es'\n",
    "}\n",
    "\n",
    "query"
   ]
  },
  {
   "cell_type": "code",
   "execution_count": null,
   "metadata": {},
   "outputs": [],
   "source": [
    "consulta = tweets.search(**query)['statuses']\n",
    "#consulta"
   ]
  },
  {
   "cell_type": "code",
   "execution_count": null,
   "metadata": {},
   "outputs": [],
   "source": [
    "import pandas as pd\n",
    "\n",
    "df = pd.json_normalize(consulta)\n",
    "df"
   ]
  },
  {
   "cell_type": "code",
   "execution_count": null,
   "metadata": {},
   "outputs": [],
   "source": [
    "## consultar api tiempo real\n",
    "from twython import TwythonStreamer\n",
    "\n",
    "## Se guardara en un archivo .csv\n",
    "import csv\n",
    "\n",
    "#procesar los datos con filtro\n",
    "def process_tweet(tweet):\n",
    "    # guardar hashtag / contenido / usuario / localizacion / edad / mirar mas\n",
    "    d = {}\n",
    "    d[\"hashtags\"] = [hashtag[\"text\"] for hashtag in tweet['entities']['hashtags']]\n",
    "    d['text'] = tweet['text']\n",
    "    d['user'] = tweet['user']['screen_name']\n",
    "    d['user_location'] = tweet['user']['location']\n",
    "    return d\n",
    "\n",
    "# Heredando clase\n",
    "#se le pasa las credenciales (probar siempre con credentials normales.)\n",
    "class Streamer(TwythonStreamer):\n",
    "\n",
    "    #Datos recibidos\n",
    "    def on_success(self, data):\n",
    "        tweet_data = process_tweet(data)\n",
    "        self.save_tweet(tweet_data)\n",
    "\n",
    "    #Error\n",
    "    def on_error(self, status_code, data):\n",
    "        print(status_code, data)\n",
    "        self.disconnect()\n",
    "\n",
    "    #Guardar en un archivo el resultados\n",
    "    def save_tweet(self, tweet):\n",
    "        #reempalzar si no esta trabajando en visualstudio o no esta en la carpeta origen del proyecto\n",
    "        #with open(r'tweets.csv', 'a', encoding=\"utf-8\") as file: \n",
    "        with open(r'work/slides/data/tweets.csv', 'a', encoding=\"utf-8\") as file:\n",
    "            write = csv.writer(file)\n",
    "            write.writerow(list(tweet.values()))"
   ]
  },
  {
   "cell_type": "code",
   "execution_count": null,
   "metadata": {},
   "outputs": [],
   "source": [
    "# Intanciar\n",
    "stream =  Streamer(credentials['KEY'], credentials['KEY_SECRET'], credentials['TOKEN'], credentials['ACCESS_SECRET'])\n",
    "\n",
    "#Iniciar consulta en tiempo real\n",
    "stream.statuses.filter(track=\"Colombia\")\n",
    "# Para poder para la consulta y luego ver los resultados debe parar el proceso manualmente, es decir interrumpirlo.\n",
    "# dando click en el boton de interrupt IPython kernel"
   ]
  },
  {
   "cell_type": "code",
   "execution_count": null,
   "metadata": {},
   "outputs": [],
   "source": [
    "# #reempalzar si no esta trabajando en visualstudio o no esta en la carpeta origen del proyecto\n",
    "# tweetsRealTime = pd.read_csv(\"tweets.csv\")\n",
    "tweetsRealTime = pd.read_csv(\"work/slides/data/tweets.csv\")\n",
    "tweetsRealTime.head()"
   ]
  },
  {
   "cell_type": "code",
   "execution_count": null,
   "metadata": {},
   "outputs": [],
   "source": [
    "#Mostrando todo\n",
    "tweetsRealTime"
   ]
  },
  {
   "cell_type": "code",
   "execution_count": null,
   "metadata": {},
   "outputs": [],
   "source": [
    "from collections import Counter\n",
    "import ast\n",
    "\n",
    "tweets = pd.read_csv(\"work/slides/data/tweets.csv\")\n",
    "tweets"
   ]
  },
  {
   "cell_type": "code",
   "execution_count": null,
   "metadata": {
    "tags": []
   },
   "outputs": [],
   "source": [
    "# Instalamos geopy\n",
    "!pip install geopy"
   ]
  },
  {
   "cell_type": "code",
   "execution_count": null,
   "metadata": {
    "tags": []
   },
   "outputs": [],
   "source": [
    "# Instalamos gmplot\n",
    "!pip install gmplot"
   ]
  },
  {
   "cell_type": "code",
   "execution_count": null,
   "metadata": {},
   "outputs": [],
   "source": [
    "df = pd.DataFrame(tweets)\n",
    "\n",
    "df"
   ]
  },
  {
   "cell_type": "code",
   "execution_count": null,
   "metadata": {},
   "outputs": [],
   "source": [
    "from geopy.geocoders import Nominatim\n",
    "import gmplot\n",
    "\n",
    "geolocator = Nominatim(user_agent=\"BD-Project-JJ\")\n",
    "\n",
    "no_location = 0\n",
    "\n",
    "#revisar todos los tweets y agregar ubicaciones \n",
    "coordinates =  {'latitude': [], 'longitude': []}\n",
    "for count, user_location in enumerate(tweets.location):\n",
    "    try: \n",
    "        location = geolocator.geocode(user_location)\n",
    "\n",
    "        #si se encuentra coordenadas \n",
    "        if location:\n",
    "            coordinates['latitude'].append(location.latitude)\n",
    "            coordinates['longitude'].append(location.longitude)\n",
    "\n",
    "        else:\n",
    "            no_location += 1\n",
    "            coordinates['latitude'].append(0)\n",
    "            coordinates['longitude'].append(0)\n",
    "\n",
    "    except:\n",
    "        #si hay demasiads solicitudes de conexion\n",
    "        pass\n",
    "\n"
   ]
  },
  {
   "cell_type": "code",
   "execution_count": null,
   "metadata": {},
   "outputs": [],
   "source": [
    "#coordinates['latitude']\n",
    "no_location\n",
    "#tweets"
   ]
  },
  {
   "cell_type": "code",
   "execution_count": null,
   "metadata": {},
   "outputs": [],
   "source": [
    "data = tweets\n",
    "\n",
    "data['latitude'] = coordinates['latitude']\n",
    "data['longitude'] = coordinates['longitude']\n",
    "\n",
    "data.to_csv('work/slides/data/tweetCoordinates.csv', index = False, header=True)\n",
    "\n",
    "data\n"
   ]
  },
  {
   "cell_type": "code",
   "execution_count": null,
   "metadata": {},
   "outputs": [],
   "source": [
    "# instancia\n",
    "gmap = gmplot.GoogleMapPlotter(30,0,3)\n",
    "\n",
    "#insertar puntos en el mapa pasando una lista de coordenadas\n",
    "gmap.heatmap(coordinates['latitude'], coordinates['longitude'], radius=20)\n",
    "\n",
    "#Guardar el mapa\n",
    "gmap.draw('work/slides/heatmap.html')"
   ]
  }
 ],
 "metadata": {
  "kernelspec": {
   "display_name": "Python 3",
   "language": "python",
   "name": "python3"
  },
  "language_info": {
   "codemirror_mode": {
    "name": "ipython",
    "version": 3
   },
   "file_extension": ".py",
   "mimetype": "text/x-python",
   "name": "python",
   "nbconvert_exporter": "python",
   "pygments_lexer": "ipython3",
   "version": "3.7.6"
  }
 },
 "nbformat": 4,
 "nbformat_minor": 4
}