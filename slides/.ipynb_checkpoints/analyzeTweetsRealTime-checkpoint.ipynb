{
 "cells": [
  {
   "cell_type": "code",
   "execution_count": 1,
   "metadata": {},
   "outputs": [
    {
     "data": {
      "text/plain": [
       "{'KEY': 'XqNe5tbaycDxrrIOVqHR1NoPk',\n",
       " 'KEY_SECRET': 'wahClTvDgP1Kb7l8QgHJD6DTFhhgY9usDfFaXSY5bnLdlrnv4q',\n",
       " 'TOKEN': '1279025620287205377-OlltfTVwLqHRXklJPGAlAWvF7gC0bQ',\n",
       " 'ACCESS_SECRET': 'rJX1qRcToTyZq4Aqam18YjT1rbmFRhKvNflgB5RELz9aM'}"
      ]
     },
     "execution_count": 1,
     "metadata": {},
     "output_type": "execute_result"
    }
   ],
   "source": [
    "# Importamos JSON\n",
    "import json\n",
    "\n",
    "# Guardamos las credenciales para consumir api de twitter (sacadas de apps.twiiter.com)\n",
    "credentials = {\n",
    "    \"KEY\": \"c0Jlf7B9Ez56i6rsnBSeiBCii\",\n",
    "    \"KEY_SECRET\": \"yuCAV2TdGrvitWBGQondppKaxNlQfnrc5krRCYvNpu3miY2gQQ\",\n",
    "    \"TOKEN\": \"1279067386520440833-YLZvyZzPDZlQ3bGa5SH2fhugVPl4Cs\",\n",
    "    \"ACCESS_SECRET\": \"DZuy6rzCJFZ4723jVl2gITgf2jCXr1cqlFRtQXFytrIKD\"\n",
    "}\n",
    "\n",
    "credentials_PRO = {\n",
    "    \"KEY\": \"XqNe5tbaycDxrrIOVqHR1NoPk\",\n",
    "    \"KEY_SECRET\": \"wahClTvDgP1Kb7l8QgHJD6DTFhhgY9usDfFaXSY5bnLdlrnv4q\",\n",
    "    \"TOKEN\": \"1279025620287205377-OlltfTVwLqHRXklJPGAlAWvF7gC0bQ\",\n",
    "    \"ACCESS_SECRET\": \"rJX1qRcToTyZq4Aqam18YjT1rbmFRhKvNflgB5RELz9aM\"\n",
    "}\n",
    "\n",
    "credentials\n",
    "credentials_PRO"
   ]
  },
  {
   "cell_type": "code",
   "execution_count": 2,
   "metadata": {
    "tags": []
   },
   "outputs": [
    {
     "name": "stdout",
     "output_type": "stream",
     "text": [
      "Requirement already satisfied: twython in /opt/conda/lib/python3.7/site-packages (3.8.2)\n",
      "Requirement already satisfied: requests-oauthlib>=0.4.0 in /opt/conda/lib/python3.7/site-packages (from twython) (1.3.0)\n",
      "Requirement already satisfied: requests>=2.1.0 in /opt/conda/lib/python3.7/site-packages (from twython) (2.23.0)\n",
      "Requirement already satisfied: oauthlib>=3.0.0 in /opt/conda/lib/python3.7/site-packages (from requests-oauthlib>=0.4.0->twython) (3.0.1)\n",
      "Requirement already satisfied: idna<3,>=2.5 in /opt/conda/lib/python3.7/site-packages (from requests>=2.1.0->twython) (2.9)\n",
      "Requirement already satisfied: certifi>=2017.4.17 in /opt/conda/lib/python3.7/site-packages (from requests>=2.1.0->twython) (2020.4.5.1)\n",
      "Requirement already satisfied: chardet<4,>=3.0.2 in /opt/conda/lib/python3.7/site-packages (from requests>=2.1.0->twython) (3.0.4)\n",
      "Requirement already satisfied: urllib3!=1.25.0,!=1.25.1,<1.26,>=1.21.1 in /opt/conda/lib/python3.7/site-packages (from requests>=2.1.0->twython) (1.25.9)\n"
     ]
    }
   ],
   "source": [
    "# Intslamos Twythom\n",
    "!pip install twython"
   ]
  },
  {
   "cell_type": "code",
   "execution_count": 80,
   "metadata": {
    "tags": []
   },
   "outputs": [
    {
     "name": "stdout",
     "output_type": "stream",
     "text": [
      "Collecting geopy\n",
      "  Downloading geopy-2.0.0-py3-none-any.whl (111 kB)\n",
      "\u001b[K     |████████████████████████████████| 111 kB 334 kB/s \n",
      "\u001b[?25hCollecting geographiclib<2,>=1.49\n",
      "  Downloading geographiclib-1.50-py3-none-any.whl (38 kB)\n",
      "Installing collected packages: geographiclib, geopy\n",
      "Successfully installed geographiclib-1.50 geopy-2.0.0\n"
     ]
    }
   ],
   "source": [
    "# Instalamos geopy\n",
    "!pip install geopy"
   ]
  },
  {
   "cell_type": "code",
   "execution_count": 81,
   "metadata": {},
   "outputs": [],
   "source": [
    "#importamos las librerias necesarias\n",
    "import pandas as pd\n",
    "\n",
    "### consultar api tiempo real\n",
    "from twython import TwythonStreamer\n",
    "\n",
    "### Se guardara en un archivo .csv\n",
    "import csv\n",
    "\n",
    "## imortar libreria para buscar coordenadas\n",
    "from geopy.geocoders import Nominatim\n",
    "\n"
   ]
  },
  {
   "cell_type": "code",
   "execution_count": 85,
   "metadata": {},
   "outputs": [
    {
     "data": {
      "text/plain": [
       "[49.2822243, -122.8293424]"
      ]
     },
     "execution_count": 85,
     "metadata": {},
     "output_type": "execute_result"
    }
   ],
   "source": [
    "geolocator = Nominatim(user_agent=\"BD-Project-JJ\")\n",
    "\n",
    "coordinates =  []\n",
    "\n",
    "location = geolocator.geocode(\"Port Moody, British Columbia\")\n",
    "\n",
    "if location:\n",
    "    coordinates.append(location.latitude)\n",
    "    coordinates.append(location.longitude)\n",
    "else:\n",
    "    no_location += 1\n",
    "    coordinates.append(0)\n",
    "    coordinates.append(0)\n",
    "coordinates\n",
    "        "
   ]
  },
  {
   "cell_type": "code",
   "execution_count": 86,
   "metadata": {},
   "outputs": [],
   "source": [
    "geolocator = Nominatim(user_agent=\"BD-Project-JJ\")\n",
    "\n",
    "\n",
    "#procesar los datos con filtro\n",
    "def process_tweet(tweet):\n",
    "    # guardar fecha / hashtag / contenido / usuario / localizacion / tweet retwitteado / # respuestas del tweet / # me gustas / retwitteado con comentario /\n",
    "    try:\n",
    "\n",
    "        d = {}\n",
    "        d['date'] = tweet['created_at']\n",
    "        d[\"hashtags\"] = [hashtag[\"text\"] for hashtag in tweet['entities']['hashtags']]\n",
    "        d['text'] = tweet['text']\n",
    "        d['user'] = tweet['user']['screen_name']\n",
    "        d['verified'] = tweet['user']['verified']\n",
    "\n",
    "        d['followers'] = tweet['user']['followers_count']\n",
    "        d['following'] = tweet['user']['following']\n",
    "        d['Favorites'] = tweet['user']['favourites_count']\n",
    "\n",
    "        d['retweet'] = tweet['retweet_count']\n",
    "        d['quote'] = tweet['quote_count']\n",
    "        d['reply'] = tweet['reply_count'] \n",
    "        d['like'] = tweet['favorite_count']\n",
    "\n",
    "        d['language'] = tweet['lang']\n",
    "\n",
    "        ## guardar dispositivo\n",
    "        if \"andorid\" in tweet['source']:\n",
    "            d['device'] = \"ANDROID\"\n",
    "        elif \"iphone\" in tweet['source']:\n",
    "            d['device'] = \"IPHONE\"\n",
    "        elif \"ipad\" in tweet['source']:\n",
    "            d['device'] = \"IPAD\"\n",
    "        else:\n",
    "            d['device'] = \"WEB APP\"\n",
    "\n",
    "\n",
    "        d['user_location'] = tweet['user']['location']\n",
    "        ## guardar coordenadas ubicacion\n",
    "        if tweet['user']['location']:\n",
    "            coordinates = search_coordinates(tweet['user']['location'])\n",
    "            d['latitude'] = coordinates[0]\n",
    "            d['longitude'] = coordinates[1]\n",
    "        else:\n",
    "            d['latitude'] = \"NaN\"\n",
    "            d['longitude'] = \"NaN\"\n",
    "\n",
    "        return d\n",
    "    except KeyError:\n",
    "        print(tweet)\n",
    "        \n",
    "    except:\n",
    "        print(\"Error raro\")\n",
    "\n",
    "def search_coordinates(location):\n",
    "    #Buscar y guardar coordenadas\n",
    "    coordinates = []\n",
    "\n",
    "    location = geolocator.geocode(location)\n",
    "\n",
    "    if location:\n",
    "        coordinates.append(location.latitude)\n",
    "        coordinates.append(location.longitude)\n",
    "    else:\n",
    "        no_location += 1\n",
    "        coordinates.append(0)\n",
    "        coordinates.append(0)\n",
    "    return coordinates\n",
    "\n",
    "# Heredando clase\n",
    "#se le pasa las credenciales (probar siempre con credentials normales.)\n",
    "class Streamer(TwythonStreamer):\n",
    "\n",
    "    #Datos recibidos\n",
    "    def on_success(self, data):\n",
    "        #si se necesita poner un condicional\n",
    "        #if data['atributo'] == 'condicion':\n",
    "        #print(data)\n",
    "        if len(data) > 0:\n",
    "            tweet_data = process_tweet(data)\n",
    "            self.save_tweet(tweet_data)\n",
    "\n",
    "    #Error\n",
    "    def on_error(self, status_code, data):\n",
    "        print(status_code, data)\n",
    "        self.disconnect()\n",
    "\n",
    "    #Guardar en un archivo el resultados\n",
    "    def save_tweet(self, tweet):\n",
    "        #reempalzar si no esta trabajando en visualstudio o no esta en la carpeta origen del proyecto\n",
    "        #with open(r'tweets.csv', 'a', encoding=\"utf-8\") as file: \n",
    "        with open(r'work/slides/data/tweets.csv', 'a', encoding=\"utf-8\") as file:\n",
    "            write = csv.writer(file)\n",
    "            write.writerow(list(tweet.values()))"
   ]
  },
  {
   "cell_type": "code",
   "execution_count": 5,
   "metadata": {},
   "outputs": [],
   "source": [
    "### Recoleccion de datos"
   ]
  },
  {
   "cell_type": "code",
   "execution_count": 87,
   "metadata": {
    "tags": []
   },
   "outputs": [
    {
     "name": "stdout",
     "output_type": "stream",
     "text": [
      "Error raro\n"
     ]
    },
    {
     "ename": "AttributeError",
     "evalue": "'NoneType' object has no attribute 'values'",
     "output_type": "error",
     "traceback": [
      "\u001b[0;31m---------------------------------------------------------------------------\u001b[0m",
      "\u001b[0;31mAttributeError\u001b[0m                            Traceback (most recent call last)",
      "\u001b[0;32m<ipython-input-87-9fc414fe24bb>\u001b[0m in \u001b[0;36m<module>\u001b[0;34m\u001b[0m\n\u001b[1;32m      4\u001b[0m \u001b[0;34m\u001b[0m\u001b[0m\n\u001b[1;32m      5\u001b[0m \u001b[0;31m#Iniciar consulta en tiempo real\u001b[0m\u001b[0;34m\u001b[0m\u001b[0;34m\u001b[0m\u001b[0;34m\u001b[0m\u001b[0m\n\u001b[0;32m----> 6\u001b[0;31m \u001b[0mstream\u001b[0m\u001b[0;34m.\u001b[0m\u001b[0mstatuses\u001b[0m\u001b[0;34m.\u001b[0m\u001b[0mfilter\u001b[0m\u001b[0;34m(\u001b[0m\u001b[0mtrack\u001b[0m\u001b[0;34m=\u001b[0m\u001b[0;34m\"covid\"\u001b[0m\u001b[0;34m)\u001b[0m\u001b[0;34m\u001b[0m\u001b[0;34m\u001b[0m\u001b[0m\n\u001b[0m\u001b[1;32m      7\u001b[0m \u001b[0;31m# Para poder para la consulta y luego ver los resultados debe parar el proceso manualmente, es decir interrumpirlo.\u001b[0m\u001b[0;34m\u001b[0m\u001b[0;34m\u001b[0m\u001b[0;34m\u001b[0m\u001b[0m\n\u001b[1;32m      8\u001b[0m \u001b[0;31m# dando click en el boton de interrupt IPython kernel\u001b[0m\u001b[0;34m\u001b[0m\u001b[0;34m\u001b[0m\u001b[0;34m\u001b[0m\u001b[0m\n",
      "\u001b[0;32m/opt/conda/lib/python3.7/site-packages/twython/streaming/types.py\u001b[0m in \u001b[0;36mfilter\u001b[0;34m(self, **params)\u001b[0m\n\u001b[1;32m     45\u001b[0m         \u001b[0murl\u001b[0m \u001b[0;34m=\u001b[0m \u001b[0;34m'https://stream.twitter.com/%s/statuses/filter.json'\u001b[0m\u001b[0;31m \u001b[0m\u001b[0;31m\\\u001b[0m\u001b[0;34m\u001b[0m\u001b[0;34m\u001b[0m\u001b[0m\n\u001b[1;32m     46\u001b[0m               \u001b[0;34m%\u001b[0m \u001b[0mself\u001b[0m\u001b[0;34m.\u001b[0m\u001b[0mstreamer\u001b[0m\u001b[0;34m.\u001b[0m\u001b[0mapi_version\u001b[0m\u001b[0;34m\u001b[0m\u001b[0;34m\u001b[0m\u001b[0m\n\u001b[0;32m---> 47\u001b[0;31m         \u001b[0mself\u001b[0m\u001b[0;34m.\u001b[0m\u001b[0mstreamer\u001b[0m\u001b[0;34m.\u001b[0m\u001b[0m_request\u001b[0m\u001b[0;34m(\u001b[0m\u001b[0murl\u001b[0m\u001b[0;34m,\u001b[0m \u001b[0;34m'POST'\u001b[0m\u001b[0;34m,\u001b[0m \u001b[0mparams\u001b[0m\u001b[0;34m=\u001b[0m\u001b[0mparams\u001b[0m\u001b[0;34m)\u001b[0m\u001b[0;34m\u001b[0m\u001b[0;34m\u001b[0m\u001b[0m\n\u001b[0m\u001b[1;32m     48\u001b[0m \u001b[0;34m\u001b[0m\u001b[0m\n\u001b[1;32m     49\u001b[0m     \u001b[0;32mdef\u001b[0m \u001b[0msample\u001b[0m\u001b[0;34m(\u001b[0m\u001b[0mself\u001b[0m\u001b[0;34m,\u001b[0m \u001b[0;34m**\u001b[0m\u001b[0mparams\u001b[0m\u001b[0;34m)\u001b[0m\u001b[0;34m:\u001b[0m\u001b[0;34m\u001b[0m\u001b[0;34m\u001b[0m\u001b[0m\n",
      "\u001b[0;32m/opt/conda/lib/python3.7/site-packages/twython/streaming/api.py\u001b[0m in \u001b[0;36m_request\u001b[0;34m(self, url, method, params)\u001b[0m\n\u001b[1;32m    150\u001b[0m                                       not valid JSON.')\n\u001b[1;32m    151\u001b[0m                     \u001b[0;32melse\u001b[0m\u001b[0;34m:\u001b[0m\u001b[0;34m\u001b[0m\u001b[0;34m\u001b[0m\u001b[0m\n\u001b[0;32m--> 152\u001b[0;31m                         \u001b[0;32mif\u001b[0m \u001b[0mself\u001b[0m\u001b[0;34m.\u001b[0m\u001b[0mon_success\u001b[0m\u001b[0;34m(\u001b[0m\u001b[0mdata\u001b[0m\u001b[0;34m)\u001b[0m\u001b[0;34m:\u001b[0m  \u001b[0;31m# pragma: no cover\u001b[0m\u001b[0;34m\u001b[0m\u001b[0;34m\u001b[0m\u001b[0m\n\u001b[0m\u001b[1;32m    153\u001b[0m                             \u001b[0;32mfor\u001b[0m \u001b[0mmessage_type\u001b[0m \u001b[0;32min\u001b[0m \u001b[0mself\u001b[0m\u001b[0;34m.\u001b[0m\u001b[0mhandlers\u001b[0m\u001b[0;34m:\u001b[0m\u001b[0;34m\u001b[0m\u001b[0;34m\u001b[0m\u001b[0m\n\u001b[1;32m    154\u001b[0m                                 \u001b[0;32mif\u001b[0m \u001b[0mmessage_type\u001b[0m \u001b[0;32min\u001b[0m \u001b[0mdata\u001b[0m\u001b[0;34m:\u001b[0m\u001b[0;34m\u001b[0m\u001b[0;34m\u001b[0m\u001b[0m\n",
      "\u001b[0;32m<ipython-input-86-c48e9a9232de>\u001b[0m in \u001b[0;36mon_success\u001b[0;34m(self, data)\u001b[0m\n\u001b[1;32m     77\u001b[0m         \u001b[0;32mif\u001b[0m \u001b[0mlen\u001b[0m\u001b[0;34m(\u001b[0m\u001b[0mdata\u001b[0m\u001b[0;34m)\u001b[0m \u001b[0;34m>\u001b[0m \u001b[0;36m0\u001b[0m\u001b[0;34m:\u001b[0m\u001b[0;34m\u001b[0m\u001b[0;34m\u001b[0m\u001b[0m\n\u001b[1;32m     78\u001b[0m             \u001b[0mtweet_data\u001b[0m \u001b[0;34m=\u001b[0m \u001b[0mprocess_tweet\u001b[0m\u001b[0;34m(\u001b[0m\u001b[0mdata\u001b[0m\u001b[0;34m)\u001b[0m\u001b[0;34m\u001b[0m\u001b[0;34m\u001b[0m\u001b[0m\n\u001b[0;32m---> 79\u001b[0;31m             \u001b[0mself\u001b[0m\u001b[0;34m.\u001b[0m\u001b[0msave_tweet\u001b[0m\u001b[0;34m(\u001b[0m\u001b[0mtweet_data\u001b[0m\u001b[0;34m)\u001b[0m\u001b[0;34m\u001b[0m\u001b[0;34m\u001b[0m\u001b[0m\n\u001b[0m\u001b[1;32m     80\u001b[0m \u001b[0;34m\u001b[0m\u001b[0m\n\u001b[1;32m     81\u001b[0m     \u001b[0;31m#Error\u001b[0m\u001b[0;34m\u001b[0m\u001b[0;34m\u001b[0m\u001b[0;34m\u001b[0m\u001b[0m\n",
      "\u001b[0;32m<ipython-input-86-c48e9a9232de>\u001b[0m in \u001b[0;36msave_tweet\u001b[0;34m(self, tweet)\u001b[0m\n\u001b[1;32m     90\u001b[0m         \u001b[0;32mwith\u001b[0m \u001b[0mopen\u001b[0m\u001b[0;34m(\u001b[0m\u001b[0;34mr'work/slides/data/tweets.csv'\u001b[0m\u001b[0;34m,\u001b[0m \u001b[0;34m'a'\u001b[0m\u001b[0;34m,\u001b[0m \u001b[0mencoding\u001b[0m\u001b[0;34m=\u001b[0m\u001b[0;34m\"utf-8\"\u001b[0m\u001b[0;34m)\u001b[0m \u001b[0;32mas\u001b[0m \u001b[0mfile\u001b[0m\u001b[0;34m:\u001b[0m\u001b[0;34m\u001b[0m\u001b[0;34m\u001b[0m\u001b[0m\n\u001b[1;32m     91\u001b[0m             \u001b[0mwrite\u001b[0m \u001b[0;34m=\u001b[0m \u001b[0mcsv\u001b[0m\u001b[0;34m.\u001b[0m\u001b[0mwriter\u001b[0m\u001b[0;34m(\u001b[0m\u001b[0mfile\u001b[0m\u001b[0;34m)\u001b[0m\u001b[0;34m\u001b[0m\u001b[0;34m\u001b[0m\u001b[0m\n\u001b[0;32m---> 92\u001b[0;31m             \u001b[0mwrite\u001b[0m\u001b[0;34m.\u001b[0m\u001b[0mwriterow\u001b[0m\u001b[0;34m(\u001b[0m\u001b[0mlist\u001b[0m\u001b[0;34m(\u001b[0m\u001b[0mtweet\u001b[0m\u001b[0;34m.\u001b[0m\u001b[0mvalues\u001b[0m\u001b[0;34m(\u001b[0m\u001b[0;34m)\u001b[0m\u001b[0;34m)\u001b[0m\u001b[0;34m)\u001b[0m\u001b[0;34m\u001b[0m\u001b[0;34m\u001b[0m\u001b[0m\n\u001b[0m",
      "\u001b[0;31mAttributeError\u001b[0m: 'NoneType' object has no attribute 'values'"
     ]
    }
   ],
   "source": [
    "\n",
    "# Intanciar\n",
    "stream =  Streamer(credentials['KEY'], credentials['KEY_SECRET'], credentials['TOKEN'], credentials['ACCESS_SECRET'])\n",
    "#stream =  Streamer(credentials_PRO['KEY'], credentials_PRO['KEY_SECRET'], credentials_PRO['TOKEN'], credentials_PRO['ACCESS_SECRET'])\n",
    "\n",
    "#Iniciar consulta en tiempo real\n",
    "stream.statuses.filter(track=\"covid\")\n",
    "# Para poder para la consulta y luego ver los resultados debe parar el proceso manualmente, es decir interrumpirlo.\n",
    "# dando click en el boton de interrupt IPython kernel"
   ]
  },
  {
   "cell_type": "code",
   "execution_count": 88,
   "metadata": {},
   "outputs": [
    {
     "data": {
      "text/html": [
       "<div>\n",
       "<style scoped>\n",
       "    .dataframe tbody tr th:only-of-type {\n",
       "        vertical-align: middle;\n",
       "    }\n",
       "\n",
       "    .dataframe tbody tr th {\n",
       "        vertical-align: top;\n",
       "    }\n",
       "\n",
       "    .dataframe thead th {\n",
       "        text-align: right;\n",
       "    }\n",
       "</style>\n",
       "<table border=\"1\" class=\"dataframe\">\n",
       "  <thead>\n",
       "    <tr style=\"text-align: right;\">\n",
       "      <th></th>\n",
       "      <th>date</th>\n",
       "      <th>hashtags</th>\n",
       "      <th>text</th>\n",
       "      <th>user</th>\n",
       "      <th>verified</th>\n",
       "      <th>followers</th>\n",
       "      <th>following</th>\n",
       "      <th>Favorites</th>\n",
       "      <th>retweet</th>\n",
       "      <th>quote</th>\n",
       "      <th>reply</th>\n",
       "      <th>like</th>\n",
       "      <th>device</th>\n",
       "      <th>location</th>\n",
       "      <th>latitude</th>\n",
       "      <th>longitude</th>\n",
       "    </tr>\n",
       "  </thead>\n",
       "  <tbody>\n",
       "    <tr>\n",
       "      <th>0</th>\n",
       "      <td>Wed Jul 08 18:28:28 +0000 2020</td>\n",
       "      <td>[]</td>\n",
       "      <td>RT @ajsgmajc: Would anyone be surprised to hea...</td>\n",
       "      <td>ABCagny</td>\n",
       "      <td>False</td>\n",
       "      <td>1516</td>\n",
       "      <td>NaN</td>\n",
       "      <td>63873</td>\n",
       "      <td>0</td>\n",
       "      <td>0</td>\n",
       "      <td>0</td>\n",
       "      <td>0</td>\n",
       "      <td>IPHONE</td>\n",
       "      <td>United states</td>\n",
       "      <td>39.783730</td>\n",
       "      <td>-100.445882</td>\n",
       "    </tr>\n",
       "    <tr>\n",
       "      <th>1</th>\n",
       "      <td>Wed Jul 08 18:28:28 +0000 2020</td>\n",
       "      <td>[]</td>\n",
       "      <td>Da mucha pena que gente a la que considero rei...</td>\n",
       "      <td>Jr_1924</td>\n",
       "      <td>False</td>\n",
       "      <td>91</td>\n",
       "      <td>NaN</td>\n",
       "      <td>2282</td>\n",
       "      <td>0</td>\n",
       "      <td>0</td>\n",
       "      <td>0</td>\n",
       "      <td>0</td>\n",
       "      <td>WEB APP</td>\n",
       "      <td>Vallekas</td>\n",
       "      <td>40.379903</td>\n",
       "      <td>-3.626597</td>\n",
       "    </tr>\n",
       "    <tr>\n",
       "      <th>2</th>\n",
       "      <td>Wed Jul 08 18:28:28 +0000 2020</td>\n",
       "      <td>[]</td>\n",
       "      <td>RT @juanrallo: Vaya. Aquí el PSOE sí está a fa...</td>\n",
       "      <td>DickPurple</td>\n",
       "      <td>False</td>\n",
       "      <td>334</td>\n",
       "      <td>NaN</td>\n",
       "      <td>181</td>\n",
       "      <td>0</td>\n",
       "      <td>0</td>\n",
       "      <td>0</td>\n",
       "      <td>0</td>\n",
       "      <td>WEB APP</td>\n",
       "      <td>Málaga</td>\n",
       "      <td>36.721303</td>\n",
       "      <td>-4.421637</td>\n",
       "    </tr>\n",
       "  </tbody>\n",
       "</table>\n",
       "</div>"
      ],
      "text/plain": [
       "                             date hashtags  \\\n",
       "0  Wed Jul 08 18:28:28 +0000 2020       []   \n",
       "1  Wed Jul 08 18:28:28 +0000 2020       []   \n",
       "2  Wed Jul 08 18:28:28 +0000 2020       []   \n",
       "\n",
       "                                                text        user  verified  \\\n",
       "0  RT @ajsgmajc: Would anyone be surprised to hea...     ABCagny     False   \n",
       "1  Da mucha pena que gente a la que considero rei...     Jr_1924     False   \n",
       "2  RT @juanrallo: Vaya. Aquí el PSOE sí está a fa...  DickPurple     False   \n",
       "\n",
       "   followers  following  Favorites  retweet  quote  reply  like   device  \\\n",
       "0       1516        NaN      63873        0      0      0     0   IPHONE   \n",
       "1         91        NaN       2282        0      0      0     0  WEB APP   \n",
       "2        334        NaN        181        0      0      0     0  WEB APP   \n",
       "\n",
       "        location   latitude   longitude  \n",
       "0  United states  39.783730 -100.445882  \n",
       "1       Vallekas  40.379903   -3.626597  \n",
       "2         Málaga  36.721303   -4.421637  "
      ]
     },
     "execution_count": 88,
     "metadata": {},
     "output_type": "execute_result"
    }
   ],
   "source": [
    "tweets = pd.read_csv(\"work/slides/data/tweets.csv\")\n",
    "tweets"
   ]
  },
  {
   "cell_type": "code",
   "execution_count": null,
   "metadata": {},
   "outputs": [],
   "source": []
  }
 ],
 "metadata": {
  "kernelspec": {
   "display_name": "Python 3",
   "language": "python",
   "name": "python3"
  },
  "language_info": {
   "codemirror_mode": {
    "name": "ipython",
    "version": 3
   },
   "file_extension": ".py",
   "mimetype": "text/x-python",
   "name": "python",
   "nbconvert_exporter": "python",
   "pygments_lexer": "ipython3",
   "version": "3.7.6"
  }
 },
 "nbformat": 4,
 "nbformat_minor": 2
}
