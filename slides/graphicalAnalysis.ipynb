{
 "cells": [
  {
   "cell_type": "code",
   "execution_count": null,
   "metadata": {},
   "outputs": [],
   "source": [
    "#Se importa vaex\n",
    "import vaex\n",
    "import vaex.jupyter\n",
    "import numpy as np\n",
    "import pylab as plt\n",
    "%matplotlib inline"
   ]
  },
  {
   "cell_type": "code",
   "execution_count": null,
   "metadata": {},
   "outputs": [],
   "source": [
    "#Cargamos los datos que contienen longitud y latitud con el paquete vaex\n",
    "data = vaex.open('/home/jovyan/work/slides/data/tweetCoordinates.csv')\n",
    "data"
   ]
  },
  {
   "cell_type": "code",
   "execution_count": null,
   "metadata": {
    "scrolled": true,
    "tags": []
   },
   "outputs": [],
   "source": [
    "#Usando vaex se crea una grafica con la ubicacion de los tweets usando longitud y latitud\n",
    "data.plot_widget(data.longitude, \n",
    "               data.latitude, \n",
    "               shape=400, \n",
    "               limits='minmax',\n",
    "               f='log1p', \n",
    "               colormap='magma')"
   ]
  },
  {
   "cell_type": "code",
   "execution_count": null,
   "metadata": {},
   "outputs": [],
   "source": [
    "# Importamos el paquete pandas\n",
    "import pandas as pd"
   ]
  },
  {
   "cell_type": "code",
   "execution_count": null,
   "metadata": {
    "scrolled": false
   },
   "outputs": [],
   "source": [
    "# cargamos el archivo que contiene el total de tweets recolectados por medio de pandas\n",
    "data2 = pd.read_csv('/home/jovyan/work/slides/data/tweets.csv')\n",
    "data2"
   ]
  },
  {
   "cell_type": "code",
   "execution_count": null,
   "metadata": {
    "scrolled": true,
    "tags": []
   },
   "outputs": [],
   "source": [
    "# Normalizamos las columnas FollowerUser, FollowingUser, TweetsUser, FavoritesTweetsUser\n",
    "cols_to_norm = data2.columns[6:14]\n",
    "cols_to_norm\n",
    "\n",
    "data2[cols_to_norm] = data2[cols_to_norm].transform(lambda value: (value - value.mean()) / value.std())\n",
    "data2"
   ]
  },
  {
   "cell_type": "code",
   "execution_count": null,
   "metadata": {},
   "outputs": [],
   "source": [
    "# https://github.com/plotly/plotly.py/issues/1664#issuecomment-511773518\n",
    "import plotly.graph_objects as go\n",
    "import plotly.io as pio\n",
    "\n",
    "# Set default renderer\n",
    "pio.renderers.default = 'notebook+jupyterlab'  #  See [1]\n",
    "# Set default template\n",
    "pio.templates['slides'] = go.layout.Template(layout=dict(width=800, height=600))\n",
    "pio.templates.default = 'plotly+slides'  # See [2]"
   ]
  },
  {
   "cell_type": "code",
   "execution_count": null,
   "metadata": {},
   "outputs": [],
   "source": [
    "# Importing the packages\n",
    "from plotly.offline import iplot\n",
    "import cufflinks as cf\n",
    "cf.go_offline()"
   ]
  },
  {
   "cell_type": "code",
   "execution_count": null,
   "metadata": {
    "scrolled": true
   },
   "outputs": [],
   "source": [
    "# Segunda gráfica distribución de los diferentes dispositivos para realizar los Tweets \n",
    "data2['device'].iplot(kind='hist', bins=5, xTitle='Device',\n",
    "    linecolor='black', yTitle='Count', title='Device Distribution')"
   ]
  },
  {
   "cell_type": "code",
   "execution_count": null,
   "metadata": {
    "scrolled": true
   },
   "outputs": [],
   "source": [
    "# Tercera gráfica distribución de los diferentes idiomas usados para realizar los Tweets \n",
    "data2['language'].iplot(kind='hist', bins=5, xTitle='Language',\n",
    "    linecolor='black', yTitle='Count', title='Language Distribution')"
   ]
  },
  {
   "cell_type": "code",
   "execution_count": null,
   "metadata": {
    "scrolled": false
   },
   "outputs": [],
   "source": [
    "# Cuarta gráfica distribución de los diferentes idiomas usados para realizar los Tweets \n",
    "data2['verifieduser'].iplot(kind='hist', bins=5, xTitle='Verified Account',\n",
    "    linecolor='black', yTitle='Count', title='Verified Account Distribution')"
   ]
  },
  {
   "cell_type": "code",
   "execution_count": null,
   "metadata": {
    "scrolled": true
   },
   "outputs": [],
   "source": [
    "# Agregamos una nueva columna que hace referencia al sistema operativo del dispositivo donde se realizo el tweet\n",
    "# iOS se referenciara con un --> 0\n",
    "# Android se referenciara con un --> 1\n",
    "# Y con 2 Otros sistemas operativos como lo pueden ser Windows, Mac Os, Linux entre otros.\n",
    "data2.loc[data2['device'] == 'IPHONE', 'systemdevice'] = 0\n",
    "data2.loc[data2['device'] == 'ANDROID', 'systemdevice'] = 1\n",
    "data2.loc[data2['device'] == 'IPAD', 'systemdevice'] = 0\n",
    "data2.loc[data2['device'] == 'WEB APP', 'systemdevice'] = 2\n",
    "data2.loc[data2['device'] == 'OTHER', 'systemdevice'] = 2\n",
    "data2"
   ]
  },
  {
   "cell_type": "code",
   "execution_count": null,
   "metadata": {
    "scrolled": true
   },
   "outputs": [],
   "source": [
    "# Obtenemos una lista con todas nuestras columnas\n",
    "cols = list(data2)\n",
    "# Agregamos la columna \"SystemDevice\" en la posición 10 de nuestra lista\n",
    "cols.insert(10, cols.pop(cols.index('systemdevice')))"
   ]
  },
  {
   "cell_type": "code",
   "execution_count": null,
   "metadata": {},
   "outputs": [],
   "source": [
    "# Reordenamos las columnas de la tabla \"data2\" con el orden generado en la lista \"cols\"\n",
    "data2 = data2.loc[:, cols]\n",
    "data2"
   ]
  },
  {
   "cell_type": "code",
   "execution_count": null,
   "metadata": {
    "scrolled": false
   },
   "outputs": [],
   "source": [
    "# Quinta gráfica que nos muestra la diferente relacion entre seguidores, personas seguidas, cantidad de tweets realizados\n",
    "# y cantidad de tweets favoritos\n",
    "import plotly.express as px\n",
    "fig = px.parallel_coordinates(data2[data2.columns[6:11]],color='systemdevice',\n",
    "      color_continuous_scale=[(0, \"#1b9e77\"),   (0.5, \"#d95f02\"),\n",
    "                              (0.5, \"#d95f02\"),   (1, \"#7570b3\")])\n",
    "fig.update_layout(autosize=False,width=800,height=400)\n",
    "fig.show()"
   ]
  },
  {
   "cell_type": "code",
   "execution_count": null,
   "metadata": {},
   "outputs": [],
   "source": [
    "#Solo dejamos el año de creación de la cuenta.\n",
    "year = []\n",
    "for fecha in data2[\"registeredon\"]:\n",
    "    y = fecha.split()\n",
    "    year.append(y[len(y)-1])\n",
    "data2[\"registeredon\"] = year"
   ]
  },
  {
   "cell_type": "code",
   "execution_count": null,
   "metadata": {
    "scrolled": true
   },
   "outputs": [],
   "source": [
    "# Sexta gráfica distribución del año de creación de las cuentas de los usuarios. \n",
    "data2['registeredon'].iplot(kind='hist', bins=20, xTitle='Year',\n",
    "    linecolor='black', yTitle='Count', title='Year Account Was Created')"
   ]
  },
  {
   "cell_type": "code",
   "execution_count": null,
   "metadata": {},
   "outputs": [],
   "source": [
    "# Formato largo\n",
    "longTable = pd.melt(data2, id_vars=[\"date\",\"hashtags\",\"text\",\"user\",\"verifieduser\",\"registeredon\",\"retweet\",\"quote\",\"reply\",\"likes\",\"isquote\",\"originaldate\",\n",
    "                  \"originaltext\",\"originaluser\",\"originalverified\",\"originallocation\",\"originalquotecount\",\n",
    "                  \"originalreplycount\",\"originalretweetcount\",\"originalfavoritecount\",\"language\",\"device\",\n",
    "                  \"location\",\"latitude\",\"longitude\",\"systemdevice\"], var_name='myVars')\n",
    "longTable"
   ]
  },
  {
   "cell_type": "code",
   "execution_count": null,
   "metadata": {},
   "outputs": [],
   "source": [
    "# Septima gráfica HeapMap de las variables FollowerUser, FollowingUser, TweetsUser, FavoritesTweetsUser agrupados\n",
    "# por el idioma del usuario. \n",
    "import plotly.graph_objects as go\n",
    "fig = go.Figure(data=go.Heatmap(\n",
    "        z=longTable['value'],\n",
    "        x=longTable['language'],\n",
    "        y=longTable['myVars'],\n",
    "        colorscale='Viridis'));\n",
    "\n",
    "fig.update_layout(\n",
    "    xaxis_nticks=80,\n",
    "    autosize=False,width=1000,height=400);\n",
    "fig.show()"
   ]
  },
  {
   "cell_type": "code",
   "execution_count": null,
   "metadata": {
    "scrolled": true
   },
   "outputs": [],
   "source": [
    "# Cargamos nuevamente los datos originales\n",
    "data2 = pd.read_csv('/home/jovyan/work/slides/data/tweets.csv')\n",
    "data2"
   ]
  },
  {
   "cell_type": "code",
   "execution_count": null,
   "metadata": {
    "scrolled": true
   },
   "outputs": [],
   "source": [
    "# Octava gráfica que nos muestra la relacion entre la cantidad de tweets realizados por el usuario\n",
    "# vs la cantidad de tweets favoritos del usuario teniendo en cuenta si la cuenta es verficada o no y la cantidad \n",
    "# usuarios que siguen a la persona.\n",
    "fig = px.scatter(data2, x=\"tweetsuser\", y=\"favoritestweetsuser\", color=\"verifieduser\",\n",
    "                 size='followersuser', hover_data=['followersuser'])\n",
    "fig.show()"
   ]
  },
  {
   "cell_type": "code",
   "execution_count": null,
   "metadata": {},
   "outputs": [],
   "source": [
    "# Generamos la lista de los username o @ de twitter\n",
    "names = pd.DataFrame(data2, columns=['user'])\n",
    "text = \" \".join(name for name in names[\"user\"])"
   ]
  },
  {
   "cell_type": "code",
   "execution_count": null,
   "metadata": {
    "tags": []
   },
   "outputs": [],
   "source": [
    "#Instalamos Wordcloud\n",
    "!pip install wordcloud"
   ]
  },
  {
   "cell_type": "code",
   "execution_count": null,
   "metadata": {},
   "outputs": [],
   "source": [
    "#Importamos WordCloud, STOPWORDS, ImageColorGenerator\n",
    "from wordcloud import WordCloud, STOPWORDS, ImageColorGenerator\n",
    "import matplotlib.pyplot as plt\n",
    "%matplotlib inline"
   ]
  },
  {
   "cell_type": "code",
   "execution_count": null,
   "metadata": {},
   "outputs": [],
   "source": [
    "# Creamos la visualizacion de los username o @ de los usuarios de twitter que tomamos en los datos\n",
    "wordcloud = WordCloud(background_color=\"white\",width=900,height=600).generate(text)\n",
    "# Guardamos la imagen en nuestro sistema con el nombre de \"names_wordcloud.png\"\n",
    "wordcloud.to_file(\"/home/jovyan/work/slides/names_wordcloud.png\",)"
   ]
  },
  {
   "cell_type": "code",
   "execution_count": null,
   "metadata": {},
   "outputs": [],
   "source": [
    "# Visualizamos algunos de los usuarios que tomamos en la encuesta.\n",
    "plt.figure(figsize=[15,10])\n",
    "plt.imshow(wordcloud, interpolation='bilinear')\n",
    "plt.axis(\"off\")\n",
    "#plt.savefig('/home/jovyan/work/slides/names_wordcloud.png')\n",
    "plt.show()"
   ]
  },
  {
   "cell_type": "code",
   "execution_count": null,
   "metadata": {},
   "outputs": [],
   "source": [
    "#Guardamos todos los tweets#Guardamos todos los tweets\n",
    "tableAllTweets = pd.read_csv('/home/jovyan/work/slides/data/tweets.csv')"
   ]
  },
  {
   "cell_type": "code",
   "execution_count": null,
   "metadata": {},
   "outputs": [],
   "source": [
    "## Crear un histograma con columna isquote\n",
    "tableAllTweets[\"isquote\"]"
   ]
  },
  {
   "cell_type": "code",
   "execution_count": null,
   "metadata": {},
   "outputs": [],
   "source": [
    "# Eliminamos los tweets que no tiene un tweet original (es decir, tweets que son reply, retweet, o quote de otro tweet mas reciente)\n",
    "import numpy as np\n",
    "\n",
    "rows_no_quote = np.where(tableAllTweets['isquote']==False)[0]\n",
    "\n",
    "tweets_with_original_tweet = tableAllTweets.drop(rows_no_quote)\n",
    "\n"
   ]
  },
  {
   "cell_type": "code",
   "execution_count": null,
   "metadata": {},
   "outputs": [],
   "source": [
    "# Convertimos las columnas de fecha a tipo date \n",
    "# para luego verificar la cuanto tardo el usuario del tweet en responder al tweet original\n",
    "tweets_with_original_tweet['date'] = pd.to_datetime(tweets_with_original_tweet['date'])\n",
    "tweets_with_original_tweet['originaldate'] = pd.to_datetime(tweets_with_original_tweet['originaldate'])\n",
    "\n",
    "tweets_with_original_tweet.loc[tweets_with_original_tweet['isquote'] == True, 'responsetime'] = tweets_with_original_tweet['date'] - tweets_with_original_tweet['originaldate']\n",
    "\n",
    "\n",
    "tweets_with_original_tweet['responsetime'] = tweets_with_original_tweet['responsetime'] / np.timedelta64(1, 'm')\n",
    "\n",
    "#creamos columna para obtener solo el dia del tweet\n",
    "tweets_with_original_tweet.loc[tweets_with_original_tweet[\"date\"] != None, 'daydate'] = tweets_with_original_tweet[\"date\"].dt.day"
   ]
  },
  {
   "cell_type": "code",
   "execution_count": null,
   "metadata": {},
   "outputs": [],
   "source": [
    "# tweets_with_original_tweet.columns\n",
    "#tweets_with_original_tweet['daydate'].tolist()\n",
    "days = tweets_with_original_tweet[\"daydate\"].astype(str).values.tolist()\n",
    "days = list(set(days))\n",
    "\n",
    "days\n",
    "\n",
    "tweets_with_original_tweet[\"responsetime\"].mean()"
   ]
  },
  {
   "cell_type": "code",
   "execution_count": null,
   "metadata": {},
   "outputs": [],
   "source": [
    "## crear Long Table (tabla larga de datos)\n",
    "longTable_TWOT = pd.melt(tweets_with_original_tweet, id_vars=['date','user','verifieduser','originaldate', 'originaluser', 'originalverified', 'responsetime'], \n",
    "                    var_name='myVars')\n",
    "longTable_TWOT"
   ]
  },
  {
   "cell_type": "code",
   "execution_count": null,
   "metadata": {},
   "outputs": [],
   "source": [
    "import plotly.express as px\n",
    "\n",
    "fig = px.line(longTable_TWOT, x='date', y='responsetime', title='Time Series with Rangeslider')\n",
    "\n",
    "fig.update_xaxes(rangeslider_visible=True)\n",
    "fig.show()"
   ]
  },
  {
   "cell_type": "code",
   "execution_count": null,
   "metadata": {},
   "outputs": [],
   "source": [
    "#Generaremos grafiaca para determinar la respuesta minima , maxima y el promedio de cada dia que consultamos los datos\n",
    "#NOTA SOLO FUERON TRES DIAS DE RECOLECTA DE DATOS\n",
    "import plotly.graph_objects as go\n",
    "\n",
    "df = tweets_with_original_tweet\n",
    "x = days\n",
    "\n",
    "#generamos la lista de los minimos, maximos y los promedios por dia\n",
    "min_x_day = [999999999, 9999999999,999999999]\n",
    "max_x_day = [-1,-1,-1]\n",
    "mean_x_day = [0,0,0]\n",
    "\n",
    "## Buscamos dependiendo del dia cada valor\n",
    "for row in df.index:\n",
    "    i = df['responsetime'][row]\n",
    "    tweetday = df.daydate[row]\n",
    "    if str(tweetday) == str(days[0]):\n",
    "        if min_x_day[0] > i: min_x_day[0] = i\n",
    "        if max_x_day[0] < i: max_x_day[0] = i\n",
    "        mean_x_day[0] = (mean_x_day[0]+i) / 2\n",
    "\n",
    "    elif str(tweetday) == str(days[1]):\n",
    "        if min_x_day[1] > i: min_x_day[1] = i\n",
    "        if max_x_day[1] < i: max_x_day[1] = i\n",
    "        mean_x_day[1] = (mean_x_day[1]+i) / 2\n",
    "    elif str(tweetday) == str(days[2]):\n",
    "        if min_x_day[2] > i: min_x_day[2] = i\n",
    "        if max_x_day[2] < i: max_x_day[2] = i\n",
    "        mean_x_day[2] = (mean_x_day[2]+i) / 2\n",
    "\n",
    "#generamos la grafica\n",
    "fig = go.Figure()\n",
    "fig.add_trace(go.Bar(x=x, y=min_x_day, name='less response time'))\n",
    "fig.add_trace(go.Bar(x=x, y=max_x_day, name='longer response time'))\n",
    "fig.add_trace(go.Bar(x=x, y=mean_x_day, name='average response time'))\n",
    "# fig.add_trace(go.Bar(x=x, y=range5, name='+ 1 hora'))\n",
    "\n",
    "fig.update_layout(barmode='relative', title_text='Response times when replying to an original tweet')\n",
    "\n",
    "fig.update_layout(\n",
    "   \n",
    "    xaxis=dict(title='Days'),\n",
    "    yaxis=dict(\n",
    "        title='Response Time (Minutes)',\n",
    "        titlefont_size=16,\n",
    "        tickfont_size=14,\n",
    "    )\n",
    ")\n",
    "\n",
    "fig.show()"
   ]
  }
 ],
 "metadata": {
  "kernelspec": {
   "display_name": "Python 3",
   "language": "python",
   "name": "python3"
  },
  "language_info": {
   "codemirror_mode": {
    "name": "ipython",
    "version": 3
   },
   "file_extension": ".py",
   "mimetype": "text/x-python",
   "name": "python",
   "nbconvert_exporter": "python",
   "pygments_lexer": "ipython3",
   "version": "3.8.2-final"
  }
 },
 "nbformat": 4,
 "nbformat_minor": 4
}