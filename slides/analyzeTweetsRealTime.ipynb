{
 "cells": [
  {
   "cell_type": "code",
   "execution_count": null,
   "metadata": {},
   "outputs": [],
   "source": [
    "# Importamos JSON\n",
    "import json\n",
    "\n",
    "# Guardamos las credenciales para consumir api de twitter (sacadas de apps.twiiter.com)\n",
    "credentials = {\n",
    "    \"KEY\": \"c0Jlf7B9Ez56i6rsnBSeiBCii\",\n",
    "    \"KEY_SECRET\": \"yuCAV2TdGrvitWBGQondppKaxNlQfnrc5krRCYvNpu3miY2gQQ\",\n",
    "    \"TOKEN\": \"1279067386520440833-YLZvyZzPDZlQ3bGa5SH2fhugVPl4Cs\",\n",
    "    \"ACCESS_SECRET\": \"DZuy6rzCJFZ4723jVl2gITgf2jCXr1cqlFRtQXFytrIKD\"\n",
    "}\n",
    "\n",
    "credentials_PRO = {\n",
    "    \"KEY\": \"XqNe5tbaycDxrrIOVqHR1NoPk\",\n",
    "    \"KEY_SECRET\": \"wahClTvDgP1Kb7l8QgHJD6DTFhhgY9usDfFaXSY5bnLdlrnv4q\",\n",
    "    \"TOKEN\": \"1279025620287205377-OlltfTVwLqHRXklJPGAlAWvF7gC0bQ\",\n",
    "    \"ACCESS_SECRET\": \"rJX1qRcToTyZq4Aqam18YjT1rbmFRhKvNflgB5RELz9aM\"\n",
    "}\n",
    "\n",
    "credentials\n",
    "credentials_PRO"
   ]
  },
  {
   "cell_type": "code",
   "execution_count": null,
   "metadata": {
    "tags": []
   },
   "outputs": [],
   "source": [
    "# Intslamos Twythom\n",
    "!pip install twython"
   ]
  },
  {
   "cell_type": "code",
   "execution_count": null,
   "metadata": {
    "tags": []
   },
   "outputs": [],
   "source": [
    "# Instalamos geopy\n",
    "!pip install geopy"
   ]
  },
  {
   "cell_type": "code",
   "execution_count": null,
   "metadata": {},
   "outputs": [],
   "source": [
    "#importamos las librerias necesarias\n",
    "import pandas as pd\n",
    "\n",
    "### consultar api tiempo real\n",
    "from twython import TwythonStreamer\n",
    "\n",
    "### Se guardara en un archivo .csv\n",
    "import csv\n",
    "\n",
    "## imortar libreria para buscar coordenadas\n",
    "from geopy.geocoders import Nominatim\n",
    "\n"
   ]
  },
  {
   "cell_type": "code",
   "execution_count": null,
   "metadata": {},
   "outputs": [],
   "source": [
    "## EJEMPLO de como encontrra las coordenadas sabiendo el pais y/o ciudad\n",
    "geolocator = Nominatim(user_agent=\"BD-Project-JJ\")\n",
    "\n",
    "coordinates =  []\n",
    "\n",
    "location = geolocator.geocode(\"Port Moody, British Columbia\")\n",
    "\n",
    "if location:\n",
    "    coordinates.append(location.latitude)\n",
    "    coordinates.append(location.longitude)\n",
    "else:\n",
    "    no_location += 1\n",
    "    coordinates.append(0)\n",
    "    coordinates.append(0)\n",
    "coordinates\n",
    "        "
   ]
  },
  {
   "cell_type": "code",
   "execution_count": null,
   "metadata": {},
   "outputs": [],
   "source": [
    "geolocator = Nominatim(user_agent=\"BD-Project-JJ\")\n",
    "\n",
    "\n",
    "#procesar los datos con filtro\n",
    "def process_tweet(tweet):\n",
    "    # titulos\n",
    "    #date,hashtags,text,user,verifieduser,registeredon,followersuser,followinguser,tweetsuser,favoritestweetsuser,retweet,quote,reply,likes,isquote,originaldate,originaltext,originaluser,originalverified,originallocation,originalquotecount,originalreplycount,originalretweetcount,originalfavoritecount,language,device,location,latitude,longitude\n",
    "\n",
    "        d = {}\n",
    "        d['date'] = tweet['created_at']\n",
    "        d[\"hashtags\"] = [hashtag[\"text\"] for hashtag in tweet['entities']['hashtags']]\n",
    "        d['text'] = tweet['text']\n",
    "        #datos user\n",
    "        d['user'] = tweet['user']['screen_name']\n",
    "        d['verified'] = tweet['user']['verified']\n",
    "        d['created'] = tweet['user']['created_at']\n",
    "        d['followers'] = tweet['user']['followers_count']\n",
    "        d['following'] = tweet['user']['friends_count']\n",
    "        d['tweets'] = tweet['user']['statuses_count']\n",
    "        d['Favorites'] = tweet['user']['favourites_count']\n",
    "        \n",
    "        # datos tweet\n",
    "        d['retweet'] = tweet['retweet_count']\n",
    "        d['quote'] = tweet['quote_count']\n",
    "        d['reply'] = tweet['reply_count'] \n",
    "        d['like'] = tweet['favorite_count']\n",
    "\n",
    "        # Si tiene un tweet original\n",
    "        d['isQuote'] = tweet['is_quote_status']\n",
    "        if tweet['is_quote_status']:\n",
    "            d['originalTweetDate'] = tweet['quoted_status']['created_at']\n",
    "            d['originalTweetText'] = tweet['quoted_status']['text']\n",
    "            d['originalTweetUser'] = tweet['quoted_status']['user']['screen_name']\n",
    "            d['originalTweetVerified'] = tweet['quoted_status']['user']['verified']\n",
    "            d['originalTweetLocation'] = tweet['quoted_status']['user']['location']\n",
    "            d['originalTweetQuote'] = tweet['quoted_status']['quote_count']\n",
    "            d['originalTweetReply'] = tweet['quoted_status']['reply_count']\n",
    "            d['originalTweetRetweet'] = tweet['quoted_status']['retweet_count']\n",
    "            d['originalTweetFavorite'] = tweet['quoted_status']['favorite_count']\n",
    "        else:\n",
    "            d['originalTweetDate'] = \"None\"\n",
    "            d['originalTweetText'] = \"None\"\n",
    "            d['originalTweetUser'] = \"None\"\n",
    "            d['originalTweetVerified'] = \"None\"\n",
    "            d['originalTweetLocation'] = \"None\"\n",
    "            d['originalTweetQuote'] = \"None\"\n",
    "            d['originalTweetReply'] = \"None\"\n",
    "            d['originalTweetRetweet'] = \"None\"\n",
    "            d['originalTweetFavorite'] = \"None\"\n",
    "            \n",
    "                \n",
    "        d['language'] = tweet['lang']\n",
    "\n",
    "        ## guardar dispositivo\n",
    "        if \"android\" in tweet['source']:\n",
    "            d['device'] = \"ANDROID\"\n",
    "        elif \"iphone\" in tweet['source']:\n",
    "            d['device'] = \"IPHONE\"\n",
    "        elif \"ipad\" in tweet['source']:\n",
    "            d['device'] = \"IPAD\"\n",
    "        elif \"Web App\" in tweet['source']:\n",
    "            d['device'] = \"WEB APP\"\n",
    "        else:\n",
    "            d['device'] = \"OTHER\"\n",
    "\n",
    "\n",
    "        d['user_location'] = tweet['user']['location']\n",
    "        ## guardar coordenadas ubicacion\n",
    "        if tweet['user']['location']:\n",
    "            coordinates = search_coordinates(tweet['user']['location'])\n",
    "            d['latitude'] = coordinates[0]\n",
    "            d['longitude'] = coordinates[1]\n",
    "        else:\n",
    "            d['latitude'] = \"None\"\n",
    "            d['longitude'] = \"None\"\n",
    "\n",
    "\n",
    "        return d\n",
    "\n",
    "def search_coordinates(location):\n",
    "    #Buscar y guardar coordenadas\n",
    "    coordinates = []\n",
    "\n",
    "    location = geolocator.geocode(location)\n",
    "\n",
    "    if location:\n",
    "        coordinates.append(location.latitude)\n",
    "        coordinates.append(location.longitude)\n",
    "    else:\n",
    "        coordinates.append(\"None\")\n",
    "        coordinates.append(\"None\")\n",
    "    return coordinates\n",
    "\n",
    "# Heredando clase\n",
    "#se le pasa las credenciales (probar siempre con credentials normales.)\n",
    "class Streamer(TwythonStreamer):\n",
    "\n",
    "    #Datos recibidos\n",
    "    def on_success(self, data):\n",
    "        #si se necesita poner un condicional\n",
    "        #if data['atributo'] == 'condicion':\n",
    "        #print(data)\n",
    "        tweet_data = process_tweet(data)\n",
    "        self.save_tweet(tweet_data)\n",
    "\n",
    "    #Error\n",
    "    def on_error(self, status_code, data):\n",
    "        print(status_code, data)\n",
    "        self.disconnect()\n",
    "\n",
    "    #Guardar en un archivo el resultados\n",
    "    def save_tweet(self, tweet):\n",
    "        #reempalzar si no esta trabajando en visualstudio o no esta en la carpeta origen del proyecto\n",
    "        #with open(r'tweets.csv', 'a', encoding=\"utf-8\") as file: \n",
    "        with open(r'/home/jovyan/work/slides/data/tweets.csv', 'a', encoding=\"utf-8\") as file:\n",
    "            write = csv.writer(file)\n",
    "            write.writerow(list(tweet.values()))"
   ]
  },
  {
   "cell_type": "code",
   "execution_count": null,
   "metadata": {},
   "outputs": [],
   "source": [
    "### Recoleccion de datos"
   ]
  },
  {
   "cell_type": "code",
   "execution_count": null,
   "metadata": {
    "scrolled": true,
    "tags": []
   },
   "outputs": [],
   "source": [
    "\n",
    "# Intanciar\n",
    "#stream =  Streamer(credentials['KEY'], credentials['KEY_SECRET'], credentials['TOKEN'], credentials['ACCESS_SECRET'])\n",
    "stream =  Streamer(credentials_PRO['KEY'], credentials_PRO['KEY_SECRET'], credentials_PRO['TOKEN'], credentials_PRO['ACCESS_SECRET'])\n",
    "\n",
    "#Iniciar consulta en tiempo real\n",
    "stream.statuses.filter(track=\"covid\")\n",
    "# Para poder para la consulta y luego ver los resultados debe parar el proceso manualmente, es decir interrumpirlo.\n",
    "# dando click en el boton de interrupt IPython kernel"
   ]
  },
  {
   "cell_type": "code",
   "execution_count": null,
   "metadata": {
    "scrolled": false
   },
   "outputs": [],
   "source": [
    "tweets = pd.read_csv(\"/home/jovyan/work/slides/data/tweets.csv\")\n",
    "tweets"
   ]
  },
  {
   "cell_type": "code",
   "execution_count": null,
   "metadata": {},
   "outputs": [],
   "source": [
    "import numpy as np\n",
    "\n",
    "rows_no_coordinates = np.where(tweets['latitude']==\"None\")[0]\n",
    "\n",
    "tweets_with_coordinates = tweets.drop(rows_no_coordinates)\n",
    "\n",
    "tweets_with_coordinates"
   ]
  },
  {
   "cell_type": "code",
   "execution_count": null,
   "metadata": {},
   "outputs": [],
   "source": [
    "tweets_with_coordinates.to_csv(\"/home/jovyan/work/slides/data/tweetCoordinates.csv\",  index = False, header=True)"
   ]
  },
  {
   "cell_type": "code",
   "execution_count": null,
   "metadata": {
    "tags": []
   },
   "outputs": [],
   "source": [
    "# Intslamos gmplot\n",
    "!pip install gmplot"
   ]
  },
  {
   "cell_type": "code",
   "execution_count": null,
   "metadata": {},
   "outputs": [],
   "source": [
    "latitude = pd.to_numeric(tweets_with_coordinates[\"latitude\"], downcast=\"float\")\n",
    "longitude = pd.to_numeric(tweets_with_coordinates[\"longitude\"], downcast=\"float\")\n",
    "\n",
    "latitude"
   ]
  },
  {
   "cell_type": "code",
   "execution_count": null,
   "metadata": {},
   "outputs": [],
   "source": [
    "import gmplot\n",
    "\n",
    "# instancia\n",
    "gmap = gmplot.GoogleMapPlotter(30,0,3)\n",
    "\n",
    "#insertar puntos en el mapa pasando una lista de coordenadas\n",
    "gmap.heatmap(latitude.tolist(), longitude.to_list(), radius=5)\n",
    "\n",
    "\n",
    "#Guardar el mapa\n",
    "gmap.draw('/home/jovyan/work/slides/heatmap.html')"
   ]
  }
 ],
 "metadata": {
  "kernelspec": {
   "display_name": "Python 3",
   "language": "python",
   "name": "python3"
  },
  "language_info": {
   "codemirror_mode": {
    "name": "ipython",
    "version": 3
   },
   "file_extension": ".py",
   "mimetype": "text/x-python",
   "name": "python",
   "nbconvert_exporter": "python",
   "pygments_lexer": "ipython3",
   "version": "3.8.2-final"
  }
 },
 "nbformat": 4,
 "nbformat_minor": 2
}