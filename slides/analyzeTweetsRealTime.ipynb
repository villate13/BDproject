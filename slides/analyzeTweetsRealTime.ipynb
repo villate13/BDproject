{
 "cells": [
  {
   "cell_type": "code",
   "execution_count": 1,
   "metadata": {},
   "outputs": [
    {
     "output_type": "execute_result",
     "data": {
      "text/plain": "{'KEY': 'XqNe5tbaycDxrrIOVqHR1NoPk',\n 'KEY_SECRET': 'wahClTvDgP1Kb7l8QgHJD6DTFhhgY9usDfFaXSY5bnLdlrnv4q',\n 'TOKEN': '1279025620287205377-OlltfTVwLqHRXklJPGAlAWvF7gC0bQ',\n 'ACCESS_SECRET': 'rJX1qRcToTyZq4Aqam18YjT1rbmFRhKvNflgB5RELz9aM'}"
     },
     "metadata": {},
     "execution_count": 1
    }
   ],
   "source": [
    "# Importamos JSON\n",
    "import json\n",
    "\n",
    "# Guardamos las credenciales para consumir api de twitter (sacadas de apps.twiiter.com)\n",
    "credentials = {\n",
    "    \"KEY\": \"c0Jlf7B9Ez56i6rsnBSeiBCii\",\n",
    "    \"KEY_SECRET\": \"yuCAV2TdGrvitWBGQondppKaxNlQfnrc5krRCYvNpu3miY2gQQ\",\n",
    "    \"TOKEN\": \"1279067386520440833-YLZvyZzPDZlQ3bGa5SH2fhugVPl4Cs\",\n",
    "    \"ACCESS_SECRET\": \"DZuy6rzCJFZ4723jVl2gITgf2jCXr1cqlFRtQXFytrIKD\"\n",
    "}\n",
    "\n",
    "credentials_PRO = {\n",
    "    \"KEY\": \"XqNe5tbaycDxrrIOVqHR1NoPk\",\n",
    "    \"KEY_SECRET\": \"wahClTvDgP1Kb7l8QgHJD6DTFhhgY9usDfFaXSY5bnLdlrnv4q\",\n",
    "    \"TOKEN\": \"1279025620287205377-OlltfTVwLqHRXklJPGAlAWvF7gC0bQ\",\n",
    "    \"ACCESS_SECRET\": \"rJX1qRcToTyZq4Aqam18YjT1rbmFRhKvNflgB5RELz9aM\"\n",
    "}\n",
    "\n",
    "credentials\n",
    "credentials_PRO"
   ]
  },
  {
   "cell_type": "code",
   "execution_count": 2,
   "metadata": {
    "tags": []
   },
   "outputs": [
    {
     "output_type": "stream",
     "name": "stdout",
     "text": "Requirement already satisfied: twython in /opt/conda/lib/python3.7/site-packages (3.8.2)\nRequirement already satisfied: requests-oauthlib>=0.4.0 in /opt/conda/lib/python3.7/site-packages (from twython) (1.3.0)\nRequirement already satisfied: requests>=2.1.0 in /opt/conda/lib/python3.7/site-packages (from twython) (2.23.0)\nRequirement already satisfied: oauthlib>=3.0.0 in /opt/conda/lib/python3.7/site-packages (from requests-oauthlib>=0.4.0->twython) (3.0.1)\nRequirement already satisfied: urllib3!=1.25.0,!=1.25.1,<1.26,>=1.21.1 in /opt/conda/lib/python3.7/site-packages (from requests>=2.1.0->twython) (1.25.9)\nRequirement already satisfied: idna<3,>=2.5 in /opt/conda/lib/python3.7/site-packages (from requests>=2.1.0->twython) (2.9)\nRequirement already satisfied: chardet<4,>=3.0.2 in /opt/conda/lib/python3.7/site-packages (from requests>=2.1.0->twython) (3.0.4)\nRequirement already satisfied: certifi>=2017.4.17 in /opt/conda/lib/python3.7/site-packages (from requests>=2.1.0->twython) (2020.4.5.1)\n"
    }
   ],
   "source": [
    "# Intslamos Twythom\n",
    "!pip install twython"
   ]
  },
  {
   "cell_type": "code",
   "execution_count": 6,
   "metadata": {
    "tags": []
   },
   "outputs": [
    {
     "output_type": "stream",
     "name": "stdout",
     "text": "Requirement already satisfied: geopy in /opt/conda/lib/python3.7/site-packages (2.0.0)\nRequirement already satisfied: geographiclib<2,>=1.49 in /opt/conda/lib/python3.7/site-packages (from geopy) (1.50)\n"
    }
   ],
   "source": [
    "# Instalamos geopy\n",
    "!pip install geopy"
   ]
  },
  {
   "cell_type": "code",
   "execution_count": 5,
   "metadata": {},
   "outputs": [],
   "source": [
    "#importamos las librerias necesarias\n",
    "import pandas as pd\n",
    "\n",
    "### consultar api tiempo real\n",
    "from twython import TwythonStreamer\n",
    "\n",
    "### Se guardara en un archivo .csv\n",
    "import csv\n",
    "\n",
    "## imortar libreria para buscar coordenadas\n",
    "from geopy.geocoders import Nominatim\n",
    "\n"
   ]
  },
  {
   "cell_type": "code",
   "execution_count": 69,
   "metadata": {},
   "outputs": [
    {
     "output_type": "execute_result",
     "data": {
      "text/plain": "[49.2822243, -122.8293424]"
     },
     "metadata": {},
     "execution_count": 69
    }
   ],
   "source": [
    "## EJEMPLO de como encontrra las coordenadas sabiendo el pais y/o ciudad\n",
    "geolocator = Nominatim(user_agent=\"BD-Project-JJ\")\n",
    "\n",
    "coordinates =  []\n",
    "\n",
    "location = geolocator.geocode(\"Port Moody, British Columbia\")\n",
    "\n",
    "if location:\n",
    "    coordinates.append(location.latitude)\n",
    "    coordinates.append(location.longitude)\n",
    "else:\n",
    "    no_location += 1\n",
    "    coordinates.append(0)\n",
    "    coordinates.append(0)\n",
    "coordinates\n",
    "        "
   ]
  },
  {
   "cell_type": "code",
   "execution_count": 60,
   "metadata": {},
   "outputs": [],
   "source": [
    "geolocator = Nominatim(user_agent=\"BD-Project-JJ\")\n",
    "\n",
    "\n",
    "#procesar los datos con filtro\n",
    "def process_tweet(tweet):\n",
    "    # titulos\n",
    "    #date,hashtags,text,user,verifieduser,registeredon,followersuser,followinguser,tweetsuser,favoritestweetsuser,retweet,quote,reply,likes,isquote,originaldate,originaltext,originaluser,originalverified,originallocation,originalquotecount,originalreplycount,originalretweetcount,originalfavoritecount,language,device,location,latitude,longitude\n",
    "\n",
    "        d = {}\n",
    "        d['date'] = tweet['created_at']\n",
    "        d[\"hashtags\"] = [hashtag[\"text\"] for hashtag in tweet['entities']['hashtags']]\n",
    "        d['text'] = tweet['text']\n",
    "        #datos user\n",
    "        d['user'] = tweet['user']['screen_name']\n",
    "        d['verified'] = tweet['user']['verified']\n",
    "        d['created'] = tweet['user']['created_at']\n",
    "        d['followers'] = tweet['user']['followers_count']\n",
    "        d['following'] = tweet['user']['friends_count']\n",
    "        d['tweets'] = tweet['user']['statuses_count']\n",
    "        d['Favorites'] = tweet['user']['favourites_count']\n",
    "        \n",
    "        # datos tweet\n",
    "        d['retweet'] = tweet['retweet_count']\n",
    "        d['quote'] = tweet['quote_count']\n",
    "        d['reply'] = tweet['reply_count'] \n",
    "        d['like'] = tweet['favorite_count']\n",
    "\n",
    "        # Si tiene un tweet original\n",
    "        d['isQuote'] = tweet['is_quote_status']\n",
    "        if tweet['is_quote_status']:\n",
    "            d['originalTweetDate'] = tweet['quoted_status']['created_at']\n",
    "            d['originalTweetText'] = tweet['quoted_status']['text']\n",
    "            d['originalTweetUser'] = tweet['quoted_status']['user']['screen_name']\n",
    "            d['originalTweetVerified'] = tweet['quoted_status']['user']['verified']\n",
    "            d['originalTweetLocation'] = tweet['quoted_status']['user']['location']\n",
    "            d['originalTweetQuote'] = tweet['quoted_status']['quote_count']\n",
    "            d['originalTweetReply'] = tweet['quoted_status']['reply_count']\n",
    "            d['originalTweetRetweet'] = tweet['quoted_status']['retweet_count']\n",
    "            d['originalTweetFavorite'] = tweet['quoted_status']['favorite_count']\n",
    "        else:\n",
    "            d['originalTweetDate'] = \"None\"\n",
    "            d['originalTweetText'] = \"None\"\n",
    "            d['originalTweetUser'] = \"None\"\n",
    "            d['originalTweetVerified'] = \"None\"\n",
    "            d['originalTweetLocation'] = \"None\"\n",
    "            d['originalTweetQuote'] = \"None\"\n",
    "            d['originalTweetReply'] = \"None\"\n",
    "            d['originalTweetRetweet'] = \"None\"\n",
    "            d['originalTweetFavorite'] = \"None\"\n",
    "            \n",
    "                \n",
    "        d['language'] = tweet['lang']\n",
    "\n",
    "        ## guardar dispositivo\n",
    "        if \"android\" in tweet['source']:\n",
    "            d['device'] = \"ANDROID\"\n",
    "        elif \"iphone\" in tweet['source']:\n",
    "            d['device'] = \"IPHONE\"\n",
    "        elif \"ipad\" in tweet['source']:\n",
    "            d['device'] = \"IPAD\"\n",
    "        elif \"Web App\" in tweet['source']:\n",
    "            d['device'] = \"WEB APP\"\n",
    "        else:\n",
    "            d['device'] = \"OTHER\"\n",
    "\n",
    "\n",
    "        d['user_location'] = tweet['user']['location']\n",
    "        ## guardar coordenadas ubicacion\n",
    "        if tweet['user']['location']:\n",
    "            coordinates = search_coordinates(tweet['user']['location'])\n",
    "            d['latitude'] = coordinates[0]\n",
    "            d['longitude'] = coordinates[1]\n",
    "        else:\n",
    "            d['latitude'] = \"None\"\n",
    "            d['longitude'] = \"None\"\n",
    "\n",
    "\n",
    "        return d\n",
    "\n",
    "def search_coordinates(location):\n",
    "    #Buscar y guardar coordenadas\n",
    "    coordinates = []\n",
    "\n",
    "    location = geolocator.geocode(location)\n",
    "\n",
    "    if location:\n",
    "        coordinates.append(location.latitude)\n",
    "        coordinates.append(location.longitude)\n",
    "    else:\n",
    "        coordinates.append(\"None\")\n",
    "        coordinates.append(\"None\")\n",
    "    return coordinates\n",
    "\n",
    "# Heredando clase\n",
    "#se le pasa las credenciales (probar siempre con credentials normales.)\n",
    "class Streamer(TwythonStreamer):\n",
    "\n",
    "    #Datos recibidos\n",
    "    def on_success(self, data):\n",
    "        #si se necesita poner un condicional\n",
    "        #if data['atributo'] == 'condicion':\n",
    "        #print(data)\n",
    "        tweet_data = process_tweet(data)\n",
    "        self.save_tweet(tweet_data)\n",
    "\n",
    "    #Error\n",
    "    def on_error(self, status_code, data):\n",
    "        print(status_code, data)\n",
    "        self.disconnect()\n",
    "\n",
    "    #Guardar en un archivo el resultados\n",
    "    def save_tweet(self, tweet):\n",
    "        #reempalzar si no esta trabajando en visualstudio o no esta en la carpeta origen del proyecto\n",
    "        #with open(r'tweets.csv', 'a', encoding=\"utf-8\") as file: \n",
    "        with open(r'/home/jovyan/work/slides/data/tweets.csv', 'a', encoding=\"utf-8\") as file:\n",
    "            write = csv.writer(file)\n",
    "            write.writerow(list(tweet.values()))"
   ]
  },
  {
   "cell_type": "code",
   "execution_count": 5,
   "metadata": {},
   "outputs": [],
   "source": [
    "### Recoleccion de datos"
   ]
  },
  {
   "cell_type": "code",
   "execution_count": 61,
   "metadata": {
    "tags": []
   },
   "outputs": [
    {
     "output_type": "error",
     "ename": "KeyError",
     "evalue": "'created_at'",
     "traceback": [
      "\u001b[0;31m---------------------------------------------------------------------------\u001b[0m",
      "\u001b[0;31mKeyError\u001b[0m                                  Traceback (most recent call last)",
      "\u001b[0;32m<ipython-input-61-9fc414fe24bb>\u001b[0m in \u001b[0;36m<module>\u001b[0;34m\u001b[0m\n\u001b[1;32m      4\u001b[0m \u001b[0;34m\u001b[0m\u001b[0m\n\u001b[1;32m      5\u001b[0m \u001b[0;31m#Iniciar consulta en tiempo real\u001b[0m\u001b[0;34m\u001b[0m\u001b[0;34m\u001b[0m\u001b[0;34m\u001b[0m\u001b[0m\n\u001b[0;32m----> 6\u001b[0;31m \u001b[0mstream\u001b[0m\u001b[0;34m.\u001b[0m\u001b[0mstatuses\u001b[0m\u001b[0;34m.\u001b[0m\u001b[0mfilter\u001b[0m\u001b[0;34m(\u001b[0m\u001b[0mtrack\u001b[0m\u001b[0;34m=\u001b[0m\u001b[0;34m\"covid\"\u001b[0m\u001b[0;34m)\u001b[0m\u001b[0;34m\u001b[0m\u001b[0;34m\u001b[0m\u001b[0m\n\u001b[0m\u001b[1;32m      7\u001b[0m \u001b[0;31m# Para poder para la consulta y luego ver los resultados debe parar el proceso manualmente, es decir interrumpirlo.\u001b[0m\u001b[0;34m\u001b[0m\u001b[0;34m\u001b[0m\u001b[0;34m\u001b[0m\u001b[0m\n\u001b[1;32m      8\u001b[0m \u001b[0;31m# dando click en el boton de interrupt IPython kernel\u001b[0m\u001b[0;34m\u001b[0m\u001b[0;34m\u001b[0m\u001b[0;34m\u001b[0m\u001b[0m\n",
      "\u001b[0;32m/opt/conda/lib/python3.7/site-packages/twython/streaming/types.py\u001b[0m in \u001b[0;36mfilter\u001b[0;34m(self, **params)\u001b[0m\n\u001b[1;32m     45\u001b[0m         \u001b[0murl\u001b[0m \u001b[0;34m=\u001b[0m \u001b[0;34m'https://stream.twitter.com/%s/statuses/filter.json'\u001b[0m\u001b[0;31m \u001b[0m\u001b[0;31m\\\u001b[0m\u001b[0;34m\u001b[0m\u001b[0;34m\u001b[0m\u001b[0m\n\u001b[1;32m     46\u001b[0m               \u001b[0;34m%\u001b[0m \u001b[0mself\u001b[0m\u001b[0;34m.\u001b[0m\u001b[0mstreamer\u001b[0m\u001b[0;34m.\u001b[0m\u001b[0mapi_version\u001b[0m\u001b[0;34m\u001b[0m\u001b[0;34m\u001b[0m\u001b[0m\n\u001b[0;32m---> 47\u001b[0;31m         \u001b[0mself\u001b[0m\u001b[0;34m.\u001b[0m\u001b[0mstreamer\u001b[0m\u001b[0;34m.\u001b[0m\u001b[0m_request\u001b[0m\u001b[0;34m(\u001b[0m\u001b[0murl\u001b[0m\u001b[0;34m,\u001b[0m \u001b[0;34m'POST'\u001b[0m\u001b[0;34m,\u001b[0m \u001b[0mparams\u001b[0m\u001b[0;34m=\u001b[0m\u001b[0mparams\u001b[0m\u001b[0;34m)\u001b[0m\u001b[0;34m\u001b[0m\u001b[0;34m\u001b[0m\u001b[0m\n\u001b[0m\u001b[1;32m     48\u001b[0m \u001b[0;34m\u001b[0m\u001b[0m\n\u001b[1;32m     49\u001b[0m     \u001b[0;32mdef\u001b[0m \u001b[0msample\u001b[0m\u001b[0;34m(\u001b[0m\u001b[0mself\u001b[0m\u001b[0;34m,\u001b[0m \u001b[0;34m**\u001b[0m\u001b[0mparams\u001b[0m\u001b[0;34m)\u001b[0m\u001b[0;34m:\u001b[0m\u001b[0;34m\u001b[0m\u001b[0;34m\u001b[0m\u001b[0m\n",
      "\u001b[0;32m/opt/conda/lib/python3.7/site-packages/twython/streaming/api.py\u001b[0m in \u001b[0;36m_request\u001b[0;34m(self, url, method, params)\u001b[0m\n\u001b[1;32m    150\u001b[0m                                       not valid JSON.')\n\u001b[1;32m    151\u001b[0m                     \u001b[0;32melse\u001b[0m\u001b[0;34m:\u001b[0m\u001b[0;34m\u001b[0m\u001b[0;34m\u001b[0m\u001b[0m\n\u001b[0;32m--> 152\u001b[0;31m                         \u001b[0;32mif\u001b[0m \u001b[0mself\u001b[0m\u001b[0;34m.\u001b[0m\u001b[0mon_success\u001b[0m\u001b[0;34m(\u001b[0m\u001b[0mdata\u001b[0m\u001b[0;34m)\u001b[0m\u001b[0;34m:\u001b[0m  \u001b[0;31m# pragma: no cover\u001b[0m\u001b[0;34m\u001b[0m\u001b[0;34m\u001b[0m\u001b[0m\n\u001b[0m\u001b[1;32m    153\u001b[0m                             \u001b[0;32mfor\u001b[0m \u001b[0mmessage_type\u001b[0m \u001b[0;32min\u001b[0m \u001b[0mself\u001b[0m\u001b[0;34m.\u001b[0m\u001b[0mhandlers\u001b[0m\u001b[0;34m:\u001b[0m\u001b[0;34m\u001b[0m\u001b[0;34m\u001b[0m\u001b[0m\n\u001b[1;32m    154\u001b[0m                                 \u001b[0;32mif\u001b[0m \u001b[0mmessage_type\u001b[0m \u001b[0;32min\u001b[0m \u001b[0mdata\u001b[0m\u001b[0;34m:\u001b[0m\u001b[0;34m\u001b[0m\u001b[0;34m\u001b[0m\u001b[0m\n",
      "\u001b[0;32m<ipython-input-60-cf46ecfabf78>\u001b[0m in \u001b[0;36mon_success\u001b[0;34m(self, data)\u001b[0m\n\u001b[1;32m    101\u001b[0m         \u001b[0;31m#if data['atributo'] == 'condicion':\u001b[0m\u001b[0;34m\u001b[0m\u001b[0;34m\u001b[0m\u001b[0;34m\u001b[0m\u001b[0m\n\u001b[1;32m    102\u001b[0m         \u001b[0;31m#print(data)\u001b[0m\u001b[0;34m\u001b[0m\u001b[0;34m\u001b[0m\u001b[0;34m\u001b[0m\u001b[0m\n\u001b[0;32m--> 103\u001b[0;31m         \u001b[0mtweet_data\u001b[0m \u001b[0;34m=\u001b[0m \u001b[0mprocess_tweet\u001b[0m\u001b[0;34m(\u001b[0m\u001b[0mdata\u001b[0m\u001b[0;34m)\u001b[0m\u001b[0;34m\u001b[0m\u001b[0;34m\u001b[0m\u001b[0m\n\u001b[0m\u001b[1;32m    104\u001b[0m         \u001b[0mself\u001b[0m\u001b[0;34m.\u001b[0m\u001b[0msave_tweet\u001b[0m\u001b[0;34m(\u001b[0m\u001b[0mtweet_data\u001b[0m\u001b[0;34m)\u001b[0m\u001b[0;34m\u001b[0m\u001b[0;34m\u001b[0m\u001b[0m\n\u001b[1;32m    105\u001b[0m \u001b[0;34m\u001b[0m\u001b[0m\n",
      "\u001b[0;32m<ipython-input-60-cf46ecfabf78>\u001b[0m in \u001b[0;36mprocess_tweet\u001b[0;34m(tweet)\u001b[0m\n\u001b[1;32m      8\u001b[0m \u001b[0;34m\u001b[0m\u001b[0m\n\u001b[1;32m      9\u001b[0m         \u001b[0md\u001b[0m \u001b[0;34m=\u001b[0m \u001b[0;34m{\u001b[0m\u001b[0;34m}\u001b[0m\u001b[0;34m\u001b[0m\u001b[0;34m\u001b[0m\u001b[0m\n\u001b[0;32m---> 10\u001b[0;31m         \u001b[0md\u001b[0m\u001b[0;34m[\u001b[0m\u001b[0;34m'date'\u001b[0m\u001b[0;34m]\u001b[0m \u001b[0;34m=\u001b[0m \u001b[0mtweet\u001b[0m\u001b[0;34m[\u001b[0m\u001b[0;34m'created_at'\u001b[0m\u001b[0;34m]\u001b[0m\u001b[0;34m\u001b[0m\u001b[0;34m\u001b[0m\u001b[0m\n\u001b[0m\u001b[1;32m     11\u001b[0m         \u001b[0md\u001b[0m\u001b[0;34m[\u001b[0m\u001b[0;34m\"hashtags\"\u001b[0m\u001b[0;34m]\u001b[0m \u001b[0;34m=\u001b[0m \u001b[0;34m[\u001b[0m\u001b[0mhashtag\u001b[0m\u001b[0;34m[\u001b[0m\u001b[0;34m\"text\"\u001b[0m\u001b[0;34m]\u001b[0m \u001b[0;32mfor\u001b[0m \u001b[0mhashtag\u001b[0m \u001b[0;32min\u001b[0m \u001b[0mtweet\u001b[0m\u001b[0;34m[\u001b[0m\u001b[0;34m'entities'\u001b[0m\u001b[0;34m]\u001b[0m\u001b[0;34m[\u001b[0m\u001b[0;34m'hashtags'\u001b[0m\u001b[0;34m]\u001b[0m\u001b[0;34m]\u001b[0m\u001b[0;34m\u001b[0m\u001b[0;34m\u001b[0m\u001b[0m\n\u001b[1;32m     12\u001b[0m         \u001b[0md\u001b[0m\u001b[0;34m[\u001b[0m\u001b[0;34m'text'\u001b[0m\u001b[0;34m]\u001b[0m \u001b[0;34m=\u001b[0m \u001b[0mtweet\u001b[0m\u001b[0;34m[\u001b[0m\u001b[0;34m'text'\u001b[0m\u001b[0;34m]\u001b[0m\u001b[0;34m\u001b[0m\u001b[0;34m\u001b[0m\u001b[0m\n",
      "\u001b[0;31mKeyError\u001b[0m: 'created_at'"
     ]
    }
   ],
   "source": [
    "\n",
    "# Intanciar\n",
    "stream =  Streamer(credentials['KEY'], credentials['KEY_SECRET'], credentials['TOKEN'], credentials['ACCESS_SECRET'])\n",
    "#stream =  Streamer(credentials_PRO['KEY'], credentials_PRO['KEY_SECRET'], credentials_PRO['TOKEN'], credentials_PRO['ACCESS_SECRET'])\n",
    "\n",
    "#Iniciar consulta en tiempo real\n",
    "stream.statuses.filter(track=\"covid\")\n",
    "# Para poder para la consulta y luego ver los resultados debe parar el proceso manualmente, es decir interrumpirlo.\n",
    "# dando click en el boton de interrupt IPython kernel"
   ]
  },
  {
   "cell_type": "code",
   "execution_count": 62,
   "metadata": {},
   "outputs": [
    {
     "output_type": "execute_result",
     "data": {
      "text/plain": "                               date     hashtags  \\\n0    Wed Jul 08 23:33:31 +0000 2020           []   \n1    Wed Jul 08 23:33:31 +0000 2020           []   \n2    Wed Jul 08 23:33:31 +0000 2020           []   \n3    Wed Jul 08 23:33:31 +0000 2020           []   \n4    Wed Jul 08 23:33:31 +0000 2020           []   \n..                              ...          ...   \n161  Wed Jul 08 23:33:34 +0000 2020           []   \n162  Wed Jul 08 23:33:34 +0000 2020           []   \n163  Wed Jul 08 23:33:34 +0000 2020  ['Arizona']   \n164  Wed Jul 08 23:33:34 +0000 2020           []   \n165  Wed Jul 08 23:33:34 +0000 2020           []   \n\n                                                  text             user  \\\n0    RT @hey_itsNDO: This isn’t the flu. The scary ...        _fabeany_   \n1    RT @ActualidadRT: El presidente de Brasil, Jai...          burmosA   \n2    RT @drakes_d4: Sanitization and delivery/take ...     badgyalrhorz   \n3    RT @ddiamond: TONY FAUCI effectively agrees wi...      TheRealFMCH   \n4             @realDonaldTrump https://t.co/dty3tttVDe      Tim17430322   \n..                                                 ...              ...   \n161  El Ayuntamiento redobla esfuerzos para cuidar ...         VisionPe   \n162  RT @klillington: My view on the app. Little ev...        Maura2e2_   \n163  RT @Cleavon_MD: I’m an ER Doctor. I’m not send...  Rebecca74222325   \n164  RT @Phoo_NoLimit: I will be sending $200 to th...       lulsoniaaa   \n165  RT @KyleKulinski: Japan has less than 1,000 co...     FranGentry13   \n\n     verifieduser                    registeredon  followersuser  \\\n0           False  Thu Mar 21 01:46:23 +0000 2019            303   \n1           False  Thu Jul 08 05:31:48 +0000 2010            608   \n2           False  Fri Oct 04 13:41:49 +0000 2019             34   \n3           False  Wed Jul 05 15:22:44 +0000 2017            217   \n4           False  Tue Apr 21 20:52:52 +0000 2020              0   \n..            ...                             ...            ...   \n161         False  Tue Apr 19 15:44:01 +0000 2011            986   \n162         False  Tue Jun 14 12:12:32 +0000 2016           3264   \n163         False  Sat Jun 03 20:55:53 +0000 2017              0   \n164         False  Tue Mar 17 10:56:58 +0000 2020              8   \n165         False  Sat Apr 16 22:40:43 +0000 2016             27   \n\n     followinguser  tweetsuser  favoritestweetsuser  ...  originallocation  \\\n0              641       25860                45871  ...  Around the world   \n1             1078       59524                 7435  ...              None   \n2               34        1992                   94  ...       Chicago, IL   \n3             1116       12175                10816  ...              None   \n4                0         426                   30  ...              None   \n..             ...         ...                  ...  ...               ...   \n161           1043      127711                   83  ...              None   \n162           4997       73829                75704  ...              None   \n163              9          39                  222  ...              None   \n164             37          31                    7  ...              None   \n165            358        1227                 6957  ...              None   \n\n     originalquotecount  originalreplycount  originalretweetcount  \\\n0                   665                 288                  1637   \n1                  None                None                  None   \n2                  2040                 197                    42   \n3                  None                None                  None   \n4                  None                None                  None   \n..                  ...                 ...                   ...   \n161                None                None                  None   \n162                None                None                  None   \n163                None                None                  None   \n164                None                None                  None   \n165                None                None                  None   \n\n     originalfavoritecount language   device           location  \\\n0                     2123       en  ANDROID        cis she/her   \n1                     None       es  ANDROID     Tabasco México   \n2                      153       en   IPHONE                NaN   \n3                     None       en  ANDROID       The Universe   \n4                     None      und  WEB APP               Here   \n..                     ...      ...      ...                ...   \n161                   None       es    OTHER                NaN   \n162                   None       en     IPAD  Co Clare, Ireland   \n163                   None       en  WEB APP                NaN   \n164                   None       en   IPHONE                NaN   \n165                   None       en     IPAD     Louisville, KY   \n\n               latitude           longitude  \n0                  None                None  \n1           17.95078635  -92.48312213241397  \n2                  None                None  \n3    55.041152350000004   9.810374515557207  \n4            43.8222157          17.6896937  \n..                  ...                 ...  \n161                None                None  \n162  52.857257450000006  -8.937435925994537  \n163                None                None  \n164                None                None  \n165          38.2542376          -85.759407  \n\n[166 rows x 29 columns]",
      "text/html": "<div>\n<style scoped>\n    .dataframe tbody tr th:only-of-type {\n        vertical-align: middle;\n    }\n\n    .dataframe tbody tr th {\n        vertical-align: top;\n    }\n\n    .dataframe thead th {\n        text-align: right;\n    }\n</style>\n<table border=\"1\" class=\"dataframe\">\n  <thead>\n    <tr style=\"text-align: right;\">\n      <th></th>\n      <th>date</th>\n      <th>hashtags</th>\n      <th>text</th>\n      <th>user</th>\n      <th>verifieduser</th>\n      <th>registeredon</th>\n      <th>followersuser</th>\n      <th>followinguser</th>\n      <th>tweetsuser</th>\n      <th>favoritestweetsuser</th>\n      <th>...</th>\n      <th>originallocation</th>\n      <th>originalquotecount</th>\n      <th>originalreplycount</th>\n      <th>originalretweetcount</th>\n      <th>originalfavoritecount</th>\n      <th>language</th>\n      <th>device</th>\n      <th>location</th>\n      <th>latitude</th>\n      <th>longitude</th>\n    </tr>\n  </thead>\n  <tbody>\n    <tr>\n      <th>0</th>\n      <td>Wed Jul 08 23:33:31 +0000 2020</td>\n      <td>[]</td>\n      <td>RT @hey_itsNDO: This isn’t the flu. The scary ...</td>\n      <td>_fabeany_</td>\n      <td>False</td>\n      <td>Thu Mar 21 01:46:23 +0000 2019</td>\n      <td>303</td>\n      <td>641</td>\n      <td>25860</td>\n      <td>45871</td>\n      <td>...</td>\n      <td>Around the world</td>\n      <td>665</td>\n      <td>288</td>\n      <td>1637</td>\n      <td>2123</td>\n      <td>en</td>\n      <td>ANDROID</td>\n      <td>cis she/her</td>\n      <td>None</td>\n      <td>None</td>\n    </tr>\n    <tr>\n      <th>1</th>\n      <td>Wed Jul 08 23:33:31 +0000 2020</td>\n      <td>[]</td>\n      <td>RT @ActualidadRT: El presidente de Brasil, Jai...</td>\n      <td>burmosA</td>\n      <td>False</td>\n      <td>Thu Jul 08 05:31:48 +0000 2010</td>\n      <td>608</td>\n      <td>1078</td>\n      <td>59524</td>\n      <td>7435</td>\n      <td>...</td>\n      <td>None</td>\n      <td>None</td>\n      <td>None</td>\n      <td>None</td>\n      <td>None</td>\n      <td>es</td>\n      <td>ANDROID</td>\n      <td>Tabasco México</td>\n      <td>17.95078635</td>\n      <td>-92.48312213241397</td>\n    </tr>\n    <tr>\n      <th>2</th>\n      <td>Wed Jul 08 23:33:31 +0000 2020</td>\n      <td>[]</td>\n      <td>RT @drakes_d4: Sanitization and delivery/take ...</td>\n      <td>badgyalrhorz</td>\n      <td>False</td>\n      <td>Fri Oct 04 13:41:49 +0000 2019</td>\n      <td>34</td>\n      <td>34</td>\n      <td>1992</td>\n      <td>94</td>\n      <td>...</td>\n      <td>Chicago, IL</td>\n      <td>2040</td>\n      <td>197</td>\n      <td>42</td>\n      <td>153</td>\n      <td>en</td>\n      <td>IPHONE</td>\n      <td>NaN</td>\n      <td>None</td>\n      <td>None</td>\n    </tr>\n    <tr>\n      <th>3</th>\n      <td>Wed Jul 08 23:33:31 +0000 2020</td>\n      <td>[]</td>\n      <td>RT @ddiamond: TONY FAUCI effectively agrees wi...</td>\n      <td>TheRealFMCH</td>\n      <td>False</td>\n      <td>Wed Jul 05 15:22:44 +0000 2017</td>\n      <td>217</td>\n      <td>1116</td>\n      <td>12175</td>\n      <td>10816</td>\n      <td>...</td>\n      <td>None</td>\n      <td>None</td>\n      <td>None</td>\n      <td>None</td>\n      <td>None</td>\n      <td>en</td>\n      <td>ANDROID</td>\n      <td>The Universe</td>\n      <td>55.041152350000004</td>\n      <td>9.810374515557207</td>\n    </tr>\n    <tr>\n      <th>4</th>\n      <td>Wed Jul 08 23:33:31 +0000 2020</td>\n      <td>[]</td>\n      <td>@realDonaldTrump https://t.co/dty3tttVDe</td>\n      <td>Tim17430322</td>\n      <td>False</td>\n      <td>Tue Apr 21 20:52:52 +0000 2020</td>\n      <td>0</td>\n      <td>0</td>\n      <td>426</td>\n      <td>30</td>\n      <td>...</td>\n      <td>None</td>\n      <td>None</td>\n      <td>None</td>\n      <td>None</td>\n      <td>None</td>\n      <td>und</td>\n      <td>WEB APP</td>\n      <td>Here</td>\n      <td>43.8222157</td>\n      <td>17.6896937</td>\n    </tr>\n    <tr>\n      <th>...</th>\n      <td>...</td>\n      <td>...</td>\n      <td>...</td>\n      <td>...</td>\n      <td>...</td>\n      <td>...</td>\n      <td>...</td>\n      <td>...</td>\n      <td>...</td>\n      <td>...</td>\n      <td>...</td>\n      <td>...</td>\n      <td>...</td>\n      <td>...</td>\n      <td>...</td>\n      <td>...</td>\n      <td>...</td>\n      <td>...</td>\n      <td>...</td>\n      <td>...</td>\n      <td>...</td>\n    </tr>\n    <tr>\n      <th>161</th>\n      <td>Wed Jul 08 23:33:34 +0000 2020</td>\n      <td>[]</td>\n      <td>El Ayuntamiento redobla esfuerzos para cuidar ...</td>\n      <td>VisionPe</td>\n      <td>False</td>\n      <td>Tue Apr 19 15:44:01 +0000 2011</td>\n      <td>986</td>\n      <td>1043</td>\n      <td>127711</td>\n      <td>83</td>\n      <td>...</td>\n      <td>None</td>\n      <td>None</td>\n      <td>None</td>\n      <td>None</td>\n      <td>None</td>\n      <td>es</td>\n      <td>OTHER</td>\n      <td>NaN</td>\n      <td>None</td>\n      <td>None</td>\n    </tr>\n    <tr>\n      <th>162</th>\n      <td>Wed Jul 08 23:33:34 +0000 2020</td>\n      <td>[]</td>\n      <td>RT @klillington: My view on the app. Little ev...</td>\n      <td>Maura2e2_</td>\n      <td>False</td>\n      <td>Tue Jun 14 12:12:32 +0000 2016</td>\n      <td>3264</td>\n      <td>4997</td>\n      <td>73829</td>\n      <td>75704</td>\n      <td>...</td>\n      <td>None</td>\n      <td>None</td>\n      <td>None</td>\n      <td>None</td>\n      <td>None</td>\n      <td>en</td>\n      <td>IPAD</td>\n      <td>Co Clare, Ireland</td>\n      <td>52.857257450000006</td>\n      <td>-8.937435925994537</td>\n    </tr>\n    <tr>\n      <th>163</th>\n      <td>Wed Jul 08 23:33:34 +0000 2020</td>\n      <td>['Arizona']</td>\n      <td>RT @Cleavon_MD: I’m an ER Doctor. I’m not send...</td>\n      <td>Rebecca74222325</td>\n      <td>False</td>\n      <td>Sat Jun 03 20:55:53 +0000 2017</td>\n      <td>0</td>\n      <td>9</td>\n      <td>39</td>\n      <td>222</td>\n      <td>...</td>\n      <td>None</td>\n      <td>None</td>\n      <td>None</td>\n      <td>None</td>\n      <td>None</td>\n      <td>en</td>\n      <td>WEB APP</td>\n      <td>NaN</td>\n      <td>None</td>\n      <td>None</td>\n    </tr>\n    <tr>\n      <th>164</th>\n      <td>Wed Jul 08 23:33:34 +0000 2020</td>\n      <td>[]</td>\n      <td>RT @Phoo_NoLimit: I will be sending $200 to th...</td>\n      <td>lulsoniaaa</td>\n      <td>False</td>\n      <td>Tue Mar 17 10:56:58 +0000 2020</td>\n      <td>8</td>\n      <td>37</td>\n      <td>31</td>\n      <td>7</td>\n      <td>...</td>\n      <td>None</td>\n      <td>None</td>\n      <td>None</td>\n      <td>None</td>\n      <td>None</td>\n      <td>en</td>\n      <td>IPHONE</td>\n      <td>NaN</td>\n      <td>None</td>\n      <td>None</td>\n    </tr>\n    <tr>\n      <th>165</th>\n      <td>Wed Jul 08 23:33:34 +0000 2020</td>\n      <td>[]</td>\n      <td>RT @KyleKulinski: Japan has less than 1,000 co...</td>\n      <td>FranGentry13</td>\n      <td>False</td>\n      <td>Sat Apr 16 22:40:43 +0000 2016</td>\n      <td>27</td>\n      <td>358</td>\n      <td>1227</td>\n      <td>6957</td>\n      <td>...</td>\n      <td>None</td>\n      <td>None</td>\n      <td>None</td>\n      <td>None</td>\n      <td>None</td>\n      <td>en</td>\n      <td>IPAD</td>\n      <td>Louisville, KY</td>\n      <td>38.2542376</td>\n      <td>-85.759407</td>\n    </tr>\n  </tbody>\n</table>\n<p>166 rows × 29 columns</p>\n</div>"
     },
     "metadata": {},
     "execution_count": 62
    }
   ],
   "source": [
    "tweets = pd.read_csv(\"/home/jovyan/work/slides/data/tweets.csv\")\n",
    "tweets"
   ]
  },
  {
   "cell_type": "code",
   "execution_count": 63,
   "metadata": {},
   "outputs": [
    {
     "output_type": "execute_result",
     "data": {
      "text/plain": "                               date  hashtags  \\\n1    Wed Jul 08 23:33:31 +0000 2020        []   \n3    Wed Jul 08 23:33:31 +0000 2020        []   \n4    Wed Jul 08 23:33:31 +0000 2020        []   \n5    Wed Jul 08 23:33:31 +0000 2020        []   \n6    Wed Jul 08 23:33:31 +0000 2020        []   \n..                              ...       ...   \n156  Wed Jul 08 23:33:34 +0000 2020        []   \n157  Wed Jul 08 23:33:34 +0000 2020  ['FAKE']   \n159  Wed Jul 08 23:33:34 +0000 2020        []   \n162  Wed Jul 08 23:33:34 +0000 2020        []   \n165  Wed Jul 08 23:33:34 +0000 2020        []   \n\n                                                  text            user  \\\n1    RT @ActualidadRT: El presidente de Brasil, Jai...         burmosA   \n3    RT @ddiamond: TONY FAUCI effectively agrees wi...     TheRealFMCH   \n4             @realDonaldTrump https://t.co/dty3tttVDe     Tim17430322   \n5            .@ManUtd @Mike_Phelan_1 snap him up I beg  ReeceMUnitedV7   \n6    RT @mhdksafa: If you're wondering why the COVI...      iTrishLane   \n..                                                 ...             ...   \n156  RT @_timos_: Should We Experimentally Infect P...      LQVentures   \n157  RT @jornalextra: É #FAKE que edição da revista...  BrandaoGueiros   \n159  Arizona Supreme Court getting more pressure to...       anneryman   \n162  RT @klillington: My view on the app. Little ev...       Maura2e2_   \n165  RT @KyleKulinski: Japan has less than 1,000 co...    FranGentry13   \n\n     verifieduser                    registeredon  followersuser  \\\n1           False  Thu Jul 08 05:31:48 +0000 2010            608   \n3           False  Wed Jul 05 15:22:44 +0000 2017            217   \n4           False  Tue Apr 21 20:52:52 +0000 2020              0   \n5           False  Fri May 29 16:16:16 +0000 2020            201   \n6           False  Fri Jan 31 18:28:43 +0000 2014            686   \n..            ...                             ...            ...   \n156         False  Wed Nov 14 22:43:47 +0000 2012            258   \n157         False  Fri Mar 09 17:24:42 +0000 2018          21154   \n159          True  Mon May 11 19:49:13 +0000 2009           6214   \n162         False  Tue Jun 14 12:12:32 +0000 2016           3264   \n165         False  Sat Apr 16 22:40:43 +0000 2016             27   \n\n     followinguser  tweetsuser  favoritestweetsuser  ...  originallocation  \\\n1             1078       59524                 7435  ...              None   \n3             1116       12175                10816  ...              None   \n4                0         426                   30  ...              None   \n5              237        3434                 4659  ...               NaN   \n6              731       56433                14777  ...              None   \n..             ...         ...                  ...  ...               ...   \n156            322       78237                    4  ...              None   \n157          20236      136420               118355  ...              None   \n159           3325       14316                 4793  ...              None   \n162           4997       73829                75704  ...              None   \n165            358        1227                 6957  ...              None   \n\n     originalquotecount  originalreplycount  originalretweetcount  \\\n1                  None                None                  None   \n3                  None                None                  None   \n4                  None                None                  None   \n5                    22                  14                     7   \n6                  None                None                  None   \n..                  ...                 ...                   ...   \n156                None                None                  None   \n157                None                None                  None   \n159                None                None                  None   \n162                None                None                  None   \n165                None                None                  None   \n\n     originalfavoritecount language   device           location  \\\n1                     None       es  ANDROID     Tabasco México   \n3                     None       en  ANDROID       The Universe   \n4                     None      und  WEB APP               Here   \n5                       97       en  ANDROID      Yer da's head   \n6                     None       en   IPHONE              Earth   \n..                     ...      ...      ...                ...   \n156                   None       en    OTHER             Global   \n157                   None       pt  ANDROID             London   \n159                   None       en    OTHER     Phoenix, Ariz.   \n162                   None       en     IPAD  Co Clare, Ireland   \n165                   None       en     IPAD     Louisville, KY   \n\n               latitude           longitude  \n1           17.95078635  -92.48312213241397  \n3    55.041152350000004   9.810374515557207  \n4            43.8222157          17.6896937  \n5            50.8250684          -0.1761844  \n6            34.2331373        -102.4107493  \n..                  ...                 ...  \n156          43.7283874  -79.34914879325001  \n157          51.5073219          -0.1276474  \n159          33.4484367        -112.0741417  \n162  52.857257450000006  -8.937435925994537  \n165          38.2542376          -85.759407  \n\n[101 rows x 29 columns]",
      "text/html": "<div>\n<style scoped>\n    .dataframe tbody tr th:only-of-type {\n        vertical-align: middle;\n    }\n\n    .dataframe tbody tr th {\n        vertical-align: top;\n    }\n\n    .dataframe thead th {\n        text-align: right;\n    }\n</style>\n<table border=\"1\" class=\"dataframe\">\n  <thead>\n    <tr style=\"text-align: right;\">\n      <th></th>\n      <th>date</th>\n      <th>hashtags</th>\n      <th>text</th>\n      <th>user</th>\n      <th>verifieduser</th>\n      <th>registeredon</th>\n      <th>followersuser</th>\n      <th>followinguser</th>\n      <th>tweetsuser</th>\n      <th>favoritestweetsuser</th>\n      <th>...</th>\n      <th>originallocation</th>\n      <th>originalquotecount</th>\n      <th>originalreplycount</th>\n      <th>originalretweetcount</th>\n      <th>originalfavoritecount</th>\n      <th>language</th>\n      <th>device</th>\n      <th>location</th>\n      <th>latitude</th>\n      <th>longitude</th>\n    </tr>\n  </thead>\n  <tbody>\n    <tr>\n      <th>1</th>\n      <td>Wed Jul 08 23:33:31 +0000 2020</td>\n      <td>[]</td>\n      <td>RT @ActualidadRT: El presidente de Brasil, Jai...</td>\n      <td>burmosA</td>\n      <td>False</td>\n      <td>Thu Jul 08 05:31:48 +0000 2010</td>\n      <td>608</td>\n      <td>1078</td>\n      <td>59524</td>\n      <td>7435</td>\n      <td>...</td>\n      <td>None</td>\n      <td>None</td>\n      <td>None</td>\n      <td>None</td>\n      <td>None</td>\n      <td>es</td>\n      <td>ANDROID</td>\n      <td>Tabasco México</td>\n      <td>17.95078635</td>\n      <td>-92.48312213241397</td>\n    </tr>\n    <tr>\n      <th>3</th>\n      <td>Wed Jul 08 23:33:31 +0000 2020</td>\n      <td>[]</td>\n      <td>RT @ddiamond: TONY FAUCI effectively agrees wi...</td>\n      <td>TheRealFMCH</td>\n      <td>False</td>\n      <td>Wed Jul 05 15:22:44 +0000 2017</td>\n      <td>217</td>\n      <td>1116</td>\n      <td>12175</td>\n      <td>10816</td>\n      <td>...</td>\n      <td>None</td>\n      <td>None</td>\n      <td>None</td>\n      <td>None</td>\n      <td>None</td>\n      <td>en</td>\n      <td>ANDROID</td>\n      <td>The Universe</td>\n      <td>55.041152350000004</td>\n      <td>9.810374515557207</td>\n    </tr>\n    <tr>\n      <th>4</th>\n      <td>Wed Jul 08 23:33:31 +0000 2020</td>\n      <td>[]</td>\n      <td>@realDonaldTrump https://t.co/dty3tttVDe</td>\n      <td>Tim17430322</td>\n      <td>False</td>\n      <td>Tue Apr 21 20:52:52 +0000 2020</td>\n      <td>0</td>\n      <td>0</td>\n      <td>426</td>\n      <td>30</td>\n      <td>...</td>\n      <td>None</td>\n      <td>None</td>\n      <td>None</td>\n      <td>None</td>\n      <td>None</td>\n      <td>und</td>\n      <td>WEB APP</td>\n      <td>Here</td>\n      <td>43.8222157</td>\n      <td>17.6896937</td>\n    </tr>\n    <tr>\n      <th>5</th>\n      <td>Wed Jul 08 23:33:31 +0000 2020</td>\n      <td>[]</td>\n      <td>.@ManUtd @Mike_Phelan_1 snap him up I beg</td>\n      <td>ReeceMUnitedV7</td>\n      <td>False</td>\n      <td>Fri May 29 16:16:16 +0000 2020</td>\n      <td>201</td>\n      <td>237</td>\n      <td>3434</td>\n      <td>4659</td>\n      <td>...</td>\n      <td>NaN</td>\n      <td>22</td>\n      <td>14</td>\n      <td>7</td>\n      <td>97</td>\n      <td>en</td>\n      <td>ANDROID</td>\n      <td>Yer da's head</td>\n      <td>50.8250684</td>\n      <td>-0.1761844</td>\n    </tr>\n    <tr>\n      <th>6</th>\n      <td>Wed Jul 08 23:33:31 +0000 2020</td>\n      <td>[]</td>\n      <td>RT @mhdksafa: If you're wondering why the COVI...</td>\n      <td>iTrishLane</td>\n      <td>False</td>\n      <td>Fri Jan 31 18:28:43 +0000 2014</td>\n      <td>686</td>\n      <td>731</td>\n      <td>56433</td>\n      <td>14777</td>\n      <td>...</td>\n      <td>None</td>\n      <td>None</td>\n      <td>None</td>\n      <td>None</td>\n      <td>None</td>\n      <td>en</td>\n      <td>IPHONE</td>\n      <td>Earth</td>\n      <td>34.2331373</td>\n      <td>-102.4107493</td>\n    </tr>\n    <tr>\n      <th>...</th>\n      <td>...</td>\n      <td>...</td>\n      <td>...</td>\n      <td>...</td>\n      <td>...</td>\n      <td>...</td>\n      <td>...</td>\n      <td>...</td>\n      <td>...</td>\n      <td>...</td>\n      <td>...</td>\n      <td>...</td>\n      <td>...</td>\n      <td>...</td>\n      <td>...</td>\n      <td>...</td>\n      <td>...</td>\n      <td>...</td>\n      <td>...</td>\n      <td>...</td>\n      <td>...</td>\n    </tr>\n    <tr>\n      <th>156</th>\n      <td>Wed Jul 08 23:33:34 +0000 2020</td>\n      <td>[]</td>\n      <td>RT @_timos_: Should We Experimentally Infect P...</td>\n      <td>LQVentures</td>\n      <td>False</td>\n      <td>Wed Nov 14 22:43:47 +0000 2012</td>\n      <td>258</td>\n      <td>322</td>\n      <td>78237</td>\n      <td>4</td>\n      <td>...</td>\n      <td>None</td>\n      <td>None</td>\n      <td>None</td>\n      <td>None</td>\n      <td>None</td>\n      <td>en</td>\n      <td>OTHER</td>\n      <td>Global</td>\n      <td>43.7283874</td>\n      <td>-79.34914879325001</td>\n    </tr>\n    <tr>\n      <th>157</th>\n      <td>Wed Jul 08 23:33:34 +0000 2020</td>\n      <td>['FAKE']</td>\n      <td>RT @jornalextra: É #FAKE que edição da revista...</td>\n      <td>BrandaoGueiros</td>\n      <td>False</td>\n      <td>Fri Mar 09 17:24:42 +0000 2018</td>\n      <td>21154</td>\n      <td>20236</td>\n      <td>136420</td>\n      <td>118355</td>\n      <td>...</td>\n      <td>None</td>\n      <td>None</td>\n      <td>None</td>\n      <td>None</td>\n      <td>None</td>\n      <td>pt</td>\n      <td>ANDROID</td>\n      <td>London</td>\n      <td>51.5073219</td>\n      <td>-0.1276474</td>\n    </tr>\n    <tr>\n      <th>159</th>\n      <td>Wed Jul 08 23:33:34 +0000 2020</td>\n      <td>[]</td>\n      <td>Arizona Supreme Court getting more pressure to...</td>\n      <td>anneryman</td>\n      <td>True</td>\n      <td>Mon May 11 19:49:13 +0000 2009</td>\n      <td>6214</td>\n      <td>3325</td>\n      <td>14316</td>\n      <td>4793</td>\n      <td>...</td>\n      <td>None</td>\n      <td>None</td>\n      <td>None</td>\n      <td>None</td>\n      <td>None</td>\n      <td>en</td>\n      <td>OTHER</td>\n      <td>Phoenix, Ariz.</td>\n      <td>33.4484367</td>\n      <td>-112.0741417</td>\n    </tr>\n    <tr>\n      <th>162</th>\n      <td>Wed Jul 08 23:33:34 +0000 2020</td>\n      <td>[]</td>\n      <td>RT @klillington: My view on the app. Little ev...</td>\n      <td>Maura2e2_</td>\n      <td>False</td>\n      <td>Tue Jun 14 12:12:32 +0000 2016</td>\n      <td>3264</td>\n      <td>4997</td>\n      <td>73829</td>\n      <td>75704</td>\n      <td>...</td>\n      <td>None</td>\n      <td>None</td>\n      <td>None</td>\n      <td>None</td>\n      <td>None</td>\n      <td>en</td>\n      <td>IPAD</td>\n      <td>Co Clare, Ireland</td>\n      <td>52.857257450000006</td>\n      <td>-8.937435925994537</td>\n    </tr>\n    <tr>\n      <th>165</th>\n      <td>Wed Jul 08 23:33:34 +0000 2020</td>\n      <td>[]</td>\n      <td>RT @KyleKulinski: Japan has less than 1,000 co...</td>\n      <td>FranGentry13</td>\n      <td>False</td>\n      <td>Sat Apr 16 22:40:43 +0000 2016</td>\n      <td>27</td>\n      <td>358</td>\n      <td>1227</td>\n      <td>6957</td>\n      <td>...</td>\n      <td>None</td>\n      <td>None</td>\n      <td>None</td>\n      <td>None</td>\n      <td>None</td>\n      <td>en</td>\n      <td>IPAD</td>\n      <td>Louisville, KY</td>\n      <td>38.2542376</td>\n      <td>-85.759407</td>\n    </tr>\n  </tbody>\n</table>\n<p>101 rows × 29 columns</p>\n</div>"
     },
     "metadata": {},
     "execution_count": 63
    }
   ],
   "source": [
    "import numpy as np\n",
    "\n",
    "rows_no_coordinates = np.where(tweets['latitude']==\"None\")[0]\n",
    "\n",
    "tweets_with_coordinates = tweets.drop(rows_no_coordinates)\n",
    "\n",
    "tweets_with_coordinates"
   ]
  },
  {
   "cell_type": "code",
   "execution_count": 64,
   "metadata": {},
   "outputs": [],
   "source": [
    "tweets_with_coordinates.to_csv(\"/home/jovyan/work/slides/data/tweetCoordinates.csv\",  index = False, header=True)"
   ]
  },
  {
   "cell_type": "code",
   "execution_count": 65,
   "metadata": {
    "tags": []
   },
   "outputs": [
    {
     "output_type": "stream",
     "name": "stdout",
     "text": "Requirement already satisfied: gmplot in /opt/conda/lib/python3.7/site-packages (1.4.1)\nRequirement already satisfied: requests in /opt/conda/lib/python3.7/site-packages (from gmplot) (2.23.0)\nRequirement already satisfied: chardet<4,>=3.0.2 in /opt/conda/lib/python3.7/site-packages (from requests->gmplot) (3.0.4)\nRequirement already satisfied: urllib3!=1.25.0,!=1.25.1,<1.26,>=1.21.1 in /opt/conda/lib/python3.7/site-packages (from requests->gmplot) (1.25.9)\nRequirement already satisfied: idna<3,>=2.5 in /opt/conda/lib/python3.7/site-packages (from requests->gmplot) (2.9)\nRequirement already satisfied: certifi>=2017.4.17 in /opt/conda/lib/python3.7/site-packages (from requests->gmplot) (2020.4.5.1)\n"
    }
   ],
   "source": [
    "# Intslamos gmplot\n",
    "!pip install gmplot"
   ]
  },
  {
   "cell_type": "code",
   "execution_count": 66,
   "metadata": {},
   "outputs": [
    {
     "output_type": "execute_result",
     "data": {
      "text/plain": "1      17.950787\n3      55.041153\n4      43.822216\n5      50.825069\n6      34.233139\n         ...    \n156    43.728386\n157    51.507320\n159    33.448437\n162    52.857258\n165    38.254238\nName: latitude, Length: 101, dtype: float32"
     },
     "metadata": {},
     "execution_count": 66
    }
   ],
   "source": [
    "latitude = pd.to_numeric(tweets_with_coordinates[\"latitude\"], downcast=\"float\")\n",
    "longitude = pd.to_numeric(tweets_with_coordinates[\"longitude\"], downcast=\"float\")\n",
    "\n",
    "latitude"
   ]
  },
  {
   "cell_type": "code",
   "execution_count": 68,
   "metadata": {},
   "outputs": [],
   "source": [
    "import gmplot\n",
    "\n",
    "# instancia\n",
    "gmap = gmplot.GoogleMapPlotter(30,0,3)\n",
    "\n",
    "#insertar puntos en el mapa pasando una lista de coordenadas\n",
    "gmap.heatmap(latitude.tolist(), longitude.to_list(), radius=10)\n",
    "\n",
    "\n",
    "#Guardar el mapa\n",
    "gmap.draw('work/slides/heatmap.html')"
   ]
  }
 ],
 "metadata": {
  "kernelspec": {
   "display_name": "Python 3",
   "language": "python",
   "name": "python3"
  },
  "language_info": {
   "codemirror_mode": {
    "name": "ipython",
    "version": 3
   },
   "file_extension": ".py",
   "mimetype": "text/x-python",
   "name": "python",
   "nbconvert_exporter": "python",
   "pygments_lexer": "ipython3",
   "version": "3.8.2-final"
  }
 },
 "nbformat": 4,
 "nbformat_minor": 2
}