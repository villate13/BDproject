{
 "cells": [
  {
   "cell_type": "code",
   "execution_count": null,
   "metadata": {},
   "outputs": [],
   "source": [
    "#Se importa vaex\n",
    "import vaex\n",
    "import vaex.jupyter\n",
    "import numpy as np\n",
    "import pylab as plt\n",
    "%matplotlib inline"
   ]
  },
  {
   "cell_type": "code",
   "execution_count": null,
   "metadata": {},
   "outputs": [],
   "source": [
    "#Cargamos los datos que contienen longitud y latitud con el paquete vaex\n",
    "data = vaex.open('/home/jovyan/work/slides/data/tweetCoordinates.csv')\n",
    "data"
   ]
  },
  {
   "cell_type": "code",
   "execution_count": null,
   "metadata": {
    "scrolled": true
   },
   "outputs": [],
   "source": [
    "#Usando vaex se crea una grafica con la ubicacion de los tweets usando longitud y latitud\n",
    "data.plot_widget(data.longitude, \n",
    "               data.latitude, \n",
    "               shape=400, \n",
    "               limits='minmax',\n",
    "               f='log1p', \n",
    "               colormap='magma')"
   ]
  },
  {
   "cell_type": "code",
   "execution_count": null,
   "metadata": {},
   "outputs": [],
   "source": [
    "# Importamos el paquete pandas\n",
    "import pandas as pd"
   ]
  },
  {
   "cell_type": "code",
   "execution_count": null,
   "metadata": {
    "scrolled": false
   },
   "outputs": [],
   "source": [
    "# cargamos el archivo que contiene el total de tweets recolectados por medio de pandas\n",
    "data2 = pd.read_csv('/home/jovyan/work/slides/data/tweets.csv')\n",
    "data2"
   ]
  },
  {
   "cell_type": "code",
   "execution_count": null,
   "metadata": {
    "scrolled": true
   },
   "outputs": [],
   "source": [
    "# Normalizamos las columnas FollowerUser, FollowingUser, TweetsUser, FavoritesTweetsUser\n",
    "cols_to_norm = data2.columns[6:14]\n",
    "cols_to_norm\n",
    "\n",
    "data2[cols_to_norm] = data2[cols_to_norm].transform(lambda value: (value - value.mean()) / value.std())\n",
    "data2"
   ]
  },
  {
   "cell_type": "code",
   "execution_count": null,
   "metadata": {},
   "outputs": [],
   "source": [
    "# https://github.com/plotly/plotly.py/issues/1664#issuecomment-511773518\n",
    "import plotly.graph_objects as go\n",
    "import plotly.io as pio\n",
    "\n",
    "# Set default renderer\n",
    "pio.renderers.default = 'notebook+jupyterlab'  #  See [1]\n",
    "# Set default template\n",
    "pio.templates['slides'] = go.layout.Template(layout=dict(width=800, height=600))\n",
    "pio.templates.default = 'plotly+slides'  # See [2]"
   ]
  },
  {
   "cell_type": "code",
   "execution_count": null,
   "metadata": {},
   "outputs": [],
   "source": [
    "# Importing the packages\n",
    "from plotly.offline import iplot\n",
    "import cufflinks as cf\n",
    "cf.go_offline()"
   ]
  },
  {
   "cell_type": "code",
   "execution_count": null,
   "metadata": {
    "scrolled": true
   },
   "outputs": [],
   "source": [
    "# Segunda gráfica distribución de los diferentes dispositivos para realizar los Tweets \n",
    "data2['device'].iplot(kind='hist', bins=5, xTitle='Device',\n",
    "    linecolor='black', yTitle='Count', title='Device Distribution')"
   ]
  },
  {
   "cell_type": "code",
   "execution_count": null,
   "metadata": {
    "scrolled": true
   },
   "outputs": [],
   "source": [
    "# Tercera gráfica distribución de los diferentes idiomas usados para realizar los Tweets \n",
    "data2['language'].iplot(kind='hist', bins=5, xTitle='Language',\n",
    "    linecolor='black', yTitle='Count', title='Language Distribution')"
   ]
  },
  {
   "cell_type": "code",
   "execution_count": null,
   "metadata": {
    "scrolled": false
   },
   "outputs": [],
   "source": [
    "# Cuarta gráfica distribución de los diferentes idiomas usados para realizar los Tweets \n",
    "data2['verifieduser'].iplot(kind='hist', bins=5, xTitle='Verified Account',\n",
    "    linecolor='black', yTitle='Count', title='Verified Account Distribution')"
   ]
  },
  {
   "cell_type": "code",
   "execution_count": null,
   "metadata": {
    "scrolled": true
   },
   "outputs": [],
   "source": [
    "# Agregamos una nueva columna que hace referencia al sistema operativo del dispositivo donde se realizo el tweet\n",
    "# iOS se referenciara con un --> 0\n",
    "# Android se referenciara con un --> 1\n",
    "# Y con 2 Otros sistemas operativos como lo pueden ser Windows, Mac Os, Linux entre otros.\n",
    "data2.loc[data2['device'] == 'IPHONE', 'systemdevice'] = 0\n",
    "data2.loc[data2['device'] == 'ANDROID', 'systemdevice'] = 1\n",
    "data2.loc[data2['device'] == 'IPAD', 'systemdevice'] = 0\n",
    "data2.loc[data2['device'] == 'WEB APP', 'systemdevice'] = 2\n",
    "data2.loc[data2['device'] == 'OTHER', 'systemdevice'] = 2\n",
    "data2"
   ]
  },
  {
   "cell_type": "code",
   "execution_count": null,
   "metadata": {
    "scrolled": true
   },
   "outputs": [],
   "source": [
    "# Obtenemos una lista con todas nuestras columnas\n",
    "cols = list(data2)\n",
    "# Agregamos la columna \"SystemDevice\" en la posición 10 de nuestra lista\n",
    "cols.insert(10, cols.pop(cols.index('systemdevice')))"
   ]
  },
  {
   "cell_type": "code",
   "execution_count": null,
   "metadata": {},
   "outputs": [],
   "source": [
    "# Reordenamos las columnas de la tabla \"data2\" con el orden generado en la lista \"cols\"\n",
    "data2 = data2.loc[:, cols]\n",
    "data2"
   ]
  },
  {
   "cell_type": "code",
   "execution_count": null,
   "metadata": {
    "scrolled": false
   },
   "outputs": [],
   "source": [
    "# Quinta gráfica que nos muestra la diferente relacion entre seguidores, personas seguidas, cantidad de tweets realizados\n",
    "# y cantidad de tweets favoritos\n",
    "import plotly.express as px\n",
    "fig = px.parallel_coordinates(data2[data2.columns[6:11]],color='systemdevice',\n",
    "      color_continuous_scale=[(0, \"#1b9e77\"),   (0.5, \"#d95f02\"),\n",
    "                              (0.5, \"#d95f02\"),   (1, \"#7570b3\")])\n",
    "fig.update_layout(autosize=False,width=800,height=400)\n",
    "fig.show()  # Explore what happens using non-normalized data (optional)"
   ]
  },
  {
   "cell_type": "code",
   "execution_count": null,
   "metadata": {
    "scrolled": true
   },
   "outputs": [],
   "source": [
    "# Cargamos nuevamente los datos originales\n",
    "data2 = pd.read_csv('/home/jovyan/work/slides/data/tweets.csv')\n",
    "data2"
   ]
  },
  {
   "cell_type": "code",
   "execution_count": null,
   "metadata": {},
   "outputs": [],
   "source": [
    "# Sexta gráfica que nos muestra la relacion entre la cantidad de tweets realizados por el usuario\n",
    "# vs la cantidad de tweets favoritos del usuario teniendo en cuenta si la cuenta es verficada o no y la cantidad \n",
    "# usuarios que siguen a la persona.\n",
    "fig = px.scatter(data2, x=\"tweetsuser\", y=\"favoritestweetsuser\", color=\"verifieduser\",\n",
    "                 size='followersuser', hover_data=['followersuser'])\n",
    "fig.show()"
   ]
  }
 ],
 "metadata": {
  "kernelspec": {
   "display_name": "Python 3",
   "language": "python",
   "name": "python3"
  },
  "language_info": {
   "codemirror_mode": {
    "name": "ipython",
    "version": 3
   },
   "file_extension": ".py",
   "mimetype": "text/x-python",
   "name": "python",
   "nbconvert_exporter": "python",
   "pygments_lexer": "ipython3",
   "version": "3.7.6"
  }
 },
 "nbformat": 4,
 "nbformat_minor": 4
}
