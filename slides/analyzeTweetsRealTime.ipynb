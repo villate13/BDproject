{
 "cells": [
  {
   "cell_type": "code",
   "execution_count": 1,
   "metadata": {},
   "outputs": [
    {
     "output_type": "execute_result",
     "data": {
      "text/plain": "{'KEY': 'XqNe5tbaycDxrrIOVqHR1NoPk',\n 'KEY_SECRET': 'wahClTvDgP1Kb7l8QgHJD6DTFhhgY9usDfFaXSY5bnLdlrnv4q',\n 'TOKEN': '1279025620287205377-OlltfTVwLqHRXklJPGAlAWvF7gC0bQ',\n 'ACCESS_SECRET': 'rJX1qRcToTyZq4Aqam18YjT1rbmFRhKvNflgB5RELz9aM'}"
     },
     "metadata": {},
     "execution_count": 1
    }
   ],
   "source": [
    "# Importamos JSON\n",
    "import json\n",
    "\n",
    "# Guardamos las credenciales para consumir api de twitter (sacadas de apps.twiiter.com)\n",
    "credentials = {\n",
    "    \"KEY\": \"c0Jlf7B9Ez56i6rsnBSeiBCii\",\n",
    "    \"KEY_SECRET\": \"yuCAV2TdGrvitWBGQondppKaxNlQfnrc5krRCYvNpu3miY2gQQ\",\n",
    "    \"TOKEN\": \"1279067386520440833-YLZvyZzPDZlQ3bGa5SH2fhugVPl4Cs\",\n",
    "    \"ACCESS_SECRET\": \"DZuy6rzCJFZ4723jVl2gITgf2jCXr1cqlFRtQXFytrIKD\"\n",
    "}\n",
    "\n",
    "credentials_PRO = {\n",
    "    \"KEY\": \"XqNe5tbaycDxrrIOVqHR1NoPk\",\n",
    "    \"KEY_SECRET\": \"wahClTvDgP1Kb7l8QgHJD6DTFhhgY9usDfFaXSY5bnLdlrnv4q\",\n",
    "    \"TOKEN\": \"1279025620287205377-OlltfTVwLqHRXklJPGAlAWvF7gC0bQ\",\n",
    "    \"ACCESS_SECRET\": \"rJX1qRcToTyZq4Aqam18YjT1rbmFRhKvNflgB5RELz9aM\"\n",
    "}\n",
    "\n",
    "credentials\n",
    "credentials_PRO"
   ]
  },
  {
   "cell_type": "code",
   "execution_count": 2,
   "metadata": {
    "tags": []
   },
   "outputs": [
    {
     "output_type": "stream",
     "name": "stdout",
     "text": "Requirement already satisfied: twython in /opt/conda/lib/python3.7/site-packages (3.8.2)\nRequirement already satisfied: requests-oauthlib>=0.4.0 in /opt/conda/lib/python3.7/site-packages (from twython) (1.3.0)\nRequirement already satisfied: requests>=2.1.0 in /opt/conda/lib/python3.7/site-packages (from twython) (2.23.0)\nRequirement already satisfied: oauthlib>=3.0.0 in /opt/conda/lib/python3.7/site-packages (from requests-oauthlib>=0.4.0->twython) (3.0.1)\nRequirement already satisfied: urllib3!=1.25.0,!=1.25.1,<1.26,>=1.21.1 in /opt/conda/lib/python3.7/site-packages (from requests>=2.1.0->twython) (1.25.9)\nRequirement already satisfied: idna<3,>=2.5 in /opt/conda/lib/python3.7/site-packages (from requests>=2.1.0->twython) (2.9)\nRequirement already satisfied: chardet<4,>=3.0.2 in /opt/conda/lib/python3.7/site-packages (from requests>=2.1.0->twython) (3.0.4)\nRequirement already satisfied: certifi>=2017.4.17 in /opt/conda/lib/python3.7/site-packages (from requests>=2.1.0->twython) (2020.4.5.1)\n"
    }
   ],
   "source": [
    "# Intslamos Twythom\n",
    "!pip install twython"
   ]
  },
  {
   "cell_type": "code",
   "execution_count": 6,
   "metadata": {
    "tags": []
   },
   "outputs": [
    {
     "output_type": "stream",
     "name": "stdout",
     "text": "Requirement already satisfied: geopy in /opt/conda/lib/python3.7/site-packages (2.0.0)\nRequirement already satisfied: geographiclib<2,>=1.49 in /opt/conda/lib/python3.7/site-packages (from geopy) (1.50)\n"
    }
   ],
   "source": [
    "# Instalamos geopy\n",
    "!pip install geopy"
   ]
  },
  {
   "cell_type": "code",
   "execution_count": 5,
   "metadata": {},
   "outputs": [],
   "source": [
    "#importamos las librerias necesarias\n",
    "import pandas as pd\n",
    "\n",
    "### consultar api tiempo real\n",
    "from twython import TwythonStreamer\n",
    "\n",
    "### Se guardara en un archivo .csv\n",
    "import csv\n",
    "\n",
    "## imortar libreria para buscar coordenadas\n",
    "from geopy.geocoders import Nominatim\n",
    "\n"
   ]
  },
  {
   "cell_type": "code",
   "execution_count": 7,
   "metadata": {},
   "outputs": [
    {
     "output_type": "execute_result",
     "data": {
      "text/plain": "[49.2822243, -122.8293424]"
     },
     "metadata": {},
     "execution_count": 7
    }
   ],
   "source": [
    "geolocator = Nominatim(user_agent=\"BD-Project-JJ\")\n",
    "\n",
    "coordinates =  []\n",
    "\n",
    "location = geolocator.geocode(\"Port Moody, British Columbia\")\n",
    "\n",
    "if location:\n",
    "    coordinates.append(location.latitude)\n",
    "    coordinates.append(location.longitude)\n",
    "else:\n",
    "    no_location += 1\n",
    "    coordinates.append(0)\n",
    "    coordinates.append(0)\n",
    "coordinates\n",
    "        "
   ]
  },
  {
   "cell_type": "code",
   "execution_count": 8,
   "metadata": {},
   "outputs": [],
   "source": [
    "geolocator = Nominatim(user_agent=\"BD-Project-JJ\")\n",
    "\n",
    "\n",
    "#procesar los datos con filtro\n",
    "def process_tweet(tweet):\n",
    "    # titulos\n",
    "    #date,hashtags,text,user,verifieduser,registeredon,followersuser,followinguser,tweetsuser,favoritestweetsuser,retweet,quote,reply,likes,language,device,location,latitude,longitude\n",
    "\n",
    "        d = {}\n",
    "        d['date'] = tweet['created_at']\n",
    "        d[\"hashtags\"] = [hashtag[\"text\"] for hashtag in tweet['entities']['hashtags']]\n",
    "        d['text'] = tweet['text']\n",
    "        #datos user\n",
    "        d['user'] = tweet['user']['screen_name']\n",
    "        d['verified'] = tweet['user']['verified']\n",
    "        d['created'] = tweet['user']['created_at']\n",
    "        d['followers'] = tweet['user']['followers_count']\n",
    "        d['following'] = tweet['user']['friends_count']\n",
    "        d['tweets'] = tweet['user']['statuses_count']\n",
    "        d['Favorites'] = tweet['user']['favourites_count']\n",
    "\n",
    "        d['retweet'] = tweet['retweet_count']\n",
    "        d['quote'] = tweet['quote_count']\n",
    "        d['reply'] = tweet['reply_count'] \n",
    "        d['like'] = tweet['favorite_count']\n",
    "\n",
    "        d['language'] = tweet['lang']\n",
    "\n",
    "        ## guardar dispositivo\n",
    "        if \"android\" in tweet['source']:\n",
    "            d['device'] = \"ANDROID\"\n",
    "        elif \"iphone\" in tweet['source']:\n",
    "            d['device'] = \"IPHONE\"\n",
    "        elif \"ipad\" in tweet['source']:\n",
    "            d['device'] = \"IPAD\"\n",
    "        else:\n",
    "            d['device'] = \"WEB APP\"\n",
    "\n",
    "\n",
    "        d['user_location'] = tweet['user']['location']\n",
    "        ## guardar coordenadas ubicacion\n",
    "        if tweet['user']['location']:\n",
    "            coordinates = search_coordinates(tweet['user']['location'])\n",
    "            d['latitude'] = coordinates[0]\n",
    "            d['longitude'] = coordinates[1]\n",
    "        else:\n",
    "            d['latitude'] = \"None\"\n",
    "            d['longitude'] = \"None\"\n",
    "\n",
    "        return d\n",
    "\n",
    "def search_coordinates(location):\n",
    "    #Buscar y guardar coordenadas\n",
    "    coordinates = []\n",
    "\n",
    "    location = geolocator.geocode(location)\n",
    "\n",
    "    if location:\n",
    "        coordinates.append(location.latitude)\n",
    "        coordinates.append(location.longitude)\n",
    "    else:\n",
    "        coordinates.append(\"None\")\n",
    "        coordinates.append(\"None\")\n",
    "    return coordinates\n",
    "\n",
    "# Heredando clase\n",
    "#se le pasa las credenciales (probar siempre con credentials normales.)\n",
    "class Streamer(TwythonStreamer):\n",
    "\n",
    "    #Datos recibidos\n",
    "    def on_success(self, data):\n",
    "        #si se necesita poner un condicional\n",
    "        #if data['atributo'] == 'condicion':\n",
    "        #print(data)\n",
    "        tweet_data = process_tweet(data)\n",
    "        self.save_tweet(tweet_data)\n",
    "\n",
    "    #Error\n",
    "    def on_error(self, status_code, data):\n",
    "        print(status_code, data)\n",
    "        self.disconnect()\n",
    "\n",
    "    #Guardar en un archivo el resultados\n",
    "    def save_tweet(self, tweet):\n",
    "        #reempalzar si no esta trabajando en visualstudio o no esta en la carpeta origen del proyecto\n",
    "        #with open(r'tweets.csv', 'a', encoding=\"utf-8\") as file: \n",
    "        with open(r'work/slides/data/tweets.csv', 'a', encoding=\"utf-8\") as file:\n",
    "            write = csv.writer(file)\n",
    "            write.writerow(list(tweet.values()))"
   ]
  },
  {
   "cell_type": "code",
   "execution_count": 5,
   "metadata": {},
   "outputs": [],
   "source": [
    "### Recoleccion de datos"
   ]
  },
  {
   "cell_type": "code",
   "execution_count": 14,
   "metadata": {
    "tags": []
   },
   "outputs": [
    {
     "output_type": "error",
     "ename": "GeocoderUnavailable",
     "evalue": "HTTPSConnectionPool(host='nominatim.openstreetmap.org', port=443): Max retries exceeded with url: /search?q=Indianapolis%2C+IN&format=json&limit=1 (Caused by ReadTimeoutError(\"HTTPSConnectionPool(host='nominatim.openstreetmap.org', port=443): Read timed out. (read timeout=1)\"))",
     "traceback": [
      "\u001b[0;31m---------------------------------------------------------------------------\u001b[0m",
      "\u001b[0;31mWantReadError\u001b[0m                             Traceback (most recent call last)",
      "\u001b[0;32m/opt/conda/lib/python3.7/site-packages/urllib3/contrib/pyopenssl.py\u001b[0m in \u001b[0;36mwrap_socket\u001b[0;34m(self, sock, server_side, do_handshake_on_connect, suppress_ragged_eofs, server_hostname)\u001b[0m\n\u001b[1;32m    487\u001b[0m             \u001b[0;32mtry\u001b[0m\u001b[0;34m:\u001b[0m\u001b[0;34m\u001b[0m\u001b[0;34m\u001b[0m\u001b[0m\n\u001b[0;32m--> 488\u001b[0;31m                 \u001b[0mcnx\u001b[0m\u001b[0;34m.\u001b[0m\u001b[0mdo_handshake\u001b[0m\u001b[0;34m(\u001b[0m\u001b[0;34m)\u001b[0m\u001b[0;34m\u001b[0m\u001b[0;34m\u001b[0m\u001b[0m\n\u001b[0m\u001b[1;32m    489\u001b[0m             \u001b[0;32mexcept\u001b[0m \u001b[0mOpenSSL\u001b[0m\u001b[0;34m.\u001b[0m\u001b[0mSSL\u001b[0m\u001b[0;34m.\u001b[0m\u001b[0mWantReadError\u001b[0m\u001b[0;34m:\u001b[0m\u001b[0;34m\u001b[0m\u001b[0;34m\u001b[0m\u001b[0m\n",
      "\u001b[0;32m/opt/conda/lib/python3.7/site-packages/OpenSSL/SSL.py\u001b[0m in \u001b[0;36mdo_handshake\u001b[0;34m(self)\u001b[0m\n\u001b[1;32m   1933\u001b[0m         \u001b[0mresult\u001b[0m \u001b[0;34m=\u001b[0m \u001b[0m_lib\u001b[0m\u001b[0;34m.\u001b[0m\u001b[0mSSL_do_handshake\u001b[0m\u001b[0;34m(\u001b[0m\u001b[0mself\u001b[0m\u001b[0;34m.\u001b[0m\u001b[0m_ssl\u001b[0m\u001b[0;34m)\u001b[0m\u001b[0;34m\u001b[0m\u001b[0;34m\u001b[0m\u001b[0m\n\u001b[0;32m-> 1934\u001b[0;31m         \u001b[0mself\u001b[0m\u001b[0;34m.\u001b[0m\u001b[0m_raise_ssl_error\u001b[0m\u001b[0;34m(\u001b[0m\u001b[0mself\u001b[0m\u001b[0;34m.\u001b[0m\u001b[0m_ssl\u001b[0m\u001b[0;34m,\u001b[0m \u001b[0mresult\u001b[0m\u001b[0;34m)\u001b[0m\u001b[0;34m\u001b[0m\u001b[0;34m\u001b[0m\u001b[0m\n\u001b[0m\u001b[1;32m   1935\u001b[0m \u001b[0;34m\u001b[0m\u001b[0m\n",
      "\u001b[0;32m/opt/conda/lib/python3.7/site-packages/OpenSSL/SSL.py\u001b[0m in \u001b[0;36m_raise_ssl_error\u001b[0;34m(self, ssl, result)\u001b[0m\n\u001b[1;32m   1645\u001b[0m         \u001b[0;32mif\u001b[0m \u001b[0merror\u001b[0m \u001b[0;34m==\u001b[0m \u001b[0m_lib\u001b[0m\u001b[0;34m.\u001b[0m\u001b[0mSSL_ERROR_WANT_READ\u001b[0m\u001b[0;34m:\u001b[0m\u001b[0;34m\u001b[0m\u001b[0;34m\u001b[0m\u001b[0m\n\u001b[0;32m-> 1646\u001b[0;31m             \u001b[0;32mraise\u001b[0m \u001b[0mWantReadError\u001b[0m\u001b[0;34m(\u001b[0m\u001b[0;34m)\u001b[0m\u001b[0;34m\u001b[0m\u001b[0;34m\u001b[0m\u001b[0m\n\u001b[0m\u001b[1;32m   1647\u001b[0m         \u001b[0;32melif\u001b[0m \u001b[0merror\u001b[0m \u001b[0;34m==\u001b[0m \u001b[0m_lib\u001b[0m\u001b[0;34m.\u001b[0m\u001b[0mSSL_ERROR_WANT_WRITE\u001b[0m\u001b[0;34m:\u001b[0m\u001b[0;34m\u001b[0m\u001b[0;34m\u001b[0m\u001b[0m\n",
      "\u001b[0;31mWantReadError\u001b[0m: ",
      "\nDuring handling of the above exception, another exception occurred:\n",
      "\u001b[0;31mtimeout\u001b[0m                                   Traceback (most recent call last)",
      "\u001b[0;32m/opt/conda/lib/python3.7/site-packages/urllib3/connectionpool.py\u001b[0m in \u001b[0;36m_make_request\u001b[0;34m(self, conn, method, url, timeout, chunked, **httplib_request_kw)\u001b[0m\n\u001b[1;32m    380\u001b[0m         \u001b[0;32mtry\u001b[0m\u001b[0;34m:\u001b[0m\u001b[0;34m\u001b[0m\u001b[0;34m\u001b[0m\u001b[0m\n\u001b[0;32m--> 381\u001b[0;31m             \u001b[0mself\u001b[0m\u001b[0;34m.\u001b[0m\u001b[0m_validate_conn\u001b[0m\u001b[0;34m(\u001b[0m\u001b[0mconn\u001b[0m\u001b[0;34m)\u001b[0m\u001b[0;34m\u001b[0m\u001b[0;34m\u001b[0m\u001b[0m\n\u001b[0m\u001b[1;32m    382\u001b[0m         \u001b[0;32mexcept\u001b[0m \u001b[0;34m(\u001b[0m\u001b[0mSocketTimeout\u001b[0m\u001b[0;34m,\u001b[0m \u001b[0mBaseSSLError\u001b[0m\u001b[0;34m)\u001b[0m \u001b[0;32mas\u001b[0m \u001b[0me\u001b[0m\u001b[0;34m:\u001b[0m\u001b[0;34m\u001b[0m\u001b[0;34m\u001b[0m\u001b[0m\n",
      "\u001b[0;32m/opt/conda/lib/python3.7/site-packages/urllib3/connectionpool.py\u001b[0m in \u001b[0;36m_validate_conn\u001b[0;34m(self, conn)\u001b[0m\n\u001b[1;32m    975\u001b[0m         \u001b[0;32mif\u001b[0m \u001b[0;32mnot\u001b[0m \u001b[0mgetattr\u001b[0m\u001b[0;34m(\u001b[0m\u001b[0mconn\u001b[0m\u001b[0;34m,\u001b[0m \u001b[0;34m\"sock\"\u001b[0m\u001b[0;34m,\u001b[0m \u001b[0;32mNone\u001b[0m\u001b[0;34m)\u001b[0m\u001b[0;34m:\u001b[0m  \u001b[0;31m# AppEngine might not have  `.sock`\u001b[0m\u001b[0;34m\u001b[0m\u001b[0;34m\u001b[0m\u001b[0m\n\u001b[0;32m--> 976\u001b[0;31m             \u001b[0mconn\u001b[0m\u001b[0;34m.\u001b[0m\u001b[0mconnect\u001b[0m\u001b[0;34m(\u001b[0m\u001b[0;34m)\u001b[0m\u001b[0;34m\u001b[0m\u001b[0;34m\u001b[0m\u001b[0m\n\u001b[0m\u001b[1;32m    977\u001b[0m \u001b[0;34m\u001b[0m\u001b[0m\n",
      "\u001b[0;32m/opt/conda/lib/python3.7/site-packages/urllib3/connection.py\u001b[0m in \u001b[0;36mconnect\u001b[0;34m(self)\u001b[0m\n\u001b[1;32m    369\u001b[0m             \u001b[0mserver_hostname\u001b[0m\u001b[0;34m=\u001b[0m\u001b[0mserver_hostname\u001b[0m\u001b[0;34m,\u001b[0m\u001b[0;34m\u001b[0m\u001b[0;34m\u001b[0m\u001b[0m\n\u001b[0;32m--> 370\u001b[0;31m             \u001b[0mssl_context\u001b[0m\u001b[0;34m=\u001b[0m\u001b[0mcontext\u001b[0m\u001b[0;34m,\u001b[0m\u001b[0;34m\u001b[0m\u001b[0;34m\u001b[0m\u001b[0m\n\u001b[0m\u001b[1;32m    371\u001b[0m         )\n",
      "\u001b[0;32m/opt/conda/lib/python3.7/site-packages/urllib3/util/ssl_.py\u001b[0m in \u001b[0;36mssl_wrap_socket\u001b[0;34m(sock, keyfile, certfile, cert_reqs, ca_certs, server_hostname, ssl_version, ciphers, ssl_context, ca_cert_dir, key_password, ca_cert_data)\u001b[0m\n\u001b[1;32m    376\u001b[0m         \u001b[0;32mif\u001b[0m \u001b[0mHAS_SNI\u001b[0m \u001b[0;32mand\u001b[0m \u001b[0mserver_hostname\u001b[0m \u001b[0;32mis\u001b[0m \u001b[0;32mnot\u001b[0m \u001b[0;32mNone\u001b[0m\u001b[0;34m:\u001b[0m\u001b[0;34m\u001b[0m\u001b[0;34m\u001b[0m\u001b[0m\n\u001b[0;32m--> 377\u001b[0;31m             \u001b[0;32mreturn\u001b[0m \u001b[0mcontext\u001b[0m\u001b[0;34m.\u001b[0m\u001b[0mwrap_socket\u001b[0m\u001b[0;34m(\u001b[0m\u001b[0msock\u001b[0m\u001b[0;34m,\u001b[0m \u001b[0mserver_hostname\u001b[0m\u001b[0;34m=\u001b[0m\u001b[0mserver_hostname\u001b[0m\u001b[0;34m)\u001b[0m\u001b[0;34m\u001b[0m\u001b[0;34m\u001b[0m\u001b[0m\n\u001b[0m\u001b[1;32m    378\u001b[0m \u001b[0;34m\u001b[0m\u001b[0m\n",
      "\u001b[0;32m/opt/conda/lib/python3.7/site-packages/urllib3/contrib/pyopenssl.py\u001b[0m in \u001b[0;36mwrap_socket\u001b[0;34m(self, sock, server_side, do_handshake_on_connect, suppress_ragged_eofs, server_hostname)\u001b[0m\n\u001b[1;32m    490\u001b[0m                 \u001b[0;32mif\u001b[0m \u001b[0;32mnot\u001b[0m \u001b[0mutil\u001b[0m\u001b[0;34m.\u001b[0m\u001b[0mwait_for_read\u001b[0m\u001b[0;34m(\u001b[0m\u001b[0msock\u001b[0m\u001b[0;34m,\u001b[0m \u001b[0msock\u001b[0m\u001b[0;34m.\u001b[0m\u001b[0mgettimeout\u001b[0m\u001b[0;34m(\u001b[0m\u001b[0;34m)\u001b[0m\u001b[0;34m)\u001b[0m\u001b[0;34m:\u001b[0m\u001b[0;34m\u001b[0m\u001b[0;34m\u001b[0m\u001b[0m\n\u001b[0;32m--> 491\u001b[0;31m                     \u001b[0;32mraise\u001b[0m \u001b[0mtimeout\u001b[0m\u001b[0;34m(\u001b[0m\u001b[0;34m\"select timed out\"\u001b[0m\u001b[0;34m)\u001b[0m\u001b[0;34m\u001b[0m\u001b[0;34m\u001b[0m\u001b[0m\n\u001b[0m\u001b[1;32m    492\u001b[0m                 \u001b[0;32mcontinue\u001b[0m\u001b[0;34m\u001b[0m\u001b[0;34m\u001b[0m\u001b[0m\n",
      "\u001b[0;31mtimeout\u001b[0m: select timed out",
      "\nDuring handling of the above exception, another exception occurred:\n",
      "\u001b[0;31mReadTimeoutError\u001b[0m                          Traceback (most recent call last)",
      "\u001b[0;32m/opt/conda/lib/python3.7/site-packages/urllib3/connectionpool.py\u001b[0m in \u001b[0;36murlopen\u001b[0;34m(self, method, url, body, headers, retries, redirect, assert_same_host, timeout, pool_timeout, release_conn, chunked, body_pos, **response_kw)\u001b[0m\n\u001b[1;32m    676\u001b[0m                 \u001b[0mheaders\u001b[0m\u001b[0;34m=\u001b[0m\u001b[0mheaders\u001b[0m\u001b[0;34m,\u001b[0m\u001b[0;34m\u001b[0m\u001b[0;34m\u001b[0m\u001b[0m\n\u001b[0;32m--> 677\u001b[0;31m                 \u001b[0mchunked\u001b[0m\u001b[0;34m=\u001b[0m\u001b[0mchunked\u001b[0m\u001b[0;34m,\u001b[0m\u001b[0;34m\u001b[0m\u001b[0;34m\u001b[0m\u001b[0m\n\u001b[0m\u001b[1;32m    678\u001b[0m             )\n",
      "\u001b[0;32m/opt/conda/lib/python3.7/site-packages/urllib3/connectionpool.py\u001b[0m in \u001b[0;36m_make_request\u001b[0;34m(self, conn, method, url, timeout, chunked, **httplib_request_kw)\u001b[0m\n\u001b[1;32m    383\u001b[0m             \u001b[0;31m# Py2 raises this as a BaseSSLError, Py3 raises it as socket timeout.\u001b[0m\u001b[0;34m\u001b[0m\u001b[0;34m\u001b[0m\u001b[0;34m\u001b[0m\u001b[0m\n\u001b[0;32m--> 384\u001b[0;31m             \u001b[0mself\u001b[0m\u001b[0;34m.\u001b[0m\u001b[0m_raise_timeout\u001b[0m\u001b[0;34m(\u001b[0m\u001b[0merr\u001b[0m\u001b[0;34m=\u001b[0m\u001b[0me\u001b[0m\u001b[0;34m,\u001b[0m \u001b[0murl\u001b[0m\u001b[0;34m=\u001b[0m\u001b[0murl\u001b[0m\u001b[0;34m,\u001b[0m \u001b[0mtimeout_value\u001b[0m\u001b[0;34m=\u001b[0m\u001b[0mconn\u001b[0m\u001b[0;34m.\u001b[0m\u001b[0mtimeout\u001b[0m\u001b[0;34m)\u001b[0m\u001b[0;34m\u001b[0m\u001b[0;34m\u001b[0m\u001b[0m\n\u001b[0m\u001b[1;32m    385\u001b[0m             \u001b[0;32mraise\u001b[0m\u001b[0;34m\u001b[0m\u001b[0;34m\u001b[0m\u001b[0m\n",
      "\u001b[0;32m/opt/conda/lib/python3.7/site-packages/urllib3/connectionpool.py\u001b[0m in \u001b[0;36m_raise_timeout\u001b[0;34m(self, err, url, timeout_value)\u001b[0m\n\u001b[1;32m    335\u001b[0m             raise ReadTimeoutError(\n\u001b[0;32m--> 336\u001b[0;31m                 \u001b[0mself\u001b[0m\u001b[0;34m,\u001b[0m \u001b[0murl\u001b[0m\u001b[0;34m,\u001b[0m \u001b[0;34m\"Read timed out. (read timeout=%s)\"\u001b[0m \u001b[0;34m%\u001b[0m \u001b[0mtimeout_value\u001b[0m\u001b[0;34m\u001b[0m\u001b[0;34m\u001b[0m\u001b[0m\n\u001b[0m\u001b[1;32m    337\u001b[0m             )\n",
      "\u001b[0;31mReadTimeoutError\u001b[0m: HTTPSConnectionPool(host='nominatim.openstreetmap.org', port=443): Read timed out. (read timeout=1)",
      "\nDuring handling of the above exception, another exception occurred:\n",
      "\u001b[0;31mMaxRetryError\u001b[0m                             Traceback (most recent call last)",
      "\u001b[0;32m/opt/conda/lib/python3.7/site-packages/requests/adapters.py\u001b[0m in \u001b[0;36msend\u001b[0;34m(self, request, stream, timeout, verify, cert, proxies)\u001b[0m\n\u001b[1;32m    448\u001b[0m                     \u001b[0mretries\u001b[0m\u001b[0;34m=\u001b[0m\u001b[0mself\u001b[0m\u001b[0;34m.\u001b[0m\u001b[0mmax_retries\u001b[0m\u001b[0;34m,\u001b[0m\u001b[0;34m\u001b[0m\u001b[0;34m\u001b[0m\u001b[0m\n\u001b[0;32m--> 449\u001b[0;31m                     \u001b[0mtimeout\u001b[0m\u001b[0;34m=\u001b[0m\u001b[0mtimeout\u001b[0m\u001b[0;34m\u001b[0m\u001b[0;34m\u001b[0m\u001b[0m\n\u001b[0m\u001b[1;32m    450\u001b[0m                 )\n",
      "\u001b[0;32m/opt/conda/lib/python3.7/site-packages/urllib3/connectionpool.py\u001b[0m in \u001b[0;36murlopen\u001b[0;34m(self, method, url, body, headers, retries, redirect, assert_same_host, timeout, pool_timeout, release_conn, chunked, body_pos, **response_kw)\u001b[0m\n\u001b[1;32m    764\u001b[0m                 \u001b[0mbody_pos\u001b[0m\u001b[0;34m=\u001b[0m\u001b[0mbody_pos\u001b[0m\u001b[0;34m,\u001b[0m\u001b[0;34m\u001b[0m\u001b[0;34m\u001b[0m\u001b[0m\n\u001b[0;32m--> 765\u001b[0;31m                 \u001b[0;34m**\u001b[0m\u001b[0mresponse_kw\u001b[0m\u001b[0;34m\u001b[0m\u001b[0;34m\u001b[0m\u001b[0m\n\u001b[0m\u001b[1;32m    766\u001b[0m             )\n",
      "\u001b[0;32m/opt/conda/lib/python3.7/site-packages/urllib3/connectionpool.py\u001b[0m in \u001b[0;36murlopen\u001b[0;34m(self, method, url, body, headers, retries, redirect, assert_same_host, timeout, pool_timeout, release_conn, chunked, body_pos, **response_kw)\u001b[0m\n\u001b[1;32m    764\u001b[0m                 \u001b[0mbody_pos\u001b[0m\u001b[0;34m=\u001b[0m\u001b[0mbody_pos\u001b[0m\u001b[0;34m,\u001b[0m\u001b[0;34m\u001b[0m\u001b[0;34m\u001b[0m\u001b[0m\n\u001b[0;32m--> 765\u001b[0;31m                 \u001b[0;34m**\u001b[0m\u001b[0mresponse_kw\u001b[0m\u001b[0;34m\u001b[0m\u001b[0;34m\u001b[0m\u001b[0m\n\u001b[0m\u001b[1;32m    766\u001b[0m             )\n",
      "\u001b[0;32m/opt/conda/lib/python3.7/site-packages/urllib3/connectionpool.py\u001b[0m in \u001b[0;36murlopen\u001b[0;34m(self, method, url, body, headers, retries, redirect, assert_same_host, timeout, pool_timeout, release_conn, chunked, body_pos, **response_kw)\u001b[0m\n\u001b[1;32m    724\u001b[0m             retries = retries.increment(\n\u001b[0;32m--> 725\u001b[0;31m                 \u001b[0mmethod\u001b[0m\u001b[0;34m,\u001b[0m \u001b[0murl\u001b[0m\u001b[0;34m,\u001b[0m \u001b[0merror\u001b[0m\u001b[0;34m=\u001b[0m\u001b[0me\u001b[0m\u001b[0;34m,\u001b[0m \u001b[0m_pool\u001b[0m\u001b[0;34m=\u001b[0m\u001b[0mself\u001b[0m\u001b[0;34m,\u001b[0m \u001b[0m_stacktrace\u001b[0m\u001b[0;34m=\u001b[0m\u001b[0msys\u001b[0m\u001b[0;34m.\u001b[0m\u001b[0mexc_info\u001b[0m\u001b[0;34m(\u001b[0m\u001b[0;34m)\u001b[0m\u001b[0;34m[\u001b[0m\u001b[0;36m2\u001b[0m\u001b[0;34m]\u001b[0m\u001b[0;34m\u001b[0m\u001b[0;34m\u001b[0m\u001b[0m\n\u001b[0m\u001b[1;32m    726\u001b[0m             )\n",
      "\u001b[0;32m/opt/conda/lib/python3.7/site-packages/urllib3/util/retry.py\u001b[0m in \u001b[0;36mincrement\u001b[0;34m(self, method, url, response, error, _pool, _stacktrace)\u001b[0m\n\u001b[1;32m    438\u001b[0m         \u001b[0;32mif\u001b[0m \u001b[0mnew_retry\u001b[0m\u001b[0;34m.\u001b[0m\u001b[0mis_exhausted\u001b[0m\u001b[0;34m(\u001b[0m\u001b[0;34m)\u001b[0m\u001b[0;34m:\u001b[0m\u001b[0;34m\u001b[0m\u001b[0;34m\u001b[0m\u001b[0m\n\u001b[0;32m--> 439\u001b[0;31m             \u001b[0;32mraise\u001b[0m \u001b[0mMaxRetryError\u001b[0m\u001b[0;34m(\u001b[0m\u001b[0m_pool\u001b[0m\u001b[0;34m,\u001b[0m \u001b[0murl\u001b[0m\u001b[0;34m,\u001b[0m \u001b[0merror\u001b[0m \u001b[0;32mor\u001b[0m \u001b[0mResponseError\u001b[0m\u001b[0;34m(\u001b[0m\u001b[0mcause\u001b[0m\u001b[0;34m)\u001b[0m\u001b[0;34m)\u001b[0m\u001b[0;34m\u001b[0m\u001b[0;34m\u001b[0m\u001b[0m\n\u001b[0m\u001b[1;32m    440\u001b[0m \u001b[0;34m\u001b[0m\u001b[0m\n",
      "\u001b[0;31mMaxRetryError\u001b[0m: HTTPSConnectionPool(host='nominatim.openstreetmap.org', port=443): Max retries exceeded with url: /search?q=Indianapolis%2C+IN&format=json&limit=1 (Caused by ReadTimeoutError(\"HTTPSConnectionPool(host='nominatim.openstreetmap.org', port=443): Read timed out. (read timeout=1)\"))",
      "\nDuring handling of the above exception, another exception occurred:\n",
      "\u001b[0;31mConnectionError\u001b[0m                           Traceback (most recent call last)",
      "\u001b[0;32m/opt/conda/lib/python3.7/site-packages/geopy/adapters.py\u001b[0m in \u001b[0;36m_request\u001b[0;34m(self, url, timeout, headers)\u001b[0m\n\u001b[1;32m    382\u001b[0m         \u001b[0;32mtry\u001b[0m\u001b[0;34m:\u001b[0m\u001b[0;34m\u001b[0m\u001b[0;34m\u001b[0m\u001b[0m\n\u001b[0;32m--> 383\u001b[0;31m             \u001b[0mresp\u001b[0m \u001b[0;34m=\u001b[0m \u001b[0mself\u001b[0m\u001b[0;34m.\u001b[0m\u001b[0msession\u001b[0m\u001b[0;34m.\u001b[0m\u001b[0mget\u001b[0m\u001b[0;34m(\u001b[0m\u001b[0murl\u001b[0m\u001b[0;34m,\u001b[0m \u001b[0mtimeout\u001b[0m\u001b[0;34m=\u001b[0m\u001b[0mtimeout\u001b[0m\u001b[0;34m,\u001b[0m \u001b[0mheaders\u001b[0m\u001b[0;34m=\u001b[0m\u001b[0mheaders\u001b[0m\u001b[0;34m)\u001b[0m\u001b[0;34m\u001b[0m\u001b[0;34m\u001b[0m\u001b[0m\n\u001b[0m\u001b[1;32m    384\u001b[0m         \u001b[0;32mexcept\u001b[0m \u001b[0mException\u001b[0m \u001b[0;32mas\u001b[0m \u001b[0merror\u001b[0m\u001b[0;34m:\u001b[0m\u001b[0;34m\u001b[0m\u001b[0;34m\u001b[0m\u001b[0m\n",
      "\u001b[0;32m/opt/conda/lib/python3.7/site-packages/requests/sessions.py\u001b[0m in \u001b[0;36mget\u001b[0;34m(self, url, **kwargs)\u001b[0m\n\u001b[1;32m    542\u001b[0m         \u001b[0mkwargs\u001b[0m\u001b[0;34m.\u001b[0m\u001b[0msetdefault\u001b[0m\u001b[0;34m(\u001b[0m\u001b[0;34m'allow_redirects'\u001b[0m\u001b[0;34m,\u001b[0m \u001b[0;32mTrue\u001b[0m\u001b[0;34m)\u001b[0m\u001b[0;34m\u001b[0m\u001b[0;34m\u001b[0m\u001b[0m\n\u001b[0;32m--> 543\u001b[0;31m         \u001b[0;32mreturn\u001b[0m \u001b[0mself\u001b[0m\u001b[0;34m.\u001b[0m\u001b[0mrequest\u001b[0m\u001b[0;34m(\u001b[0m\u001b[0;34m'GET'\u001b[0m\u001b[0;34m,\u001b[0m \u001b[0murl\u001b[0m\u001b[0;34m,\u001b[0m \u001b[0;34m**\u001b[0m\u001b[0mkwargs\u001b[0m\u001b[0;34m)\u001b[0m\u001b[0;34m\u001b[0m\u001b[0;34m\u001b[0m\u001b[0m\n\u001b[0m\u001b[1;32m    544\u001b[0m \u001b[0;34m\u001b[0m\u001b[0m\n",
      "\u001b[0;32m/opt/conda/lib/python3.7/site-packages/requests/sessions.py\u001b[0m in \u001b[0;36mrequest\u001b[0;34m(self, method, url, params, data, headers, cookies, files, auth, timeout, allow_redirects, proxies, hooks, stream, verify, cert, json)\u001b[0m\n\u001b[1;32m    529\u001b[0m         \u001b[0msend_kwargs\u001b[0m\u001b[0;34m.\u001b[0m\u001b[0mupdate\u001b[0m\u001b[0;34m(\u001b[0m\u001b[0msettings\u001b[0m\u001b[0;34m)\u001b[0m\u001b[0;34m\u001b[0m\u001b[0;34m\u001b[0m\u001b[0m\n\u001b[0;32m--> 530\u001b[0;31m         \u001b[0mresp\u001b[0m \u001b[0;34m=\u001b[0m \u001b[0mself\u001b[0m\u001b[0;34m.\u001b[0m\u001b[0msend\u001b[0m\u001b[0;34m(\u001b[0m\u001b[0mprep\u001b[0m\u001b[0;34m,\u001b[0m \u001b[0;34m**\u001b[0m\u001b[0msend_kwargs\u001b[0m\u001b[0;34m)\u001b[0m\u001b[0;34m\u001b[0m\u001b[0;34m\u001b[0m\u001b[0m\n\u001b[0m\u001b[1;32m    531\u001b[0m \u001b[0;34m\u001b[0m\u001b[0m\n",
      "\u001b[0;32m/opt/conda/lib/python3.7/site-packages/requests/sessions.py\u001b[0m in \u001b[0;36msend\u001b[0;34m(self, request, **kwargs)\u001b[0m\n\u001b[1;32m    642\u001b[0m         \u001b[0;31m# Send the request\u001b[0m\u001b[0;34m\u001b[0m\u001b[0;34m\u001b[0m\u001b[0;34m\u001b[0m\u001b[0m\n\u001b[0;32m--> 643\u001b[0;31m         \u001b[0mr\u001b[0m \u001b[0;34m=\u001b[0m \u001b[0madapter\u001b[0m\u001b[0;34m.\u001b[0m\u001b[0msend\u001b[0m\u001b[0;34m(\u001b[0m\u001b[0mrequest\u001b[0m\u001b[0;34m,\u001b[0m \u001b[0;34m**\u001b[0m\u001b[0mkwargs\u001b[0m\u001b[0;34m)\u001b[0m\u001b[0;34m\u001b[0m\u001b[0;34m\u001b[0m\u001b[0m\n\u001b[0m\u001b[1;32m    644\u001b[0m \u001b[0;34m\u001b[0m\u001b[0m\n",
      "\u001b[0;32m/opt/conda/lib/python3.7/site-packages/requests/adapters.py\u001b[0m in \u001b[0;36msend\u001b[0;34m(self, request, stream, timeout, verify, cert, proxies)\u001b[0m\n\u001b[1;32m    515\u001b[0m \u001b[0;34m\u001b[0m\u001b[0m\n\u001b[0;32m--> 516\u001b[0;31m             \u001b[0;32mraise\u001b[0m \u001b[0mConnectionError\u001b[0m\u001b[0;34m(\u001b[0m\u001b[0me\u001b[0m\u001b[0;34m,\u001b[0m \u001b[0mrequest\u001b[0m\u001b[0;34m=\u001b[0m\u001b[0mrequest\u001b[0m\u001b[0;34m)\u001b[0m\u001b[0;34m\u001b[0m\u001b[0;34m\u001b[0m\u001b[0m\n\u001b[0m\u001b[1;32m    517\u001b[0m \u001b[0;34m\u001b[0m\u001b[0m\n",
      "\u001b[0;31mConnectionError\u001b[0m: HTTPSConnectionPool(host='nominatim.openstreetmap.org', port=443): Max retries exceeded with url: /search?q=Indianapolis%2C+IN&format=json&limit=1 (Caused by ReadTimeoutError(\"HTTPSConnectionPool(host='nominatim.openstreetmap.org', port=443): Read timed out. (read timeout=1)\"))",
      "\nDuring handling of the above exception, another exception occurred:\n",
      "\u001b[0;31mGeocoderUnavailable\u001b[0m                       Traceback (most recent call last)",
      "\u001b[0;32m<ipython-input-14-23b8c088a9fa>\u001b[0m in \u001b[0;36m<module>\u001b[0;34m\u001b[0m\n\u001b[1;32m      4\u001b[0m \u001b[0;34m\u001b[0m\u001b[0m\n\u001b[1;32m      5\u001b[0m \u001b[0;31m#Iniciar consulta en tiempo real\u001b[0m\u001b[0;34m\u001b[0m\u001b[0;34m\u001b[0m\u001b[0;34m\u001b[0m\u001b[0m\n\u001b[0;32m----> 6\u001b[0;31m \u001b[0mstream\u001b[0m\u001b[0;34m.\u001b[0m\u001b[0mstatuses\u001b[0m\u001b[0;34m.\u001b[0m\u001b[0mfilter\u001b[0m\u001b[0;34m(\u001b[0m\u001b[0mtrack\u001b[0m\u001b[0;34m=\u001b[0m\u001b[0;34m\"covid\"\u001b[0m\u001b[0;34m)\u001b[0m\u001b[0;34m\u001b[0m\u001b[0;34m\u001b[0m\u001b[0m\n\u001b[0m\u001b[1;32m      7\u001b[0m \u001b[0;31m# Para poder para la consulta y luego ver los resultados debe parar el proceso manualmente, es decir interrumpirlo.\u001b[0m\u001b[0;34m\u001b[0m\u001b[0;34m\u001b[0m\u001b[0;34m\u001b[0m\u001b[0m\n\u001b[1;32m      8\u001b[0m \u001b[0;31m# dando click en el boton de interrupt IPython kernel\u001b[0m\u001b[0;34m\u001b[0m\u001b[0;34m\u001b[0m\u001b[0;34m\u001b[0m\u001b[0m\n",
      "\u001b[0;32m/opt/conda/lib/python3.7/site-packages/twython/streaming/types.py\u001b[0m in \u001b[0;36mfilter\u001b[0;34m(self, **params)\u001b[0m\n\u001b[1;32m     45\u001b[0m         \u001b[0murl\u001b[0m \u001b[0;34m=\u001b[0m \u001b[0;34m'https://stream.twitter.com/%s/statuses/filter.json'\u001b[0m\u001b[0;31m \u001b[0m\u001b[0;31m\\\u001b[0m\u001b[0;34m\u001b[0m\u001b[0;34m\u001b[0m\u001b[0m\n\u001b[1;32m     46\u001b[0m               \u001b[0;34m%\u001b[0m \u001b[0mself\u001b[0m\u001b[0;34m.\u001b[0m\u001b[0mstreamer\u001b[0m\u001b[0;34m.\u001b[0m\u001b[0mapi_version\u001b[0m\u001b[0;34m\u001b[0m\u001b[0;34m\u001b[0m\u001b[0m\n\u001b[0;32m---> 47\u001b[0;31m         \u001b[0mself\u001b[0m\u001b[0;34m.\u001b[0m\u001b[0mstreamer\u001b[0m\u001b[0;34m.\u001b[0m\u001b[0m_request\u001b[0m\u001b[0;34m(\u001b[0m\u001b[0murl\u001b[0m\u001b[0;34m,\u001b[0m \u001b[0;34m'POST'\u001b[0m\u001b[0;34m,\u001b[0m \u001b[0mparams\u001b[0m\u001b[0;34m=\u001b[0m\u001b[0mparams\u001b[0m\u001b[0;34m)\u001b[0m\u001b[0;34m\u001b[0m\u001b[0;34m\u001b[0m\u001b[0m\n\u001b[0m\u001b[1;32m     48\u001b[0m \u001b[0;34m\u001b[0m\u001b[0m\n\u001b[1;32m     49\u001b[0m     \u001b[0;32mdef\u001b[0m \u001b[0msample\u001b[0m\u001b[0;34m(\u001b[0m\u001b[0mself\u001b[0m\u001b[0;34m,\u001b[0m \u001b[0;34m**\u001b[0m\u001b[0mparams\u001b[0m\u001b[0;34m)\u001b[0m\u001b[0;34m:\u001b[0m\u001b[0;34m\u001b[0m\u001b[0;34m\u001b[0m\u001b[0m\n",
      "\u001b[0;32m/opt/conda/lib/python3.7/site-packages/twython/streaming/api.py\u001b[0m in \u001b[0;36m_request\u001b[0;34m(self, url, method, params)\u001b[0m\n\u001b[1;32m    150\u001b[0m                                       not valid JSON.')\n\u001b[1;32m    151\u001b[0m                     \u001b[0;32melse\u001b[0m\u001b[0;34m:\u001b[0m\u001b[0;34m\u001b[0m\u001b[0;34m\u001b[0m\u001b[0m\n\u001b[0;32m--> 152\u001b[0;31m                         \u001b[0;32mif\u001b[0m \u001b[0mself\u001b[0m\u001b[0;34m.\u001b[0m\u001b[0mon_success\u001b[0m\u001b[0;34m(\u001b[0m\u001b[0mdata\u001b[0m\u001b[0;34m)\u001b[0m\u001b[0;34m:\u001b[0m  \u001b[0;31m# pragma: no cover\u001b[0m\u001b[0;34m\u001b[0m\u001b[0;34m\u001b[0m\u001b[0m\n\u001b[0m\u001b[1;32m    153\u001b[0m                             \u001b[0;32mfor\u001b[0m \u001b[0mmessage_type\u001b[0m \u001b[0;32min\u001b[0m \u001b[0mself\u001b[0m\u001b[0;34m.\u001b[0m\u001b[0mhandlers\u001b[0m\u001b[0;34m:\u001b[0m\u001b[0;34m\u001b[0m\u001b[0;34m\u001b[0m\u001b[0m\n\u001b[1;32m    154\u001b[0m                                 \u001b[0;32mif\u001b[0m \u001b[0mmessage_type\u001b[0m \u001b[0;32min\u001b[0m \u001b[0mdata\u001b[0m\u001b[0;34m:\u001b[0m\u001b[0;34m\u001b[0m\u001b[0;34m\u001b[0m\u001b[0m\n",
      "\u001b[0;32m<ipython-input-8-cd613755b3ee>\u001b[0m in \u001b[0;36mon_success\u001b[0;34m(self, data)\u001b[0m\n\u001b[1;32m     73\u001b[0m         \u001b[0;31m#if data['atributo'] == 'condicion':\u001b[0m\u001b[0;34m\u001b[0m\u001b[0;34m\u001b[0m\u001b[0;34m\u001b[0m\u001b[0m\n\u001b[1;32m     74\u001b[0m         \u001b[0;31m#print(data)\u001b[0m\u001b[0;34m\u001b[0m\u001b[0;34m\u001b[0m\u001b[0;34m\u001b[0m\u001b[0m\n\u001b[0;32m---> 75\u001b[0;31m         \u001b[0mtweet_data\u001b[0m \u001b[0;34m=\u001b[0m \u001b[0mprocess_tweet\u001b[0m\u001b[0;34m(\u001b[0m\u001b[0mdata\u001b[0m\u001b[0;34m)\u001b[0m\u001b[0;34m\u001b[0m\u001b[0;34m\u001b[0m\u001b[0m\n\u001b[0m\u001b[1;32m     76\u001b[0m         \u001b[0mself\u001b[0m\u001b[0;34m.\u001b[0m\u001b[0msave_tweet\u001b[0m\u001b[0;34m(\u001b[0m\u001b[0mtweet_data\u001b[0m\u001b[0;34m)\u001b[0m\u001b[0;34m\u001b[0m\u001b[0;34m\u001b[0m\u001b[0m\n\u001b[1;32m     77\u001b[0m \u001b[0;34m\u001b[0m\u001b[0m\n",
      "\u001b[0;32m<ipython-input-8-cd613755b3ee>\u001b[0m in \u001b[0;36mprocess_tweet\u001b[0;34m(tweet)\u001b[0m\n\u001b[1;32m     41\u001b[0m         \u001b[0;31m## guardar coordenadas ubicacion\u001b[0m\u001b[0;34m\u001b[0m\u001b[0;34m\u001b[0m\u001b[0;34m\u001b[0m\u001b[0m\n\u001b[1;32m     42\u001b[0m         \u001b[0;32mif\u001b[0m \u001b[0mtweet\u001b[0m\u001b[0;34m[\u001b[0m\u001b[0;34m'user'\u001b[0m\u001b[0;34m]\u001b[0m\u001b[0;34m[\u001b[0m\u001b[0;34m'location'\u001b[0m\u001b[0;34m]\u001b[0m\u001b[0;34m:\u001b[0m\u001b[0;34m\u001b[0m\u001b[0;34m\u001b[0m\u001b[0m\n\u001b[0;32m---> 43\u001b[0;31m             \u001b[0mcoordinates\u001b[0m \u001b[0;34m=\u001b[0m \u001b[0msearch_coordinates\u001b[0m\u001b[0;34m(\u001b[0m\u001b[0mtweet\u001b[0m\u001b[0;34m[\u001b[0m\u001b[0;34m'user'\u001b[0m\u001b[0;34m]\u001b[0m\u001b[0;34m[\u001b[0m\u001b[0;34m'location'\u001b[0m\u001b[0;34m]\u001b[0m\u001b[0;34m)\u001b[0m\u001b[0;34m\u001b[0m\u001b[0;34m\u001b[0m\u001b[0m\n\u001b[0m\u001b[1;32m     44\u001b[0m             \u001b[0md\u001b[0m\u001b[0;34m[\u001b[0m\u001b[0;34m'latitude'\u001b[0m\u001b[0;34m]\u001b[0m \u001b[0;34m=\u001b[0m \u001b[0mcoordinates\u001b[0m\u001b[0;34m[\u001b[0m\u001b[0;36m0\u001b[0m\u001b[0;34m]\u001b[0m\u001b[0;34m\u001b[0m\u001b[0;34m\u001b[0m\u001b[0m\n\u001b[1;32m     45\u001b[0m             \u001b[0md\u001b[0m\u001b[0;34m[\u001b[0m\u001b[0;34m'longitude'\u001b[0m\u001b[0;34m]\u001b[0m \u001b[0;34m=\u001b[0m \u001b[0mcoordinates\u001b[0m\u001b[0;34m[\u001b[0m\u001b[0;36m1\u001b[0m\u001b[0;34m]\u001b[0m\u001b[0;34m\u001b[0m\u001b[0;34m\u001b[0m\u001b[0m\n",
      "\u001b[0;32m<ipython-input-8-cd613755b3ee>\u001b[0m in \u001b[0;36msearch_coordinates\u001b[0;34m(location)\u001b[0m\n\u001b[1;32m     54\u001b[0m     \u001b[0mcoordinates\u001b[0m \u001b[0;34m=\u001b[0m \u001b[0;34m[\u001b[0m\u001b[0;34m]\u001b[0m\u001b[0;34m\u001b[0m\u001b[0;34m\u001b[0m\u001b[0m\n\u001b[1;32m     55\u001b[0m \u001b[0;34m\u001b[0m\u001b[0m\n\u001b[0;32m---> 56\u001b[0;31m     \u001b[0mlocation\u001b[0m \u001b[0;34m=\u001b[0m \u001b[0mgeolocator\u001b[0m\u001b[0;34m.\u001b[0m\u001b[0mgeocode\u001b[0m\u001b[0;34m(\u001b[0m\u001b[0mlocation\u001b[0m\u001b[0;34m)\u001b[0m\u001b[0;34m\u001b[0m\u001b[0;34m\u001b[0m\u001b[0m\n\u001b[0m\u001b[1;32m     57\u001b[0m \u001b[0;34m\u001b[0m\u001b[0m\n\u001b[1;32m     58\u001b[0m     \u001b[0;32mif\u001b[0m \u001b[0mlocation\u001b[0m\u001b[0;34m:\u001b[0m\u001b[0;34m\u001b[0m\u001b[0;34m\u001b[0m\u001b[0m\n",
      "\u001b[0;32m/opt/conda/lib/python3.7/site-packages/geopy/geocoders/nominatim.py\u001b[0m in \u001b[0;36mgeocode\u001b[0;34m(self, query, exactly_one, timeout, limit, addressdetails, language, geometry, extratags, country_codes, viewbox, bounded, featuretype, namedetails)\u001b[0m\n\u001b[1;32m    292\u001b[0m         \u001b[0mlogger\u001b[0m\u001b[0;34m.\u001b[0m\u001b[0mdebug\u001b[0m\u001b[0;34m(\u001b[0m\u001b[0;34m\"%s.geocode: %s\"\u001b[0m\u001b[0;34m,\u001b[0m \u001b[0mself\u001b[0m\u001b[0;34m.\u001b[0m\u001b[0m__class__\u001b[0m\u001b[0;34m.\u001b[0m\u001b[0m__name__\u001b[0m\u001b[0;34m,\u001b[0m \u001b[0murl\u001b[0m\u001b[0;34m)\u001b[0m\u001b[0;34m\u001b[0m\u001b[0;34m\u001b[0m\u001b[0m\n\u001b[1;32m    293\u001b[0m         \u001b[0mcallback\u001b[0m \u001b[0;34m=\u001b[0m \u001b[0mpartial\u001b[0m\u001b[0;34m(\u001b[0m\u001b[0mself\u001b[0m\u001b[0;34m.\u001b[0m\u001b[0m_parse_json\u001b[0m\u001b[0;34m,\u001b[0m \u001b[0mexactly_one\u001b[0m\u001b[0;34m=\u001b[0m\u001b[0mexactly_one\u001b[0m\u001b[0;34m)\u001b[0m\u001b[0;34m\u001b[0m\u001b[0;34m\u001b[0m\u001b[0m\n\u001b[0;32m--> 294\u001b[0;31m         \u001b[0;32mreturn\u001b[0m \u001b[0mself\u001b[0m\u001b[0;34m.\u001b[0m\u001b[0m_call_geocoder\u001b[0m\u001b[0;34m(\u001b[0m\u001b[0murl\u001b[0m\u001b[0;34m,\u001b[0m \u001b[0mcallback\u001b[0m\u001b[0;34m,\u001b[0m \u001b[0mtimeout\u001b[0m\u001b[0;34m=\u001b[0m\u001b[0mtimeout\u001b[0m\u001b[0;34m)\u001b[0m\u001b[0;34m\u001b[0m\u001b[0;34m\u001b[0m\u001b[0m\n\u001b[0m\u001b[1;32m    295\u001b[0m \u001b[0;34m\u001b[0m\u001b[0m\n\u001b[1;32m    296\u001b[0m     def reverse(\n",
      "\u001b[0;32m/opt/conda/lib/python3.7/site-packages/geopy/geocoders/base.py\u001b[0m in \u001b[0;36m_call_geocoder\u001b[0;34m(self, url, callback, timeout, is_json, headers)\u001b[0m\n\u001b[1;32m    358\u001b[0m         \u001b[0;32mtry\u001b[0m\u001b[0;34m:\u001b[0m\u001b[0;34m\u001b[0m\u001b[0;34m\u001b[0m\u001b[0m\n\u001b[1;32m    359\u001b[0m             \u001b[0;32mif\u001b[0m \u001b[0mis_json\u001b[0m\u001b[0;34m:\u001b[0m\u001b[0;34m\u001b[0m\u001b[0;34m\u001b[0m\u001b[0m\n\u001b[0;32m--> 360\u001b[0;31m                 \u001b[0mresult\u001b[0m \u001b[0;34m=\u001b[0m \u001b[0mself\u001b[0m\u001b[0;34m.\u001b[0m\u001b[0madapter\u001b[0m\u001b[0;34m.\u001b[0m\u001b[0mget_json\u001b[0m\u001b[0;34m(\u001b[0m\u001b[0murl\u001b[0m\u001b[0;34m,\u001b[0m \u001b[0mtimeout\u001b[0m\u001b[0;34m=\u001b[0m\u001b[0mtimeout\u001b[0m\u001b[0;34m,\u001b[0m \u001b[0mheaders\u001b[0m\u001b[0;34m=\u001b[0m\u001b[0mreq_headers\u001b[0m\u001b[0;34m)\u001b[0m\u001b[0;34m\u001b[0m\u001b[0;34m\u001b[0m\u001b[0m\n\u001b[0m\u001b[1;32m    361\u001b[0m             \u001b[0;32melse\u001b[0m\u001b[0;34m:\u001b[0m\u001b[0;34m\u001b[0m\u001b[0;34m\u001b[0m\u001b[0m\n\u001b[1;32m    362\u001b[0m                 \u001b[0mresult\u001b[0m \u001b[0;34m=\u001b[0m \u001b[0mself\u001b[0m\u001b[0;34m.\u001b[0m\u001b[0madapter\u001b[0m\u001b[0;34m.\u001b[0m\u001b[0mget_text\u001b[0m\u001b[0;34m(\u001b[0m\u001b[0murl\u001b[0m\u001b[0;34m,\u001b[0m \u001b[0mtimeout\u001b[0m\u001b[0;34m=\u001b[0m\u001b[0mtimeout\u001b[0m\u001b[0;34m,\u001b[0m \u001b[0mheaders\u001b[0m\u001b[0;34m=\u001b[0m\u001b[0mreq_headers\u001b[0m\u001b[0;34m)\u001b[0m\u001b[0;34m\u001b[0m\u001b[0;34m\u001b[0m\u001b[0m\n",
      "\u001b[0;32m/opt/conda/lib/python3.7/site-packages/geopy/adapters.py\u001b[0m in \u001b[0;36mget_json\u001b[0;34m(self, url, timeout, headers)\u001b[0m\n\u001b[1;32m    371\u001b[0m \u001b[0;34m\u001b[0m\u001b[0m\n\u001b[1;32m    372\u001b[0m     \u001b[0;32mdef\u001b[0m \u001b[0mget_json\u001b[0m\u001b[0;34m(\u001b[0m\u001b[0mself\u001b[0m\u001b[0;34m,\u001b[0m \u001b[0murl\u001b[0m\u001b[0;34m,\u001b[0m \u001b[0;34m*\u001b[0m\u001b[0;34m,\u001b[0m \u001b[0mtimeout\u001b[0m\u001b[0;34m,\u001b[0m \u001b[0mheaders\u001b[0m\u001b[0;34m)\u001b[0m\u001b[0;34m:\u001b[0m\u001b[0;34m\u001b[0m\u001b[0;34m\u001b[0m\u001b[0m\n\u001b[0;32m--> 373\u001b[0;31m         \u001b[0mresp\u001b[0m \u001b[0;34m=\u001b[0m \u001b[0mself\u001b[0m\u001b[0;34m.\u001b[0m\u001b[0m_request\u001b[0m\u001b[0;34m(\u001b[0m\u001b[0murl\u001b[0m\u001b[0;34m,\u001b[0m \u001b[0mtimeout\u001b[0m\u001b[0;34m=\u001b[0m\u001b[0mtimeout\u001b[0m\u001b[0;34m,\u001b[0m \u001b[0mheaders\u001b[0m\u001b[0;34m=\u001b[0m\u001b[0mheaders\u001b[0m\u001b[0;34m)\u001b[0m\u001b[0;34m\u001b[0m\u001b[0;34m\u001b[0m\u001b[0m\n\u001b[0m\u001b[1;32m    374\u001b[0m         \u001b[0;32mtry\u001b[0m\u001b[0;34m:\u001b[0m\u001b[0;34m\u001b[0m\u001b[0;34m\u001b[0m\u001b[0m\n\u001b[1;32m    375\u001b[0m             \u001b[0;32mreturn\u001b[0m \u001b[0mresp\u001b[0m\u001b[0;34m.\u001b[0m\u001b[0mjson\u001b[0m\u001b[0;34m(\u001b[0m\u001b[0;34m)\u001b[0m\u001b[0;34m\u001b[0m\u001b[0;34m\u001b[0m\u001b[0m\n",
      "\u001b[0;32m/opt/conda/lib/python3.7/site-packages/geopy/adapters.py\u001b[0m in \u001b[0;36m_request\u001b[0;34m(self, url, timeout, headers)\u001b[0m\n\u001b[1;32m    393\u001b[0m                     \u001b[0;32mraise\u001b[0m \u001b[0mGeocoderServiceError\u001b[0m\u001b[0;34m(\u001b[0m\u001b[0mmessage\u001b[0m\u001b[0;34m)\u001b[0m\u001b[0;34m\u001b[0m\u001b[0;34m\u001b[0m\u001b[0m\n\u001b[1;32m    394\u001b[0m                 \u001b[0;32melse\u001b[0m\u001b[0;34m:\u001b[0m\u001b[0;34m\u001b[0m\u001b[0;34m\u001b[0m\u001b[0m\n\u001b[0;32m--> 395\u001b[0;31m                     \u001b[0;32mraise\u001b[0m \u001b[0mGeocoderUnavailable\u001b[0m\u001b[0;34m(\u001b[0m\u001b[0mmessage\u001b[0m\u001b[0;34m)\u001b[0m\u001b[0;34m\u001b[0m\u001b[0;34m\u001b[0m\u001b[0m\n\u001b[0m\u001b[1;32m    396\u001b[0m             \u001b[0;32melif\u001b[0m \u001b[0misinstance\u001b[0m\u001b[0;34m(\u001b[0m\u001b[0merror\u001b[0m\u001b[0;34m,\u001b[0m \u001b[0mrequests\u001b[0m\u001b[0;34m.\u001b[0m\u001b[0mTimeout\u001b[0m\u001b[0;34m)\u001b[0m\u001b[0;34m:\u001b[0m\u001b[0;34m\u001b[0m\u001b[0;34m\u001b[0m\u001b[0m\n\u001b[1;32m    397\u001b[0m                 \u001b[0;32mraise\u001b[0m \u001b[0mGeocoderTimedOut\u001b[0m\u001b[0;34m(\u001b[0m\u001b[0;34m\"Service timed out\"\u001b[0m\u001b[0;34m)\u001b[0m\u001b[0;34m\u001b[0m\u001b[0;34m\u001b[0m\u001b[0m\n",
      "\u001b[0;31mGeocoderUnavailable\u001b[0m: HTTPSConnectionPool(host='nominatim.openstreetmap.org', port=443): Max retries exceeded with url: /search?q=Indianapolis%2C+IN&format=json&limit=1 (Caused by ReadTimeoutError(\"HTTPSConnectionPool(host='nominatim.openstreetmap.org', port=443): Read timed out. (read timeout=1)\"))"
     ]
    }
   ],
   "source": [
    "\n",
    "# Intanciar\n",
    "#stream =  Streamer(credentials['KEY'], credentials['KEY_SECRET'], credentials['TOKEN'], credentials['ACCESS_SECRET'])\n",
    "stream =  Streamer(credentials_PRO['KEY'], credentials_PRO['KEY_SECRET'], credentials_PRO['TOKEN'], credentials_PRO['ACCESS_SECRET'])\n",
    "\n",
    "#Iniciar consulta en tiempo real\n",
    "stream.statuses.filter(track=\"covid\")\n",
    "# Para poder para la consulta y luego ver los resultados debe parar el proceso manualmente, es decir interrumpirlo.\n",
    "# dando click en el boton de interrupt IPython kernel"
   ]
  },
  {
   "cell_type": "code",
   "execution_count": 15,
   "metadata": {},
   "outputs": [
    {
     "output_type": "execute_result",
     "data": {
      "text/plain": "                               date           hashtags  \\\n0    Wed Jul 08 19:43:21 +0000 2020                 []   \n1    Wed Jul 08 19:43:21 +0000 2020                 []   \n2    Wed Jul 08 19:43:21 +0000 2020                 []   \n3    Wed Jul 08 19:43:21 +0000 2020                 []   \n4    Wed Jul 08 19:43:21 +0000 2020                 []   \n..                              ...                ...   \n738  Wed Jul 08 22:08:02 +0000 2020        ['Arizona']   \n739  Wed Jul 08 22:09:07 +0000 2020  ['CubaPorLaVida']   \n740  Wed Jul 08 22:09:07 +0000 2020                 []   \n741  Wed Jul 08 22:09:07 +0000 2020                 []   \n742  Wed Jul 08 22:09:07 +0000 2020                 []   \n\n                                                  text             user  \\\n0    RT @_lilhollywood: Lord please protect me and ...        haydeee_m   \n1    RT @itsJeffTiedrich: am I understanding this c...        Z_Castro_   \n2    RT @KyleKulinski: Japan has less than 1,000 co...  Lucid_Dreamer01   \n3    RT @ApibOficial: Domingos Mahoro era president...        cianzeira   \n4    RT @Italianmike: So @HillaryClinton said she c...        JoyaMia00   \n..                                                 ...              ...   \n738  RT @Cleavon_MD: I’m an ER Doctor. I’m not send...   MicheleMThomas   \n739  RT @DiazCanelB: No one has been abandoned to t...        Alenamf19   \n740  RT @KyleKulinski: Japan has less than 1,000 co...         keithxo_   \n741  RT @itsJeffTiedrich: am I understanding this c...    jocilynvargas   \n742  Another model possibly to counter the apparent...   Pistis50264984   \n\n     verifieduser                    registeredon  followersuser  \\\n0           False  Thu Jun 21 02:02:11 +0000 2018            522   \n1           False  Mon Sep 19 21:50:36 +0000 2011            412   \n2           False  Mon Feb 28 23:38:18 +0000 2011            487   \n3           False  Wed May 09 20:12:39 +0000 2018           1411   \n4           False  Fri Jul 29 15:43:03 +0000 2016          22955   \n..            ...                             ...            ...   \n738         False  Thu Feb 26 01:36:49 +0000 2009             32   \n739         False  Tue Sep 17 16:24:19 +0000 2019           6713   \n740         False  Thu Sep 03 19:18:45 +0000 2009           6837   \n741         False  Wed Sep 28 19:03:29 +0000 2016            116   \n742         False  Sat Feb 08 10:31:44 +0000 2020             33   \n\n     followinguser  tweetsuser  favoritestweetsuser  retweet  quote  reply  \\\n0              441       34043                16572        0      0      0   \n1             1224       34883                36734        0      0      0   \n2             1729       10301                41028        0      0      0   \n3              464        6607                11253        0      0      0   \n4            19801       83405                39015        0      0      0   \n..             ...         ...                  ...      ...    ...    ...   \n738            743         414                  985        0      0      0   \n739           6233       53846                57689        0      0      0   \n740           3005      101044                39727        0      0      0   \n741            151        8833                25031        0      0      0   \n742            578        4183                 1559        0      0      0   \n\n    likes language   device         location    latitude     longitude  \n0       0       en   IPHONE              NaN        None          None  \n1       0       en   IPHONE      Phoenix, AZ  33.4484367  -112.0741417  \n2       0       en   IPHONE              NaN        None          None  \n3       0       pt  WEB APP              NaN        None          None  \n4       0       en     IPAD     Florida, USA  27.7567667   -81.4639835  \n..    ...      ...      ...              ...         ...           ...  \n738     0       en   IPHONE   Louisville, KY  38.2542376    -85.759407  \n739     0       en  ANDROID  La Habana, Cuba   23.135305   -82.3589631  \n740     0       en   IPHONE       Dallas, TX  32.7762719   -96.7968559  \n741     0       en   IPHONE              NaN        None          None  \n742     0       en  ANDROID              NaN        None          None  \n\n[743 rows x 19 columns]",
      "text/html": "<div>\n<style scoped>\n    .dataframe tbody tr th:only-of-type {\n        vertical-align: middle;\n    }\n\n    .dataframe tbody tr th {\n        vertical-align: top;\n    }\n\n    .dataframe thead th {\n        text-align: right;\n    }\n</style>\n<table border=\"1\" class=\"dataframe\">\n  <thead>\n    <tr style=\"text-align: right;\">\n      <th></th>\n      <th>date</th>\n      <th>hashtags</th>\n      <th>text</th>\n      <th>user</th>\n      <th>verifieduser</th>\n      <th>registeredon</th>\n      <th>followersuser</th>\n      <th>followinguser</th>\n      <th>tweetsuser</th>\n      <th>favoritestweetsuser</th>\n      <th>retweet</th>\n      <th>quote</th>\n      <th>reply</th>\n      <th>likes</th>\n      <th>language</th>\n      <th>device</th>\n      <th>location</th>\n      <th>latitude</th>\n      <th>longitude</th>\n    </tr>\n  </thead>\n  <tbody>\n    <tr>\n      <th>0</th>\n      <td>Wed Jul 08 19:43:21 +0000 2020</td>\n      <td>[]</td>\n      <td>RT @_lilhollywood: Lord please protect me and ...</td>\n      <td>haydeee_m</td>\n      <td>False</td>\n      <td>Thu Jun 21 02:02:11 +0000 2018</td>\n      <td>522</td>\n      <td>441</td>\n      <td>34043</td>\n      <td>16572</td>\n      <td>0</td>\n      <td>0</td>\n      <td>0</td>\n      <td>0</td>\n      <td>en</td>\n      <td>IPHONE</td>\n      <td>NaN</td>\n      <td>None</td>\n      <td>None</td>\n    </tr>\n    <tr>\n      <th>1</th>\n      <td>Wed Jul 08 19:43:21 +0000 2020</td>\n      <td>[]</td>\n      <td>RT @itsJeffTiedrich: am I understanding this c...</td>\n      <td>Z_Castro_</td>\n      <td>False</td>\n      <td>Mon Sep 19 21:50:36 +0000 2011</td>\n      <td>412</td>\n      <td>1224</td>\n      <td>34883</td>\n      <td>36734</td>\n      <td>0</td>\n      <td>0</td>\n      <td>0</td>\n      <td>0</td>\n      <td>en</td>\n      <td>IPHONE</td>\n      <td>Phoenix, AZ</td>\n      <td>33.4484367</td>\n      <td>-112.0741417</td>\n    </tr>\n    <tr>\n      <th>2</th>\n      <td>Wed Jul 08 19:43:21 +0000 2020</td>\n      <td>[]</td>\n      <td>RT @KyleKulinski: Japan has less than 1,000 co...</td>\n      <td>Lucid_Dreamer01</td>\n      <td>False</td>\n      <td>Mon Feb 28 23:38:18 +0000 2011</td>\n      <td>487</td>\n      <td>1729</td>\n      <td>10301</td>\n      <td>41028</td>\n      <td>0</td>\n      <td>0</td>\n      <td>0</td>\n      <td>0</td>\n      <td>en</td>\n      <td>IPHONE</td>\n      <td>NaN</td>\n      <td>None</td>\n      <td>None</td>\n    </tr>\n    <tr>\n      <th>3</th>\n      <td>Wed Jul 08 19:43:21 +0000 2020</td>\n      <td>[]</td>\n      <td>RT @ApibOficial: Domingos Mahoro era president...</td>\n      <td>cianzeira</td>\n      <td>False</td>\n      <td>Wed May 09 20:12:39 +0000 2018</td>\n      <td>1411</td>\n      <td>464</td>\n      <td>6607</td>\n      <td>11253</td>\n      <td>0</td>\n      <td>0</td>\n      <td>0</td>\n      <td>0</td>\n      <td>pt</td>\n      <td>WEB APP</td>\n      <td>NaN</td>\n      <td>None</td>\n      <td>None</td>\n    </tr>\n    <tr>\n      <th>4</th>\n      <td>Wed Jul 08 19:43:21 +0000 2020</td>\n      <td>[]</td>\n      <td>RT @Italianmike: So @HillaryClinton said she c...</td>\n      <td>JoyaMia00</td>\n      <td>False</td>\n      <td>Fri Jul 29 15:43:03 +0000 2016</td>\n      <td>22955</td>\n      <td>19801</td>\n      <td>83405</td>\n      <td>39015</td>\n      <td>0</td>\n      <td>0</td>\n      <td>0</td>\n      <td>0</td>\n      <td>en</td>\n      <td>IPAD</td>\n      <td>Florida, USA</td>\n      <td>27.7567667</td>\n      <td>-81.4639835</td>\n    </tr>\n    <tr>\n      <th>...</th>\n      <td>...</td>\n      <td>...</td>\n      <td>...</td>\n      <td>...</td>\n      <td>...</td>\n      <td>...</td>\n      <td>...</td>\n      <td>...</td>\n      <td>...</td>\n      <td>...</td>\n      <td>...</td>\n      <td>...</td>\n      <td>...</td>\n      <td>...</td>\n      <td>...</td>\n      <td>...</td>\n      <td>...</td>\n      <td>...</td>\n      <td>...</td>\n    </tr>\n    <tr>\n      <th>738</th>\n      <td>Wed Jul 08 22:08:02 +0000 2020</td>\n      <td>['Arizona']</td>\n      <td>RT @Cleavon_MD: I’m an ER Doctor. I’m not send...</td>\n      <td>MicheleMThomas</td>\n      <td>False</td>\n      <td>Thu Feb 26 01:36:49 +0000 2009</td>\n      <td>32</td>\n      <td>743</td>\n      <td>414</td>\n      <td>985</td>\n      <td>0</td>\n      <td>0</td>\n      <td>0</td>\n      <td>0</td>\n      <td>en</td>\n      <td>IPHONE</td>\n      <td>Louisville, KY</td>\n      <td>38.2542376</td>\n      <td>-85.759407</td>\n    </tr>\n    <tr>\n      <th>739</th>\n      <td>Wed Jul 08 22:09:07 +0000 2020</td>\n      <td>['CubaPorLaVida']</td>\n      <td>RT @DiazCanelB: No one has been abandoned to t...</td>\n      <td>Alenamf19</td>\n      <td>False</td>\n      <td>Tue Sep 17 16:24:19 +0000 2019</td>\n      <td>6713</td>\n      <td>6233</td>\n      <td>53846</td>\n      <td>57689</td>\n      <td>0</td>\n      <td>0</td>\n      <td>0</td>\n      <td>0</td>\n      <td>en</td>\n      <td>ANDROID</td>\n      <td>La Habana, Cuba</td>\n      <td>23.135305</td>\n      <td>-82.3589631</td>\n    </tr>\n    <tr>\n      <th>740</th>\n      <td>Wed Jul 08 22:09:07 +0000 2020</td>\n      <td>[]</td>\n      <td>RT @KyleKulinski: Japan has less than 1,000 co...</td>\n      <td>keithxo_</td>\n      <td>False</td>\n      <td>Thu Sep 03 19:18:45 +0000 2009</td>\n      <td>6837</td>\n      <td>3005</td>\n      <td>101044</td>\n      <td>39727</td>\n      <td>0</td>\n      <td>0</td>\n      <td>0</td>\n      <td>0</td>\n      <td>en</td>\n      <td>IPHONE</td>\n      <td>Dallas, TX</td>\n      <td>32.7762719</td>\n      <td>-96.7968559</td>\n    </tr>\n    <tr>\n      <th>741</th>\n      <td>Wed Jul 08 22:09:07 +0000 2020</td>\n      <td>[]</td>\n      <td>RT @itsJeffTiedrich: am I understanding this c...</td>\n      <td>jocilynvargas</td>\n      <td>False</td>\n      <td>Wed Sep 28 19:03:29 +0000 2016</td>\n      <td>116</td>\n      <td>151</td>\n      <td>8833</td>\n      <td>25031</td>\n      <td>0</td>\n      <td>0</td>\n      <td>0</td>\n      <td>0</td>\n      <td>en</td>\n      <td>IPHONE</td>\n      <td>NaN</td>\n      <td>None</td>\n      <td>None</td>\n    </tr>\n    <tr>\n      <th>742</th>\n      <td>Wed Jul 08 22:09:07 +0000 2020</td>\n      <td>[]</td>\n      <td>Another model possibly to counter the apparent...</td>\n      <td>Pistis50264984</td>\n      <td>False</td>\n      <td>Sat Feb 08 10:31:44 +0000 2020</td>\n      <td>33</td>\n      <td>578</td>\n      <td>4183</td>\n      <td>1559</td>\n      <td>0</td>\n      <td>0</td>\n      <td>0</td>\n      <td>0</td>\n      <td>en</td>\n      <td>ANDROID</td>\n      <td>NaN</td>\n      <td>None</td>\n      <td>None</td>\n    </tr>\n  </tbody>\n</table>\n<p>743 rows × 19 columns</p>\n</div>"
     },
     "metadata": {},
     "execution_count": 15
    }
   ],
   "source": [
    "tweets = pd.read_csv(\"work/slides/data/tweets.csv\")\n",
    "tweets"
   ]
  },
  {
   "cell_type": "code",
   "execution_count": 16,
   "metadata": {},
   "outputs": [
    {
     "output_type": "execute_result",
     "data": {
      "text/plain": "                               date           hashtags  \\\n1    Wed Jul 08 19:43:21 +0000 2020                 []   \n4    Wed Jul 08 19:43:21 +0000 2020                 []   \n6    Wed Jul 08 19:43:21 +0000 2020                 []   \n8    Wed Jul 08 19:51:43 +0000 2020                 []   \n9    Wed Jul 08 19:51:43 +0000 2020                 []   \n..                              ...                ...   \n735  Wed Jul 08 22:08:02 +0000 2020                 []   \n736  Wed Jul 08 22:08:02 +0000 2020                 []   \n738  Wed Jul 08 22:08:02 +0000 2020        ['Arizona']   \n739  Wed Jul 08 22:09:07 +0000 2020  ['CubaPorLaVida']   \n740  Wed Jul 08 22:09:07 +0000 2020                 []   \n\n                                                  text            user  \\\n1    RT @itsJeffTiedrich: am I understanding this c...       Z_Castro_   \n4    RT @Italianmike: So @HillaryClinton said she c...       JoyaMia00   \n6    RT @msaludpy: Plasma convaleciente para tratam...   Nadia_Servian   \n8    pegar covid e morrer p mim seria tudo desculpa...      _clarineax   \n9    It was never safe for your child to be in scho...   TheRoseBushes   \n..                                                 ...             ...   \n735  Top story: How accounting firms can reactivate...  Stikks_Solomon   \n736  RT @CochraneCBC: The cost of covid in fiscal s...        BCAgroup   \n738  RT @Cleavon_MD: I’m an ER Doctor. I’m not send...  MicheleMThomas   \n739  RT @DiazCanelB: No one has been abandoned to t...       Alenamf19   \n740  RT @KyleKulinski: Japan has less than 1,000 co...        keithxo_   \n\n     verifieduser                    registeredon  followersuser  \\\n1           False  Mon Sep 19 21:50:36 +0000 2011            412   \n4           False  Fri Jul 29 15:43:03 +0000 2016          22955   \n6           False  Thu Apr 11 23:52:28 +0000 2013           1372   \n8           False  Sat Dec 30 10:22:41 +0000 2017            221   \n9           False  Thu Jun 13 02:13:18 +0000 2013            836   \n..            ...                             ...            ...   \n735         False  Fri Mar 01 18:23:45 +0000 2013            287   \n736         False  Thu Oct 08 08:29:43 +0000 2009           3321   \n738         False  Thu Feb 26 01:36:49 +0000 2009             32   \n739         False  Tue Sep 17 16:24:19 +0000 2019           6713   \n740         False  Thu Sep 03 19:18:45 +0000 2009           6837   \n\n     followinguser  tweetsuser  favoritestweetsuser  retweet  quote  reply  \\\n1             1224       34883                36734        0      0      0   \n4            19801       83405                39015        0      0      0   \n6              644        8319                 1958        0      0      0   \n8              243        9634                18376        0      0      0   \n9             3763        9879                 4653        0      0      0   \n..             ...         ...                  ...      ...    ...    ...   \n735             65        8905                    7        0      0      0   \n736           3916       73459                14650        0      0      0   \n738            743         414                  985        0      0      0   \n739           6233       53846                57689        0      0      0   \n740           3005      101044                39727        0      0      0   \n\n    likes language   device              location     latitude  \\\n1       0       en   IPHONE           Phoenix, AZ   33.4484367   \n4       0       en     IPAD          Florida, USA   27.7567667   \n6       0       es   IPHONE    Asuncion, Paraguay  -25.2800459   \n8       0       pt  WEB APP        Recife, Brasil   -8.0584933   \n9       0       en  WEB APP          NE OH/ NW PA   41.1885838   \n..    ...      ...      ...                   ...          ...   \n735     0       en  WEB APP           Baldwin NY    40.6626725   \n736     0       en  ANDROID  Ajax. Ontario Canada    43.850374   \n738     0       en   IPHONE        Louisville, KY   38.2542376   \n739     0       en  ANDROID       La Habana, Cuba    23.135305   \n740     0       en   IPHONE            Dallas, TX   32.7762719   \n\n              longitude  \n1          -112.0741417  \n4           -81.4639835  \n6           -57.6343814  \n8           -34.8848193  \n9           -81.0170187  \n..                  ...  \n735  -73.61030123947955  \n736          -79.024658  \n738          -85.759407  \n739         -82.3589631  \n740         -96.7968559  \n\n[446 rows x 19 columns]",
      "text/html": "<div>\n<style scoped>\n    .dataframe tbody tr th:only-of-type {\n        vertical-align: middle;\n    }\n\n    .dataframe tbody tr th {\n        vertical-align: top;\n    }\n\n    .dataframe thead th {\n        text-align: right;\n    }\n</style>\n<table border=\"1\" class=\"dataframe\">\n  <thead>\n    <tr style=\"text-align: right;\">\n      <th></th>\n      <th>date</th>\n      <th>hashtags</th>\n      <th>text</th>\n      <th>user</th>\n      <th>verifieduser</th>\n      <th>registeredon</th>\n      <th>followersuser</th>\n      <th>followinguser</th>\n      <th>tweetsuser</th>\n      <th>favoritestweetsuser</th>\n      <th>retweet</th>\n      <th>quote</th>\n      <th>reply</th>\n      <th>likes</th>\n      <th>language</th>\n      <th>device</th>\n      <th>location</th>\n      <th>latitude</th>\n      <th>longitude</th>\n    </tr>\n  </thead>\n  <tbody>\n    <tr>\n      <th>1</th>\n      <td>Wed Jul 08 19:43:21 +0000 2020</td>\n      <td>[]</td>\n      <td>RT @itsJeffTiedrich: am I understanding this c...</td>\n      <td>Z_Castro_</td>\n      <td>False</td>\n      <td>Mon Sep 19 21:50:36 +0000 2011</td>\n      <td>412</td>\n      <td>1224</td>\n      <td>34883</td>\n      <td>36734</td>\n      <td>0</td>\n      <td>0</td>\n      <td>0</td>\n      <td>0</td>\n      <td>en</td>\n      <td>IPHONE</td>\n      <td>Phoenix, AZ</td>\n      <td>33.4484367</td>\n      <td>-112.0741417</td>\n    </tr>\n    <tr>\n      <th>4</th>\n      <td>Wed Jul 08 19:43:21 +0000 2020</td>\n      <td>[]</td>\n      <td>RT @Italianmike: So @HillaryClinton said she c...</td>\n      <td>JoyaMia00</td>\n      <td>False</td>\n      <td>Fri Jul 29 15:43:03 +0000 2016</td>\n      <td>22955</td>\n      <td>19801</td>\n      <td>83405</td>\n      <td>39015</td>\n      <td>0</td>\n      <td>0</td>\n      <td>0</td>\n      <td>0</td>\n      <td>en</td>\n      <td>IPAD</td>\n      <td>Florida, USA</td>\n      <td>27.7567667</td>\n      <td>-81.4639835</td>\n    </tr>\n    <tr>\n      <th>6</th>\n      <td>Wed Jul 08 19:43:21 +0000 2020</td>\n      <td>[]</td>\n      <td>RT @msaludpy: Plasma convaleciente para tratam...</td>\n      <td>Nadia_Servian</td>\n      <td>False</td>\n      <td>Thu Apr 11 23:52:28 +0000 2013</td>\n      <td>1372</td>\n      <td>644</td>\n      <td>8319</td>\n      <td>1958</td>\n      <td>0</td>\n      <td>0</td>\n      <td>0</td>\n      <td>0</td>\n      <td>es</td>\n      <td>IPHONE</td>\n      <td>Asuncion, Paraguay</td>\n      <td>-25.2800459</td>\n      <td>-57.6343814</td>\n    </tr>\n    <tr>\n      <th>8</th>\n      <td>Wed Jul 08 19:51:43 +0000 2020</td>\n      <td>[]</td>\n      <td>pegar covid e morrer p mim seria tudo desculpa...</td>\n      <td>_clarineax</td>\n      <td>False</td>\n      <td>Sat Dec 30 10:22:41 +0000 2017</td>\n      <td>221</td>\n      <td>243</td>\n      <td>9634</td>\n      <td>18376</td>\n      <td>0</td>\n      <td>0</td>\n      <td>0</td>\n      <td>0</td>\n      <td>pt</td>\n      <td>WEB APP</td>\n      <td>Recife, Brasil</td>\n      <td>-8.0584933</td>\n      <td>-34.8848193</td>\n    </tr>\n    <tr>\n      <th>9</th>\n      <td>Wed Jul 08 19:51:43 +0000 2020</td>\n      <td>[]</td>\n      <td>It was never safe for your child to be in scho...</td>\n      <td>TheRoseBushes</td>\n      <td>False</td>\n      <td>Thu Jun 13 02:13:18 +0000 2013</td>\n      <td>836</td>\n      <td>3763</td>\n      <td>9879</td>\n      <td>4653</td>\n      <td>0</td>\n      <td>0</td>\n      <td>0</td>\n      <td>0</td>\n      <td>en</td>\n      <td>WEB APP</td>\n      <td>NE OH/ NW PA</td>\n      <td>41.1885838</td>\n      <td>-81.0170187</td>\n    </tr>\n    <tr>\n      <th>...</th>\n      <td>...</td>\n      <td>...</td>\n      <td>...</td>\n      <td>...</td>\n      <td>...</td>\n      <td>...</td>\n      <td>...</td>\n      <td>...</td>\n      <td>...</td>\n      <td>...</td>\n      <td>...</td>\n      <td>...</td>\n      <td>...</td>\n      <td>...</td>\n      <td>...</td>\n      <td>...</td>\n      <td>...</td>\n      <td>...</td>\n      <td>...</td>\n    </tr>\n    <tr>\n      <th>735</th>\n      <td>Wed Jul 08 22:08:02 +0000 2020</td>\n      <td>[]</td>\n      <td>Top story: How accounting firms can reactivate...</td>\n      <td>Stikks_Solomon</td>\n      <td>False</td>\n      <td>Fri Mar 01 18:23:45 +0000 2013</td>\n      <td>287</td>\n      <td>65</td>\n      <td>8905</td>\n      <td>7</td>\n      <td>0</td>\n      <td>0</td>\n      <td>0</td>\n      <td>0</td>\n      <td>en</td>\n      <td>WEB APP</td>\n      <td>Baldwin NY</td>\n      <td>40.6626725</td>\n      <td>-73.61030123947955</td>\n    </tr>\n    <tr>\n      <th>736</th>\n      <td>Wed Jul 08 22:08:02 +0000 2020</td>\n      <td>[]</td>\n      <td>RT @CochraneCBC: The cost of covid in fiscal s...</td>\n      <td>BCAgroup</td>\n      <td>False</td>\n      <td>Thu Oct 08 08:29:43 +0000 2009</td>\n      <td>3321</td>\n      <td>3916</td>\n      <td>73459</td>\n      <td>14650</td>\n      <td>0</td>\n      <td>0</td>\n      <td>0</td>\n      <td>0</td>\n      <td>en</td>\n      <td>ANDROID</td>\n      <td>Ajax. Ontario Canada</td>\n      <td>43.850374</td>\n      <td>-79.024658</td>\n    </tr>\n    <tr>\n      <th>738</th>\n      <td>Wed Jul 08 22:08:02 +0000 2020</td>\n      <td>['Arizona']</td>\n      <td>RT @Cleavon_MD: I’m an ER Doctor. I’m not send...</td>\n      <td>MicheleMThomas</td>\n      <td>False</td>\n      <td>Thu Feb 26 01:36:49 +0000 2009</td>\n      <td>32</td>\n      <td>743</td>\n      <td>414</td>\n      <td>985</td>\n      <td>0</td>\n      <td>0</td>\n      <td>0</td>\n      <td>0</td>\n      <td>en</td>\n      <td>IPHONE</td>\n      <td>Louisville, KY</td>\n      <td>38.2542376</td>\n      <td>-85.759407</td>\n    </tr>\n    <tr>\n      <th>739</th>\n      <td>Wed Jul 08 22:09:07 +0000 2020</td>\n      <td>['CubaPorLaVida']</td>\n      <td>RT @DiazCanelB: No one has been abandoned to t...</td>\n      <td>Alenamf19</td>\n      <td>False</td>\n      <td>Tue Sep 17 16:24:19 +0000 2019</td>\n      <td>6713</td>\n      <td>6233</td>\n      <td>53846</td>\n      <td>57689</td>\n      <td>0</td>\n      <td>0</td>\n      <td>0</td>\n      <td>0</td>\n      <td>en</td>\n      <td>ANDROID</td>\n      <td>La Habana, Cuba</td>\n      <td>23.135305</td>\n      <td>-82.3589631</td>\n    </tr>\n    <tr>\n      <th>740</th>\n      <td>Wed Jul 08 22:09:07 +0000 2020</td>\n      <td>[]</td>\n      <td>RT @KyleKulinski: Japan has less than 1,000 co...</td>\n      <td>keithxo_</td>\n      <td>False</td>\n      <td>Thu Sep 03 19:18:45 +0000 2009</td>\n      <td>6837</td>\n      <td>3005</td>\n      <td>101044</td>\n      <td>39727</td>\n      <td>0</td>\n      <td>0</td>\n      <td>0</td>\n      <td>0</td>\n      <td>en</td>\n      <td>IPHONE</td>\n      <td>Dallas, TX</td>\n      <td>32.7762719</td>\n      <td>-96.7968559</td>\n    </tr>\n  </tbody>\n</table>\n<p>446 rows × 19 columns</p>\n</div>"
     },
     "metadata": {},
     "execution_count": 16
    }
   ],
   "source": [
    "import numpy as np\n",
    "\n",
    "rows_no_coordinates = np.where(tweets['latitude']==\"None\")[0]\n",
    "\n",
    "tweets_with_coordinates = tweets.drop(rows_no_coordinates)\n",
    "\n",
    "tweets_with_coordinates"
   ]
  },
  {
   "cell_type": "code",
   "execution_count": 17,
   "metadata": {},
   "outputs": [],
   "source": [
    "tweets_with_coordinates.to_csv(\"work/slides/data/tweetCoordinates.csv\", sep='\\t', encoding='utf-8')"
   ]
  },
  {
   "cell_type": "code",
   "execution_count": 18,
   "metadata": {
    "tags": []
   },
   "outputs": [
    {
     "output_type": "stream",
     "name": "stdout",
     "text": "Requirement already satisfied: gmplot in /opt/conda/lib/python3.7/site-packages (1.4.1)\nRequirement already satisfied: requests in /opt/conda/lib/python3.7/site-packages (from gmplot) (2.23.0)\nRequirement already satisfied: certifi>=2017.4.17 in /opt/conda/lib/python3.7/site-packages (from requests->gmplot) (2020.4.5.1)\nRequirement already satisfied: urllib3!=1.25.0,!=1.25.1,<1.26,>=1.21.1 in /opt/conda/lib/python3.7/site-packages (from requests->gmplot) (1.25.9)\nRequirement already satisfied: chardet<4,>=3.0.2 in /opt/conda/lib/python3.7/site-packages (from requests->gmplot) (3.0.4)\nRequirement already satisfied: idna<3,>=2.5 in /opt/conda/lib/python3.7/site-packages (from requests->gmplot) (2.9)\n"
    }
   ],
   "source": [
    "# Intslamos gmplot\n",
    "!pip install gmplot"
   ]
  },
  {
   "cell_type": "code",
   "execution_count": 19,
   "metadata": {},
   "outputs": [
    {
     "output_type": "execute_result",
     "data": {
      "text/plain": "1      33.448437\n4      27.756767\n6     -25.280046\n8      -8.058494\n9      41.188583\n         ...    \n735    40.662674\n736    43.850372\n738    38.254238\n739    23.135305\n740    32.776272\nName: latitude, Length: 446, dtype: float32"
     },
     "metadata": {},
     "execution_count": 19
    }
   ],
   "source": [
    "latitude = pd.to_numeric(tweets_with_coordinates[\"latitude\"], downcast=\"float\")\n",
    "longitude = pd.to_numeric(tweets_with_coordinates[\"longitude\"], downcast=\"float\")\n",
    "\n",
    "latitude"
   ]
  },
  {
   "cell_type": "code",
   "execution_count": 20,
   "metadata": {},
   "outputs": [],
   "source": [
    "import gmplot\n",
    "\n",
    "# instancia\n",
    "gmap = gmplot.GoogleMapPlotter(30,0,3)\n",
    "\n",
    "#insertar puntos en el mapa pasando una lista de coordenadas\n",
    "gmap.heatmap(latitude.tolist(), longitude.to_list(), radius=20)\n",
    "\n",
    "\n",
    "#Guardar el mapa\n",
    "gmap.draw('work/slides/heatmap.html')"
   ]
  }
 ],
 "metadata": {
  "kernelspec": {
   "display_name": "Python 3",
   "language": "python",
   "name": "python3"
  },
  "language_info": {
   "codemirror_mode": {
    "name": "ipython",
    "version": 3
   },
   "file_extension": ".py",
   "mimetype": "text/x-python",
   "name": "python",
   "nbconvert_exporter": "python",
   "pygments_lexer": "ipython3",
   "version": "3.8.2-final"
  }
 },
 "nbformat": 4,
 "nbformat_minor": 2
}