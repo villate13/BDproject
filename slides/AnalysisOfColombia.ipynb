{
 "cells": [
  {
   "cell_type": "code",
   "execution_count": null,
   "metadata": {},
   "outputs": [],
   "source": [
    "#Importamos pandas\n",
    "import pandas as pd"
   ]
  },
  {
   "cell_type": "code",
   "execution_count": null,
   "metadata": {},
   "outputs": [],
   "source": [
    "# creamos una nueva tabla de tweets de colombia\n",
    "import numpy as np\n",
    "import re\n",
    "\n",
    "tweets = pd.read_csv('/home/jovyan/work/slides/data/tweetCoordinates.csv')\n",
    "\n",
    "tweets\n",
    "\n",
    "# tweets.loc[tweets[\"location\"].str.contains('colombia', na=False, regex=True), 'iscolombia'] = True\n",
    "# tweets.loc[tweets[\"location\"].str.contains('Colombia', na=False, regex=True), 'iscolombia'] = True\n",
    "# tweets.loc[tweets[\"location\"].str.contains('COLOMBIA', na=False, regex=True), 'iscolombia'] = True\n",
    "\n",
    "tweets.loc[tweets[\"location\"].str.contains('COLOMBIA', na=False, flags=re.IGNORECASE, regex=True), 'iscolombia'] = True\n",
    "\n",
    "\n",
    "\n",
    "\n",
    "rows_no_colombia = np.where(tweets['iscolombia'] != True)[0]\n",
    "\n",
    "rows_no_colombia\n",
    "\n",
    "\n",
    "tweets_colombia = tweets.drop(rows_no_colombia)\n",
    "\n",
    "tweets_colombia\n",
    "\n",
    "\n"
   ]
  },
  {
   "cell_type": "code",
   "execution_count": null,
   "metadata": {},
   "outputs": [],
   "source": [
    "\n",
    "# Sacamos los datos que vamos a utilizar para dibujar la distribucion de tweets en Colombia\n",
    "lat = tweets_colombia['latitude'].values\n",
    "lon = tweets_colombia['longitude'].values"
   ]
  },
  {
   "cell_type": "code",
   "execution_count": null,
   "metadata": {
    "scrolled": false
   },
   "outputs": [],
   "source": [
    "# Instalamos el paquete Basemap que nos permitira visualizar el mapa de Colombia.\n",
    "# Este paso puede tardar unos minutos\n",
    "!conda install -c conda-forge basemap-data-hires --yes"
   ]
  },
  {
   "cell_type": "code",
   "execution_count": null,
   "metadata": {},
   "outputs": [],
   "source": [
    "# Se crea el entorno \"PROJ_LIB\" ya que generaba error sin este paso\n",
    "# No se debe cambiar la direccion\n",
    "import os\n",
    "\n",
    "os.environ['PROJ_LIB'] = r'c:\\Users\\username\\AppData\\Local\\conda\\conda\\envs\\envname\\Library\\share'"
   ]
  },
  {
   "cell_type": "code",
   "execution_count": null,
   "metadata": {},
   "outputs": [],
   "source": [
    "# Importamos mpl_Toolkits de basemap el cual utilzaremos para el desarrollo del mapa\n",
    "%matplotlib inline\n",
    "import matplotlib.pyplot as plt\n",
    "from mpl_toolkits.basemap import Basemap"
   ]
  },
  {
   "cell_type": "code",
   "execution_count": null,
   "metadata": {},
   "outputs": [],
   "source": [
    "# https://jakevdp.github.io/PythonDataScienceHandbook/04.13-geographic-data-with-basemap.html\n",
    "# 1. Draw the map background\n",
    "fig = plt.figure(figsize=(8, 8))\n",
    "m = Basemap(projection='lcc', resolution='h', \n",
    "            lat_0=4, lon_0=-72,\n",
    "            width=2E6, height=2E6)\n",
    "m.drawcoastlines(color='gray')\n",
    "m.drawcountries(color='red')\n",
    "m.drawstates(color='gray')\n",
    "\n",
    "# 2. scatter city data, with color reflecting population\n",
    "# and size reflecting area\n",
    "m.scatter(lon, lat, latlon=True)\n"
   ]
  }
 ],
 "metadata": {
  "kernelspec": {
   "display_name": "Python 3",
   "language": "python",
   "name": "python3"
  },
  "language_info": {
   "codemirror_mode": {
    "name": "ipython",
    "version": 3
   },
   "file_extension": ".py",
   "mimetype": "text/x-python",
   "name": "python",
   "nbconvert_exporter": "python",
   "pygments_lexer": "ipython3",
   "version": "3.7.6"
  }
 },
 "nbformat": 4,
 "nbformat_minor": 4
}
